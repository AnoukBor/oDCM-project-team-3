{
 "cells": [
  {
   "cell_type": "markdown",
   "id": "d5b6dfd0",
   "metadata": {},
   "source": [
    "## Scraping www.huizenzoeker.nl/woningmarkt/ for several municipalities in North-Brabant"
   ]
  },
  {
   "cell_type": "markdown",
   "id": "6909316b",
   "metadata": {},
   "source": [
    "### 1: Load all the basics"
   ]
  },
  {
   "cell_type": "code",
   "execution_count": 1,
   "id": "027cf859",
   "metadata": {},
   "outputs": [],
   "source": [
    "from bs4 import BeautifulSoup"
   ]
  },
  {
   "cell_type": "code",
   "execution_count": 2,
   "id": "0eb9c70d",
   "metadata": {},
   "outputs": [],
   "source": [
    "import requests"
   ]
  },
  {
   "cell_type": "code",
   "execution_count": 3,
   "id": "287b05c5",
   "metadata": {},
   "outputs": [],
   "source": [
    "import re"
   ]
  },
  {
   "cell_type": "code",
   "execution_count": 4,
   "id": "24ad1629",
   "metadata": {},
   "outputs": [],
   "source": [
    "url = 'https://www.huizenzoeker.nl/woningmarkt/noord-brabant/veldhoven/'"
   ]
  },
  {
   "cell_type": "code",
   "execution_count": 5,
   "id": "73951291",
   "metadata": {},
   "outputs": [],
   "source": [
    "res = requests.get(url)"
   ]
  },
  {
   "cell_type": "code",
   "execution_count": 6,
   "id": "3805062d",
   "metadata": {},
   "outputs": [],
   "source": [
    "soup = BeautifulSoup(res.text, 'html.parser')"
   ]
  },
  {
   "cell_type": "markdown",
   "id": "a13a8dd4",
   "metadata": {},
   "source": [
    "### 2: Collect the URLS we want to scrape from"
   ]
  },
  {
   "cell_type": "markdown",
   "id": "81756b9d",
   "metadata": {},
   "source": [
    "#### First using base_url + variable_url"
   ]
  },
  {
   "cell_type": "code",
   "execution_count": 208,
   "id": "b171cfbc",
   "metadata": {},
   "outputs": [],
   "source": [
    "base_url = 'https://www.huizenzoeker.nl/woningmarkt/' #scrape municipalities of NB"
   ]
  },
  {
   "cell_type": "code",
   "execution_count": 217,
   "id": "ec1efafc",
   "metadata": {},
   "outputs": [],
   "source": [
    "city_url = ['noord-brabant/veldhoven/','noord-brabant/best/','noord-brabant/eindhoven/']"
   ]
  },
  {
   "cell_type": "markdown",
   "id": "6f6b6835",
   "metadata": {},
   "source": [
    "##### (Next line tried to scrape all cities of Noord-Brabant (not working yet:maybe typo somewhere) )"
   ]
  },
  {
   "cell_type": "code",
   "execution_count": 209,
   "id": "5a1d2824",
   "metadata": {},
   "outputs": [],
   "source": [
    "city_url = ['noord-brabant/alphen-caam/','noord-brabant/altena/','noord-brabant/asten/','noord-brabant/baarle-nassau/','noord-brabant/bergeijk/','noord-brabant/bergen-op-zoom/','noord-brabant/bernheze/','noord-brabant/best/','noord-brabant/bladel/','noord-brabant/boekel/','noord-brabant/boxmeer/','noord-brabant/boxtel/','noord-brabant/breda/','noord-brabant/cranendonck/','noord-brabant/cuijk/','noord-brabant/deurne/','noord-brabant/dongen/','noord-brabant/drimmelen/','noord-brabant/eersel/','noord-brabant/eindhoven/','noord-brabant/etten-leur/','noord-brabant/geertruidenberg/','noord-brabant/geldrop-mierlo/','noord-brabant/gemert-bakel/','noord-brabant/gilze-en-rijen/','noord-brabant/goirle/','noord-brabant/grave/','noord-brabant/halderberge/','noord-brabant/heeze-leende/','noord-brabant/helmond/','noord-brabant/heusden/','noord-brabant/hilvarenbeek/','noord-brabant/laarbeek/','noord-brabant/landerd/','noord-brabant/loon-op-zand/','noord-brabant/meierijstad/','noord-brabant/mill-en-sint-hubert/','noord-brabant/moerdijk/','noord-brabant/nuenen,-gerwen-en-nederwetten/','noord-brabant/oirschot/','noord-brabant/oisterwijk/','noord-brabant/oosterhout/','noord-brabant/oss/','noord-brabant/reusel-de-mierden/','noord-brabant/roosendaal/','noord-brabant/rucphen/','noord-brabant/s-hertogenbosch/','noord-brabant/sint-anthonis/','noord-brabant/sint-michielsgestel/','noord-brabant/someren/','noord-brabant/son-en-breugel/','noord-brabant/steenbergen/','noord-brabant/tilburg/','noord-brabant/uden/','noord-brabant/valkenswaard/','noord-brabant/veldhoven/','noord-brabant/vught/','noord-brabant/waalre/','noord-brabant/waalwijk/','noord-brabant/woensdrecht/','noord-brabant/zundert/'] #list of municipalities in NB we want to scrape data from"
   ]
  },
  {
   "cell_type": "markdown",
   "id": "e99738d0",
   "metadata": {},
   "source": [
    "##### (From this line, everything works again if you use the first city_url = ...)"
   ]
  },
  {
   "cell_type": "code",
   "execution_count": 218,
   "id": "f601b73c",
   "metadata": {},
   "outputs": [
    {
     "name": "stdout",
     "output_type": "stream",
     "text": [
      "['noord-brabant/veldhoven/', 'noord-brabant/best/', 'noord-brabant/eindhoven/']\n"
     ]
    }
   ],
   "source": [
    "print(city_url)"
   ]
  },
  {
   "cell_type": "code",
   "execution_count": 219,
   "id": "0a0095bb",
   "metadata": {},
   "outputs": [],
   "source": [
    "def generate_page_urls(base_url,city_url): #function to generate a list of full_urls of the municipalities\n",
    "    page_urls = []\n",
    "    for i in city_url:\n",
    "        full_url = base_url + i\n",
    "        page_urls.append(full_url)\n",
    "    return page_urls"
   ]
  },
  {
   "cell_type": "code",
   "execution_count": 220,
   "id": "01a2044a",
   "metadata": {},
   "outputs": [
    {
     "data": {
      "text/plain": [
       "['https://www.huizenzoeker.nl/woningmarkt/noord-brabant/veldhoven/',\n",
       " 'https://www.huizenzoeker.nl/woningmarkt/noord-brabant/best/',\n",
       " 'https://www.huizenzoeker.nl/woningmarkt/noord-brabant/eindhoven/']"
      ]
     },
     "execution_count": 220,
     "metadata": {},
     "output_type": "execute_result"
    }
   ],
   "source": [
    "generate_page_urls(base_url,city_url)"
   ]
  },
  {
   "cell_type": "code",
   "execution_count": 221,
   "id": "cb65aca8",
   "metadata": {},
   "outputs": [],
   "source": [
    "page_urls = generate_page_urls(base_url,city_url)"
   ]
  },
  {
   "cell_type": "code",
   "execution_count": 222,
   "id": "34f6cc4a",
   "metadata": {},
   "outputs": [
    {
     "name": "stdout",
     "output_type": "stream",
     "text": [
      "['https://www.huizenzoeker.nl/woningmarkt/noord-brabant/veldhoven/', 'https://www.huizenzoeker.nl/woningmarkt/noord-brabant/best/', 'https://www.huizenzoeker.nl/woningmarkt/noord-brabant/eindhoven/']\n"
     ]
    }
   ],
   "source": [
    "print(page_urls)"
   ]
  },
  {
   "cell_type": "markdown",
   "id": "32ab07c3",
   "metadata": {},
   "source": [
    "#### Or we can scrape the links from the base_url page without constructing the URL ourselves"
   ]
  },
  {
   "cell_type": "markdown",
   "id": "e0938971",
   "metadata": {},
   "source": [
    "##### Yes, so maybe this method will work better as the other method may be more sensitive to typos when plugging in all city names.."
   ]
  },
  {
   "cell_type": "code",
   "execution_count": 225,
   "id": "d75c6ef6",
   "metadata": {},
   "outputs": [],
   "source": [
    "#insert code "
   ]
  },
  {
   "cell_type": "markdown",
   "id": "00a445f9",
   "metadata": {},
   "source": [
    "### 3: Create a dictionary with lists for each municipality with info on each quadrant of the trend data"
   ]
  },
  {
   "cell_type": "markdown",
   "id": "4207d0db",
   "metadata": {},
   "source": [
    "#### For info on the 'Gemiddelde vraagprijs' (quadrant 1)"
   ]
  },
  {
   "cell_type": "code",
   "execution_count": 223,
   "id": "906ca28c",
   "metadata": {},
   "outputs": [],
   "source": [
    "def extract_city_trends(page_urls):\n",
    "    trend_list = []\n",
    "    for page_url in page_urls:\n",
    "        res = requests.get(page_url)\n",
    "        soup = BeautifulSoup(res.text, 'html.parser')\n",
    "        city_name = soup.find_all('h2')[0].get_text()\n",
    "        city_name1 = city_name.replace('Woningmarkt','')\n",
    "        trends = soup.find_all(class_='trend-graph')[0].get_text()\n",
    "        new_trend = trends.replace('\\n','')\n",
    "        new_trend1 = trends.replace('Gem. Vraagprijs','')\n",
    "        new_trend2 = '  '.join(new_trend1.split())\n",
    "        trend_list.append({'City':city_name1, 'Gem. Vraagprijs':new_trend2})\n",
    "    return(trend_list)"
   ]
  },
  {
   "cell_type": "code",
   "execution_count": 224,
   "id": "696aa3eb",
   "metadata": {},
   "outputs": [],
   "source": [
    "gem_vraagprijs = extract_city_trends(page_urls)"
   ]
  },
  {
   "cell_type": "code",
   "execution_count": 40,
   "id": "715b50bc",
   "metadata": {},
   "outputs": [
    {
     "name": "stdout",
     "output_type": "stream",
     "text": [
      "[{'City': ' Veldhoven', 'Gem. Vraagprijs': '€  436.000  15.04%  t.o.v.  vorige  maand'}, {'City': ' Best', 'Gem. Vraagprijs': '€  345.000  -21.50%  t.o.v.  vorige  maand'}, {'City': ' Eindhoven', 'Gem. Vraagprijs': '€  339.000  -9.72%  t.o.v.  vorige  maand'}]\n"
     ]
    }
   ],
   "source": [
    "print(gem_vraagprijs)"
   ]
  },
  {
   "cell_type": "code",
   "execution_count": 68,
   "id": "2ab8e6ff",
   "metadata": {},
   "outputs": [
    {
     "data": {
      "text/html": [
       "<div>\n",
       "<style scoped>\n",
       "    .dataframe tbody tr th:only-of-type {\n",
       "        vertical-align: middle;\n",
       "    }\n",
       "\n",
       "    .dataframe tbody tr th {\n",
       "        vertical-align: top;\n",
       "    }\n",
       "\n",
       "    .dataframe thead th {\n",
       "        text-align: right;\n",
       "    }\n",
       "</style>\n",
       "<table border=\"1\" class=\"dataframe\">\n",
       "  <thead>\n",
       "    <tr style=\"text-align: right;\">\n",
       "      <th></th>\n",
       "      <th>City</th>\n",
       "      <th>Gem. Vraagprijs</th>\n",
       "    </tr>\n",
       "  </thead>\n",
       "  <tbody>\n",
       "    <tr>\n",
       "      <th>0</th>\n",
       "      <td>Veldhoven</td>\n",
       "      <td>€  436.000  15.04%  t.o.v.  vorige  maand</td>\n",
       "    </tr>\n",
       "    <tr>\n",
       "      <th>1</th>\n",
       "      <td>Best</td>\n",
       "      <td>€  345.000  -21.50%  t.o.v.  vorige  maand</td>\n",
       "    </tr>\n",
       "    <tr>\n",
       "      <th>2</th>\n",
       "      <td>Eindhoven</td>\n",
       "      <td>€  339.000  -9.72%  t.o.v.  vorige  maand</td>\n",
       "    </tr>\n",
       "  </tbody>\n",
       "</table>\n",
       "</div>"
      ],
      "text/plain": [
       "         City                             Gem. Vraagprijs\n",
       "0   Veldhoven   €  436.000  15.04%  t.o.v.  vorige  maand\n",
       "1        Best  €  345.000  -21.50%  t.o.v.  vorige  maand\n",
       "2   Eindhoven   €  339.000  -9.72%  t.o.v.  vorige  maand"
      ]
     },
     "execution_count": 68,
     "metadata": {},
     "output_type": "execute_result"
    }
   ],
   "source": [
    "pd.DataFrame(gem_vraagprijs)"
   ]
  },
  {
   "cell_type": "markdown",
   "id": "b88c076f",
   "metadata": {},
   "source": [
    "##### Now we want to have the '% change t.o.v. vorige maand' in a separate column"
   ]
  },
  {
   "cell_type": "code",
   "execution_count": 158,
   "id": "8ac33cc7",
   "metadata": {},
   "outputs": [],
   "source": [
    "def extract_city_trends(page_urls):\n",
    "    trend_list = []\n",
    "    for page_url in page_urls:\n",
    "        res = requests.get(page_url)\n",
    "        soup = BeautifulSoup(res.text, 'html.parser')\n",
    "        city_name = soup.find_all('h2')[0].get_text()\n",
    "        city_name1 = city_name.replace('Woningmarkt','')\n",
    "        trends = soup.find_all(class_='trend-graph')[0].get_text()\n",
    "        new_trend = trends.replace('\\n','')\n",
    "        new_trend1 = new_trend.replace('Gem. Vraagprijs','')\n",
    "        price,change = new_trend1.split('                ',1)\n",
    "        change1 = change.replace(' t.o.v. vorige maand            ', '')\n",
    "        trend_list.append({'City':city_name1, 'Gem. vraagprijs':price, '%Δ Vraagprijs (t.o.v vorige maand)':change1})\n",
    "    return(trend_list)"
   ]
  },
  {
   "cell_type": "code",
   "execution_count": 159,
   "id": "8cc5bf44",
   "metadata": {},
   "outputs": [],
   "source": [
    "gem_vraagprijs2 = extract_city_trends(page_urls)"
   ]
  },
  {
   "cell_type": "code",
   "execution_count": 160,
   "id": "9b5b6510",
   "metadata": {},
   "outputs": [
    {
     "data": {
      "text/html": [
       "<div>\n",
       "<style scoped>\n",
       "    .dataframe tbody tr th:only-of-type {\n",
       "        vertical-align: middle;\n",
       "    }\n",
       "\n",
       "    .dataframe tbody tr th {\n",
       "        vertical-align: top;\n",
       "    }\n",
       "\n",
       "    .dataframe thead th {\n",
       "        text-align: right;\n",
       "    }\n",
       "</style>\n",
       "<table border=\"1\" class=\"dataframe\">\n",
       "  <thead>\n",
       "    <tr style=\"text-align: right;\">\n",
       "      <th></th>\n",
       "      <th>City</th>\n",
       "      <th>Gem. vraagprijs</th>\n",
       "      <th>%Δ Vraagprijs (t.o.v vorige maand)</th>\n",
       "    </tr>\n",
       "  </thead>\n",
       "  <tbody>\n",
       "    <tr>\n",
       "      <th>0</th>\n",
       "      <td>Veldhoven</td>\n",
       "      <td>€ 436.000</td>\n",
       "      <td>15.04%</td>\n",
       "    </tr>\n",
       "    <tr>\n",
       "      <th>1</th>\n",
       "      <td>Best</td>\n",
       "      <td>€ 345.000</td>\n",
       "      <td>-21.50%</td>\n",
       "    </tr>\n",
       "    <tr>\n",
       "      <th>2</th>\n",
       "      <td>Eindhoven</td>\n",
       "      <td>€ 339.000</td>\n",
       "      <td>-9.72%</td>\n",
       "    </tr>\n",
       "  </tbody>\n",
       "</table>\n",
       "</div>"
      ],
      "text/plain": [
       "         City Gem. vraagprijs %Δ Vraagprijs (t.o.v vorige maand)\n",
       "0   Veldhoven       € 436.000                             15.04%\n",
       "1        Best       € 345.000                            -21.50%\n",
       "2   Eindhoven       € 339.000                             -9.72%"
      ]
     },
     "execution_count": 160,
     "metadata": {},
     "output_type": "execute_result"
    }
   ],
   "source": [
    "pd.DataFrame(gem_vraagprijs2)"
   ]
  },
  {
   "cell_type": "markdown",
   "id": "a7993565",
   "metadata": {},
   "source": [
    "#### For info on the 'Verkochte woningen' (quadrant 2)"
   ]
  },
  {
   "cell_type": "code",
   "execution_count": 30,
   "id": "e56f4e76",
   "metadata": {},
   "outputs": [],
   "source": [
    "def extract_city_trends1(page_urls):\n",
    "    trend_list1 = []\n",
    "    for page_url in page_urls:\n",
    "        res = requests.get(page_url)\n",
    "        soup = BeautifulSoup(res.text, 'html.parser')\n",
    "        city_name = soup.find_all('h2')[0].get_text()\n",
    "        city_name1 = city_name.replace('Woningmarkt','')\n",
    "        trends = soup.find_all(class_='trend-graph')[1].get_text()\n",
    "        new_trend = trends.replace('\\n','')\n",
    "        new_trend1 = trends.replace('Verkochte woningen','')\n",
    "        new_trend2 = '  '.join(new_trend1.split())\n",
    "        trend_list1.append({'City':city_name1, 'Verkochte woningen':new_trend2})\n",
    "    return(trend_list1)"
   ]
  },
  {
   "cell_type": "code",
   "execution_count": 41,
   "id": "b34c0089",
   "metadata": {},
   "outputs": [],
   "source": [
    "verk_woningen = extract_city_trends1(page_urls)"
   ]
  },
  {
   "cell_type": "code",
   "execution_count": 42,
   "id": "22335ccf",
   "metadata": {},
   "outputs": [
    {
     "name": "stdout",
     "output_type": "stream",
     "text": [
      "[{'City': ' Veldhoven', 'Verkochte woningen': '19  -51.28%  t.o.v.  vorige  maand'}, {'City': ' Best', 'Verkochte woningen': '8  -73.33%  t.o.v.  vorige  maand'}, {'City': ' Eindhoven', 'Verkochte woningen': '85  -59.72%  t.o.v.  vorige  maand'}]\n"
     ]
    }
   ],
   "source": [
    "print(verk_woningen)"
   ]
  },
  {
   "cell_type": "code",
   "execution_count": 67,
   "id": "401445b3",
   "metadata": {},
   "outputs": [
    {
     "data": {
      "text/html": [
       "<div>\n",
       "<style scoped>\n",
       "    .dataframe tbody tr th:only-of-type {\n",
       "        vertical-align: middle;\n",
       "    }\n",
       "\n",
       "    .dataframe tbody tr th {\n",
       "        vertical-align: top;\n",
       "    }\n",
       "\n",
       "    .dataframe thead th {\n",
       "        text-align: right;\n",
       "    }\n",
       "</style>\n",
       "<table border=\"1\" class=\"dataframe\">\n",
       "  <thead>\n",
       "    <tr style=\"text-align: right;\">\n",
       "      <th></th>\n",
       "      <th>City</th>\n",
       "      <th>Verkochte woningen</th>\n",
       "    </tr>\n",
       "  </thead>\n",
       "  <tbody>\n",
       "    <tr>\n",
       "      <th>0</th>\n",
       "      <td>Veldhoven</td>\n",
       "      <td>19  -51.28%  t.o.v.  vorige  maand</td>\n",
       "    </tr>\n",
       "    <tr>\n",
       "      <th>1</th>\n",
       "      <td>Best</td>\n",
       "      <td>8  -73.33%  t.o.v.  vorige  maand</td>\n",
       "    </tr>\n",
       "    <tr>\n",
       "      <th>2</th>\n",
       "      <td>Eindhoven</td>\n",
       "      <td>85  -59.72%  t.o.v.  vorige  maand</td>\n",
       "    </tr>\n",
       "  </tbody>\n",
       "</table>\n",
       "</div>"
      ],
      "text/plain": [
       "         City                  Verkochte woningen\n",
       "0   Veldhoven  19  -51.28%  t.o.v.  vorige  maand\n",
       "1        Best   8  -73.33%  t.o.v.  vorige  maand\n",
       "2   Eindhoven  85  -59.72%  t.o.v.  vorige  maand"
      ]
     },
     "execution_count": 67,
     "metadata": {},
     "output_type": "execute_result"
    }
   ],
   "source": [
    "pd.DataFrame(verk_woningen)"
   ]
  },
  {
   "cell_type": "markdown",
   "id": "79438d10",
   "metadata": {},
   "source": [
    "##### Now we want to have the % change t.o.v. vorige maand in a separate column "
   ]
  },
  {
   "cell_type": "code",
   "execution_count": 161,
   "id": "73bf3315",
   "metadata": {},
   "outputs": [],
   "source": [
    "def extract_city_trends1(page_urls):\n",
    "    trend_list1 = []\n",
    "    for page_url in page_urls:\n",
    "        res = requests.get(page_url)\n",
    "        soup = BeautifulSoup(res.text, 'html.parser')\n",
    "        city_name = soup.find_all('h2')[0].get_text()\n",
    "        city_name1 = city_name.replace('Woningmarkt','')\n",
    "        trends = soup.find_all(class_='trend-graph')[1].get_text()\n",
    "        new_trend = trends.replace('\\n','')\n",
    "        new_trend1 = new_trend.replace('Verkochte woningen','')\n",
    "        verkocht,change = new_trend1.split('                ',1)\n",
    "        change1 = change.replace(' t.o.v. vorige maand            ', '')\n",
    "        trend_list1.append({'City':city_name1, 'Verkochte woningen':verkocht, '%Δ Verkocht (t.o.v vorige maand)':change1})\n",
    "    return(trend_list1)"
   ]
  },
  {
   "cell_type": "code",
   "execution_count": 171,
   "id": "312cebed",
   "metadata": {},
   "outputs": [],
   "source": [
    "verk_woningen2 = extract_city_trends1(page_urls)"
   ]
  },
  {
   "cell_type": "code",
   "execution_count": 172,
   "id": "638899f8",
   "metadata": {},
   "outputs": [
    {
     "data": {
      "text/html": [
       "<div>\n",
       "<style scoped>\n",
       "    .dataframe tbody tr th:only-of-type {\n",
       "        vertical-align: middle;\n",
       "    }\n",
       "\n",
       "    .dataframe tbody tr th {\n",
       "        vertical-align: top;\n",
       "    }\n",
       "\n",
       "    .dataframe thead th {\n",
       "        text-align: right;\n",
       "    }\n",
       "</style>\n",
       "<table border=\"1\" class=\"dataframe\">\n",
       "  <thead>\n",
       "    <tr style=\"text-align: right;\">\n",
       "      <th></th>\n",
       "      <th>City</th>\n",
       "      <th>Verkochte woningen</th>\n",
       "      <th>%Δ Verkocht (t.o.v vorige maand)</th>\n",
       "    </tr>\n",
       "  </thead>\n",
       "  <tbody>\n",
       "    <tr>\n",
       "      <th>0</th>\n",
       "      <td>Veldhoven</td>\n",
       "      <td>19</td>\n",
       "      <td>-51.28%</td>\n",
       "    </tr>\n",
       "    <tr>\n",
       "      <th>1</th>\n",
       "      <td>Best</td>\n",
       "      <td>8</td>\n",
       "      <td>-73.33%</td>\n",
       "    </tr>\n",
       "    <tr>\n",
       "      <th>2</th>\n",
       "      <td>Eindhoven</td>\n",
       "      <td>85</td>\n",
       "      <td>-59.72%</td>\n",
       "    </tr>\n",
       "  </tbody>\n",
       "</table>\n",
       "</div>"
      ],
      "text/plain": [
       "         City Verkochte woningen %Δ Verkocht (t.o.v vorige maand)\n",
       "0   Veldhoven                 19                          -51.28%\n",
       "1        Best                  8                          -73.33%\n",
       "2   Eindhoven                 85                          -59.72%"
      ]
     },
     "execution_count": 172,
     "metadata": {},
     "output_type": "execute_result"
    }
   ],
   "source": [
    "pd.DataFrame(verk_woningen2)"
   ]
  },
  {
   "cell_type": "markdown",
   "id": "e96af413",
   "metadata": {},
   "source": [
    "#### For info on the 'Gem. Vierkantemeter prijs' (quadrant 3)"
   ]
  },
  {
   "cell_type": "code",
   "execution_count": 122,
   "id": "7f6f108d",
   "metadata": {},
   "outputs": [],
   "source": [
    "def extract_city_trends2(page_urls):\n",
    "    trend_list2 = []\n",
    "    for page_url in page_urls:\n",
    "        res = requests.get(page_url)\n",
    "        soup = BeautifulSoup(res.text, 'html.parser')\n",
    "        city_name = soup.find_all('h2')[0].get_text()\n",
    "        city_name1 = city_name.replace('Woningmarkt','')\n",
    "        trends = soup.find_all(class_='trend-graph')[2].get_text()\n",
    "        new_trend = trends.replace('\\n','')\n",
    "        new_trend1 = trends.replace('Gem. vierkantemeter prijs','')\n",
    "        new_trend2 = '  '.join(new_trend1.split())\n",
    "        trend_list2.append({'City':city_name1, 'Gem. m2 prijs':new_trend2})\n",
    "    return(trend_list2)"
   ]
  },
  {
   "cell_type": "code",
   "execution_count": 123,
   "id": "ab12eca1",
   "metadata": {},
   "outputs": [],
   "source": [
    "m2_prijs = extract_city_trends2(page_urls)"
   ]
  },
  {
   "cell_type": "code",
   "execution_count": 124,
   "id": "b2161193",
   "metadata": {},
   "outputs": [
    {
     "name": "stdout",
     "output_type": "stream",
     "text": [
      "[{'City': ' Veldhoven', 'Gem. m2 prijs': '€  3.557  1.05%  t.o.v.  vorige  maand'}, {'City': ' Best', 'Gem. m2 prijs': '€  2.893  -8.13%  t.o.v.  vorige  maand'}, {'City': ' Eindhoven', 'Gem. m2 prijs': '€  3.342  0.51%  t.o.v.  vorige  maand'}]\n"
     ]
    }
   ],
   "source": [
    "print(m2_prijs)"
   ]
  },
  {
   "cell_type": "code",
   "execution_count": 125,
   "id": "73080730",
   "metadata": {},
   "outputs": [
    {
     "data": {
      "text/html": [
       "<div>\n",
       "<style scoped>\n",
       "    .dataframe tbody tr th:only-of-type {\n",
       "        vertical-align: middle;\n",
       "    }\n",
       "\n",
       "    .dataframe tbody tr th {\n",
       "        vertical-align: top;\n",
       "    }\n",
       "\n",
       "    .dataframe thead th {\n",
       "        text-align: right;\n",
       "    }\n",
       "</style>\n",
       "<table border=\"1\" class=\"dataframe\">\n",
       "  <thead>\n",
       "    <tr style=\"text-align: right;\">\n",
       "      <th></th>\n",
       "      <th>City</th>\n",
       "      <th>Gem. m2 prijs</th>\n",
       "    </tr>\n",
       "  </thead>\n",
       "  <tbody>\n",
       "    <tr>\n",
       "      <th>0</th>\n",
       "      <td>Veldhoven</td>\n",
       "      <td>€  3.557  1.05%  t.o.v.  vorige  maand</td>\n",
       "    </tr>\n",
       "    <tr>\n",
       "      <th>1</th>\n",
       "      <td>Best</td>\n",
       "      <td>€  2.893  -8.13%  t.o.v.  vorige  maand</td>\n",
       "    </tr>\n",
       "    <tr>\n",
       "      <th>2</th>\n",
       "      <td>Eindhoven</td>\n",
       "      <td>€  3.342  0.51%  t.o.v.  vorige  maand</td>\n",
       "    </tr>\n",
       "  </tbody>\n",
       "</table>\n",
       "</div>"
      ],
      "text/plain": [
       "         City                            Gem. m2 prijs\n",
       "0   Veldhoven   €  3.557  1.05%  t.o.v.  vorige  maand\n",
       "1        Best  €  2.893  -8.13%  t.o.v.  vorige  maand\n",
       "2   Eindhoven   €  3.342  0.51%  t.o.v.  vorige  maand"
      ]
     },
     "execution_count": 125,
     "metadata": {},
     "output_type": "execute_result"
    }
   ],
   "source": [
    "pd.DataFrame(m2_prijs)"
   ]
  },
  {
   "cell_type": "markdown",
   "id": "f49b3abf",
   "metadata": {},
   "source": [
    "##### Now we want to have the % change t.o.v. vorige maand in a separate column"
   ]
  },
  {
   "cell_type": "code",
   "execution_count": 152,
   "id": "e20d60c9",
   "metadata": {},
   "outputs": [],
   "source": [
    "def extract_city_trends2(page_urls):\n",
    "    trend_list2 = []\n",
    "    for page_url in page_urls:\n",
    "        res = requests.get(page_url)\n",
    "        soup = BeautifulSoup(res.text, 'html.parser')\n",
    "        city_name = soup.find_all('h2')[0].get_text()\n",
    "        city_name1 = city_name.replace('Woningmarkt','')\n",
    "        trends = soup.find_all(class_='trend-graph')[2].get_text()\n",
    "        new_trend = trends.replace('\\n','')\n",
    "        new_trend1 = new_trend.replace('Gem. vierkantemeter prijs','')\n",
    "        m2prijs,change = new_trend1.split('                ',1)\n",
    "        change1 = change.replace(' t.o.v. vorige maand            ', '')\n",
    "        trend_list2.append({'City':city_name1, 'Gem. m2 prijs':m2prijs, '%Δ M2 prijs (t.o.v vorige maand)':change1})\n",
    "    return(trend_list2)"
   ]
  },
  {
   "cell_type": "code",
   "execution_count": 153,
   "id": "9560974e",
   "metadata": {},
   "outputs": [],
   "source": [
    "m2_prijs2 = extract_city_trends2(page_urls)"
   ]
  },
  {
   "cell_type": "code",
   "execution_count": 154,
   "id": "ecb1ad2f",
   "metadata": {},
   "outputs": [
    {
     "data": {
      "text/html": [
       "<div>\n",
       "<style scoped>\n",
       "    .dataframe tbody tr th:only-of-type {\n",
       "        vertical-align: middle;\n",
       "    }\n",
       "\n",
       "    .dataframe tbody tr th {\n",
       "        vertical-align: top;\n",
       "    }\n",
       "\n",
       "    .dataframe thead th {\n",
       "        text-align: right;\n",
       "    }\n",
       "</style>\n",
       "<table border=\"1\" class=\"dataframe\">\n",
       "  <thead>\n",
       "    <tr style=\"text-align: right;\">\n",
       "      <th></th>\n",
       "      <th>City</th>\n",
       "      <th>Gem. m2 prijs</th>\n",
       "      <th>%Δ M2 prijs (t.o.v vorige maand)</th>\n",
       "    </tr>\n",
       "  </thead>\n",
       "  <tbody>\n",
       "    <tr>\n",
       "      <th>0</th>\n",
       "      <td>Veldhoven</td>\n",
       "      <td>€ 3.557</td>\n",
       "      <td>1.05%</td>\n",
       "    </tr>\n",
       "    <tr>\n",
       "      <th>1</th>\n",
       "      <td>Best</td>\n",
       "      <td>€ 2.893</td>\n",
       "      <td>-8.13%</td>\n",
       "    </tr>\n",
       "    <tr>\n",
       "      <th>2</th>\n",
       "      <td>Eindhoven</td>\n",
       "      <td>€ 3.342</td>\n",
       "      <td>0.51%</td>\n",
       "    </tr>\n",
       "  </tbody>\n",
       "</table>\n",
       "</div>"
      ],
      "text/plain": [
       "         City Gem. m2 prijs %Δ M2 prijs (t.o.v vorige maand)\n",
       "0   Veldhoven       € 3.557                            1.05%\n",
       "1        Best       € 2.893                           -8.13%\n",
       "2   Eindhoven       € 3.342                            0.51%"
      ]
     },
     "execution_count": 154,
     "metadata": {},
     "output_type": "execute_result"
    }
   ],
   "source": [
    "pd.DataFrame(m2_prijs2)"
   ]
  },
  {
   "cell_type": "markdown",
   "id": "1dae1211",
   "metadata": {},
   "source": [
    "#### For info on 'Percentage overboden' (quadrant 4)"
   ]
  },
  {
   "cell_type": "code",
   "execution_count": 34,
   "id": "6b07621c",
   "metadata": {},
   "outputs": [],
   "source": [
    "def extract_city_trends3(page_urls):\n",
    "    trend_list3 = []\n",
    "    for page_url in page_urls:\n",
    "        res = requests.get(page_url)\n",
    "        soup = BeautifulSoup(res.text, 'html.parser')\n",
    "        city_name = soup.find_all('h2')[0].get_text()\n",
    "        city_name1 = city_name.replace('Woningmarkt','')\n",
    "        trends = soup.find_all(class_='trend-graph')[3].get_text()\n",
    "        new_trend = trends.replace('\\n','')\n",
    "        new_trend1 = trends.replace('Percentage overboden','')\n",
    "        new_trend2 = '  '.join(new_trend1.split())\n",
    "        trend_list3.append({'City':city_name1, 'Percentage overboden':new_trend2})\n",
    "    return(trend_list3)"
   ]
  },
  {
   "cell_type": "code",
   "execution_count": 48,
   "id": "0fd46329",
   "metadata": {},
   "outputs": [],
   "source": [
    "perc_overboden = extract_city_trends3(page_urls)"
   ]
  },
  {
   "cell_type": "code",
   "execution_count": 49,
   "id": "5f886fb1",
   "metadata": {},
   "outputs": [
    {
     "name": "stdout",
     "output_type": "stream",
     "text": [
      "[{'City': ' Veldhoven', 'Percentage overboden': '8.41%  0.01%  t.o.v.  vorige  maand'}, {'City': ' Best', 'Percentage overboden': '8.14%  -1.24%  t.o.v.  vorige  maand'}, {'City': ' Eindhoven', 'Percentage overboden': '10.31%  1.01%  t.o.v.  vorige  maand'}]\n"
     ]
    }
   ],
   "source": [
    "print(perc_overboden)"
   ]
  },
  {
   "cell_type": "code",
   "execution_count": 65,
   "id": "94c339d9",
   "metadata": {},
   "outputs": [
    {
     "data": {
      "text/html": [
       "<div>\n",
       "<style scoped>\n",
       "    .dataframe tbody tr th:only-of-type {\n",
       "        vertical-align: middle;\n",
       "    }\n",
       "\n",
       "    .dataframe tbody tr th {\n",
       "        vertical-align: top;\n",
       "    }\n",
       "\n",
       "    .dataframe thead th {\n",
       "        text-align: right;\n",
       "    }\n",
       "</style>\n",
       "<table border=\"1\" class=\"dataframe\">\n",
       "  <thead>\n",
       "    <tr style=\"text-align: right;\">\n",
       "      <th></th>\n",
       "      <th>City</th>\n",
       "      <th>Percentage overboden</th>\n",
       "    </tr>\n",
       "  </thead>\n",
       "  <tbody>\n",
       "    <tr>\n",
       "      <th>0</th>\n",
       "      <td>Veldhoven</td>\n",
       "      <td>8.41%  0.01%  t.o.v.  vorige  maand</td>\n",
       "    </tr>\n",
       "    <tr>\n",
       "      <th>1</th>\n",
       "      <td>Best</td>\n",
       "      <td>8.14%  -1.24%  t.o.v.  vorige  maand</td>\n",
       "    </tr>\n",
       "    <tr>\n",
       "      <th>2</th>\n",
       "      <td>Eindhoven</td>\n",
       "      <td>10.31%  1.01%  t.o.v.  vorige  maand</td>\n",
       "    </tr>\n",
       "  </tbody>\n",
       "</table>\n",
       "</div>"
      ],
      "text/plain": [
       "         City                  Percentage overboden\n",
       "0   Veldhoven   8.41%  0.01%  t.o.v.  vorige  maand\n",
       "1        Best  8.14%  -1.24%  t.o.v.  vorige  maand\n",
       "2   Eindhoven  10.31%  1.01%  t.o.v.  vorige  maand"
      ]
     },
     "execution_count": 65,
     "metadata": {},
     "output_type": "execute_result"
    }
   ],
   "source": [
    "pd.DataFrame(perc_overboden)"
   ]
  },
  {
   "cell_type": "markdown",
   "id": "9eba1159",
   "metadata": {},
   "source": [
    "##### Now we want to have the % change t.o.v. vorige maand in a separate column "
   ]
  },
  {
   "cell_type": "code",
   "execution_count": 155,
   "id": "92a442ba",
   "metadata": {},
   "outputs": [],
   "source": [
    "def extract_city_trends3(page_urls):\n",
    "    trend_list3 = []\n",
    "    for page_url in page_urls:\n",
    "        res = requests.get(page_url)\n",
    "        soup = BeautifulSoup(res.text, 'html.parser')\n",
    "        city_name = soup.find_all('h2')[0].get_text()\n",
    "        city_name1 = city_name.replace('Woningmarkt','')\n",
    "        trends = soup.find_all(class_='trend-graph')[3].get_text()\n",
    "        new_trend = trends.replace('\\n','')\n",
    "        new_trend1 = new_trend.replace('Percentage overboden','')\n",
    "        overboden,change = new_trend1.split('                ',1)\n",
    "        change1 = change.replace(' t.o.v. vorige maand            ', '')\n",
    "        trend_list3.append({'City':city_name1, '% Vraagprijs overboden':overboden, '%Δ Overboden (t.o.v vorige maand)': change1})\n",
    "    return(trend_list3)"
   ]
  },
  {
   "cell_type": "code",
   "execution_count": 173,
   "id": "4ef24b97",
   "metadata": {},
   "outputs": [],
   "source": [
    "perc_overboden2 = extract_city_trends3(page_urls)"
   ]
  },
  {
   "cell_type": "code",
   "execution_count": 174,
   "id": "61fe948c",
   "metadata": {},
   "outputs": [
    {
     "data": {
      "text/html": [
       "<div>\n",
       "<style scoped>\n",
       "    .dataframe tbody tr th:only-of-type {\n",
       "        vertical-align: middle;\n",
       "    }\n",
       "\n",
       "    .dataframe tbody tr th {\n",
       "        vertical-align: top;\n",
       "    }\n",
       "\n",
       "    .dataframe thead th {\n",
       "        text-align: right;\n",
       "    }\n",
       "</style>\n",
       "<table border=\"1\" class=\"dataframe\">\n",
       "  <thead>\n",
       "    <tr style=\"text-align: right;\">\n",
       "      <th></th>\n",
       "      <th>City</th>\n",
       "      <th>% Vraagprijs overboden</th>\n",
       "      <th>%Δ Overboden (t.o.v vorige maand)</th>\n",
       "    </tr>\n",
       "  </thead>\n",
       "  <tbody>\n",
       "    <tr>\n",
       "      <th>0</th>\n",
       "      <td>Veldhoven</td>\n",
       "      <td>8.41%</td>\n",
       "      <td>0.01%</td>\n",
       "    </tr>\n",
       "    <tr>\n",
       "      <th>1</th>\n",
       "      <td>Best</td>\n",
       "      <td>8.14%</td>\n",
       "      <td>-1.24%</td>\n",
       "    </tr>\n",
       "    <tr>\n",
       "      <th>2</th>\n",
       "      <td>Eindhoven</td>\n",
       "      <td>10.31%</td>\n",
       "      <td>1.01%</td>\n",
       "    </tr>\n",
       "  </tbody>\n",
       "</table>\n",
       "</div>"
      ],
      "text/plain": [
       "         City % Vraagprijs overboden %Δ Overboden (t.o.v vorige maand)\n",
       "0   Veldhoven                  8.41%                             0.01%\n",
       "1        Best                  8.14%                            -1.24%\n",
       "2   Eindhoven                 10.31%                             1.01%"
      ]
     },
     "execution_count": 174,
     "metadata": {},
     "output_type": "execute_result"
    }
   ],
   "source": [
    "pd.DataFrame(perc_overboden2)"
   ]
  },
  {
   "cell_type": "markdown",
   "id": "d5abe54c",
   "metadata": {},
   "source": [
    "### 4: Create a dictionary with lists for each municipality with info on 'Besteedbaar inkomen'"
   ]
  },
  {
   "cell_type": "markdown",
   "id": "d6933ddd",
   "metadata": {},
   "source": [
    "#### For info on 'Besteedbaar inkomen per huishouden'"
   ]
  },
  {
   "cell_type": "code",
   "execution_count": 164,
   "id": "3f6203b2",
   "metadata": {},
   "outputs": [],
   "source": [
    "def extract_besteedbaar(page_urls):\n",
    "    besteed_inkomen = []\n",
    "    for page_url in page_urls:\n",
    "        res = requests.get(page_url)\n",
    "        soup = BeautifulSoup(res.text, 'html.parser')\n",
    "        city_name = soup.find_all('h2')[0].get_text()\n",
    "        city_name1 = city_name.replace('Woningmarkt','')\n",
    "        inkomen = soup.find_all(class_='detail__income huizenzoeker-card single-value-graph-container')[0].get_text()\n",
    "        new_inkomen = inkomen.replace('\\n','')\n",
    "        new_inkomen1 = new_inkomen.replace('Besteedbaar Inkomen Per Huishouden','')\n",
    "        besteed_inkomen.append({'City':city_name1, 'Besteedbaar inkomen (per huishouden)':new_inkomen1})\n",
    "    return(besteed_inkomen)"
   ]
  },
  {
   "cell_type": "code",
   "execution_count": 165,
   "id": "cde9fc51",
   "metadata": {},
   "outputs": [],
   "source": [
    "besteed_inkomen = extract_besteedbaar(page_urls)"
   ]
  },
  {
   "cell_type": "code",
   "execution_count": 166,
   "id": "f6f95311",
   "metadata": {},
   "outputs": [
    {
     "name": "stdout",
     "output_type": "stream",
     "text": [
      "[{'City': ' Veldhoven', 'Besteedbaar inkomen (per huishouden)': '€ 42.000'}, {'City': ' Best', 'Besteedbaar inkomen (per huishouden)': '€ 44.500'}, {'City': ' Eindhoven', 'Besteedbaar inkomen (per huishouden)': '€ 31.600'}]\n"
     ]
    }
   ],
   "source": [
    "print(besteed_inkomen)"
   ]
  },
  {
   "cell_type": "code",
   "execution_count": 167,
   "id": "e557997c",
   "metadata": {},
   "outputs": [
    {
     "data": {
      "text/html": [
       "<div>\n",
       "<style scoped>\n",
       "    .dataframe tbody tr th:only-of-type {\n",
       "        vertical-align: middle;\n",
       "    }\n",
       "\n",
       "    .dataframe tbody tr th {\n",
       "        vertical-align: top;\n",
       "    }\n",
       "\n",
       "    .dataframe thead th {\n",
       "        text-align: right;\n",
       "    }\n",
       "</style>\n",
       "<table border=\"1\" class=\"dataframe\">\n",
       "  <thead>\n",
       "    <tr style=\"text-align: right;\">\n",
       "      <th></th>\n",
       "      <th>City</th>\n",
       "      <th>Besteedbaar inkomen (per huishouden)</th>\n",
       "    </tr>\n",
       "  </thead>\n",
       "  <tbody>\n",
       "    <tr>\n",
       "      <th>0</th>\n",
       "      <td>Veldhoven</td>\n",
       "      <td>€ 42.000</td>\n",
       "    </tr>\n",
       "    <tr>\n",
       "      <th>1</th>\n",
       "      <td>Best</td>\n",
       "      <td>€ 44.500</td>\n",
       "    </tr>\n",
       "    <tr>\n",
       "      <th>2</th>\n",
       "      <td>Eindhoven</td>\n",
       "      <td>€ 31.600</td>\n",
       "    </tr>\n",
       "  </tbody>\n",
       "</table>\n",
       "</div>"
      ],
      "text/plain": [
       "         City Besteedbaar inkomen (per huishouden)\n",
       "0   Veldhoven                             € 42.000\n",
       "1        Best                             € 44.500\n",
       "2   Eindhoven                             € 31.600"
      ]
     },
     "execution_count": 167,
     "metadata": {},
     "output_type": "execute_result"
    }
   ],
   "source": [
    "pd.DataFrame(besteed_inkomen) #creates a table of the data we just scraped"
   ]
  },
  {
   "cell_type": "markdown",
   "id": "42b4146f",
   "metadata": {},
   "source": [
    "### 5: Merge dictionaries by the city name"
   ]
  },
  {
   "cell_type": "markdown",
   "id": "f79a0fa2",
   "metadata": {},
   "source": [
    "##### Lets try again with the new functions"
   ]
  },
  {
   "cell_type": "code",
   "execution_count": 188,
   "id": "54a1ee09",
   "metadata": {},
   "outputs": [],
   "source": [
    "import pandas as pd"
   ]
  },
  {
   "cell_type": "code",
   "execution_count": 189,
   "id": "7ca5e798",
   "metadata": {},
   "outputs": [],
   "source": [
    "df1 = pd.DataFrame(gem_vraagprijs2).set_index('City')"
   ]
  },
  {
   "cell_type": "code",
   "execution_count": 190,
   "id": "851940b2",
   "metadata": {},
   "outputs": [],
   "source": [
    "df2 = pd.DataFrame(verk_woningen2).set_index('City')"
   ]
  },
  {
   "cell_type": "code",
   "execution_count": 177,
   "id": "8d9707ca",
   "metadata": {},
   "outputs": [],
   "source": [
    "df = df1.merge(df2, left_index=True, right_index = True) #merges gem_vraagprijs2 and verk_woningen2"
   ]
  },
  {
   "cell_type": "code",
   "execution_count": 183,
   "id": "f83f40c9",
   "metadata": {},
   "outputs": [],
   "source": [
    "full_dict = df.to_dict()"
   ]
  },
  {
   "cell_type": "code",
   "execution_count": 184,
   "id": "000a7713",
   "metadata": {},
   "outputs": [
    {
     "data": {
      "text/html": [
       "<div>\n",
       "<style scoped>\n",
       "    .dataframe tbody tr th:only-of-type {\n",
       "        vertical-align: middle;\n",
       "    }\n",
       "\n",
       "    .dataframe tbody tr th {\n",
       "        vertical-align: top;\n",
       "    }\n",
       "\n",
       "    .dataframe thead th {\n",
       "        text-align: right;\n",
       "    }\n",
       "</style>\n",
       "<table border=\"1\" class=\"dataframe\">\n",
       "  <thead>\n",
       "    <tr style=\"text-align: right;\">\n",
       "      <th></th>\n",
       "      <th>Gem. vraagprijs</th>\n",
       "      <th>%Δ Vraagprijs (t.o.v vorige maand)</th>\n",
       "      <th>Verkochte woningen</th>\n",
       "      <th>%Δ Verkocht (t.o.v vorige maand)</th>\n",
       "    </tr>\n",
       "  </thead>\n",
       "  <tbody>\n",
       "    <tr>\n",
       "      <th>Veldhoven</th>\n",
       "      <td>€ 436.000</td>\n",
       "      <td>15.04%</td>\n",
       "      <td>19</td>\n",
       "      <td>-51.28%</td>\n",
       "    </tr>\n",
       "    <tr>\n",
       "      <th>Best</th>\n",
       "      <td>€ 345.000</td>\n",
       "      <td>-21.50%</td>\n",
       "      <td>8</td>\n",
       "      <td>-73.33%</td>\n",
       "    </tr>\n",
       "    <tr>\n",
       "      <th>Eindhoven</th>\n",
       "      <td>€ 339.000</td>\n",
       "      <td>-9.72%</td>\n",
       "      <td>85</td>\n",
       "      <td>-59.72%</td>\n",
       "    </tr>\n",
       "  </tbody>\n",
       "</table>\n",
       "</div>"
      ],
      "text/plain": [
       "           Gem. vraagprijs %Δ Vraagprijs (t.o.v vorige maand)  \\\n",
       " Veldhoven       € 436.000                             15.04%   \n",
       " Best            € 345.000                            -21.50%   \n",
       " Eindhoven       € 339.000                             -9.72%   \n",
       "\n",
       "           Verkochte woningen %Δ Verkocht (t.o.v vorige maand)  \n",
       " Veldhoven                 19                          -51.28%  \n",
       " Best                       8                          -73.33%  \n",
       " Eindhoven                 85                          -59.72%  "
      ]
     },
     "execution_count": 184,
     "metadata": {},
     "output_type": "execute_result"
    }
   ],
   "source": [
    "pd.DataFrame(full_dict) #here we have the cities as rows, and the data variables as columns "
   ]
  },
  {
   "cell_type": "code",
   "execution_count": 185,
   "id": "6580e4b5",
   "metadata": {},
   "outputs": [],
   "source": [
    "new_dict = df.T.to_dict()"
   ]
  },
  {
   "cell_type": "code",
   "execution_count": 186,
   "id": "c554fe6f",
   "metadata": {},
   "outputs": [
    {
     "data": {
      "text/html": [
       "<div>\n",
       "<style scoped>\n",
       "    .dataframe tbody tr th:only-of-type {\n",
       "        vertical-align: middle;\n",
       "    }\n",
       "\n",
       "    .dataframe tbody tr th {\n",
       "        vertical-align: top;\n",
       "    }\n",
       "\n",
       "    .dataframe thead th {\n",
       "        text-align: right;\n",
       "    }\n",
       "</style>\n",
       "<table border=\"1\" class=\"dataframe\">\n",
       "  <thead>\n",
       "    <tr style=\"text-align: right;\">\n",
       "      <th></th>\n",
       "      <th>Veldhoven</th>\n",
       "      <th>Best</th>\n",
       "      <th>Eindhoven</th>\n",
       "    </tr>\n",
       "  </thead>\n",
       "  <tbody>\n",
       "    <tr>\n",
       "      <th>Gem. vraagprijs</th>\n",
       "      <td>€ 436.000</td>\n",
       "      <td>€ 345.000</td>\n",
       "      <td>€ 339.000</td>\n",
       "    </tr>\n",
       "    <tr>\n",
       "      <th>%Δ Vraagprijs (t.o.v vorige maand)</th>\n",
       "      <td>15.04%</td>\n",
       "      <td>-21.50%</td>\n",
       "      <td>-9.72%</td>\n",
       "    </tr>\n",
       "    <tr>\n",
       "      <th>Verkochte woningen</th>\n",
       "      <td>19</td>\n",
       "      <td>8</td>\n",
       "      <td>85</td>\n",
       "    </tr>\n",
       "    <tr>\n",
       "      <th>%Δ Verkocht (t.o.v vorige maand)</th>\n",
       "      <td>-51.28%</td>\n",
       "      <td>-73.33%</td>\n",
       "      <td>-59.72%</td>\n",
       "    </tr>\n",
       "  </tbody>\n",
       "</table>\n",
       "</div>"
      ],
      "text/plain": [
       "                                    Veldhoven       Best  Eindhoven\n",
       "Gem. vraagprijs                     € 436.000  € 345.000  € 339.000\n",
       "%Δ Vraagprijs (t.o.v vorige maand)     15.04%    -21.50%     -9.72%\n",
       "Verkochte woningen                         19          8         85\n",
       "%Δ Verkocht (t.o.v vorige maand)      -51.28%    -73.33%    -59.72%"
      ]
     },
     "execution_count": 186,
     "metadata": {},
     "output_type": "execute_result"
    }
   ],
   "source": [
    "pd.DataFrame(new_dict) #or have the variables as rows, and cities as columns (but the former looks better imo)"
   ]
  },
  {
   "cell_type": "markdown",
   "id": "cd0646e3",
   "metadata": {},
   "source": [
    "##### Now we want to add the other dictionaries too (merge all together) "
   ]
  },
  {
   "cell_type": "code",
   "execution_count": 191,
   "id": "3cf0983f",
   "metadata": {},
   "outputs": [],
   "source": [
    "df3 = pd.DataFrame(m2_prijs2).set_index('City')"
   ]
  },
  {
   "cell_type": "code",
   "execution_count": 193,
   "id": "8af33952",
   "metadata": {},
   "outputs": [],
   "source": [
    "df4 = pd.DataFrame(perc_overboden2).set_index('City')"
   ]
  },
  {
   "cell_type": "code",
   "execution_count": 203,
   "id": "f928730b",
   "metadata": {},
   "outputs": [],
   "source": [
    "df5 = pd.DataFrame(besteed_inkomen).set_index('City')"
   ]
  },
  {
   "cell_type": "code",
   "execution_count": 204,
   "id": "ee2bc096",
   "metadata": {},
   "outputs": [],
   "source": [
    "data_frames = [df1,df2,df3,df4,df5]"
   ]
  },
  {
   "cell_type": "code",
   "execution_count": 205,
   "id": "54a31648",
   "metadata": {},
   "outputs": [],
   "source": [
    "from functools import reduce"
   ]
  },
  {
   "cell_type": "code",
   "execution_count": 206,
   "id": "b37e0050",
   "metadata": {},
   "outputs": [],
   "source": [
    "df_merged = reduce(lambda left,right: pd.merge(left,right,on=['City'],how='outer'),data_frames)"
   ]
  },
  {
   "cell_type": "code",
   "execution_count": 207,
   "id": "8923493b",
   "metadata": {},
   "outputs": [
    {
     "data": {
      "text/html": [
       "<div>\n",
       "<style scoped>\n",
       "    .dataframe tbody tr th:only-of-type {\n",
       "        vertical-align: middle;\n",
       "    }\n",
       "\n",
       "    .dataframe tbody tr th {\n",
       "        vertical-align: top;\n",
       "    }\n",
       "\n",
       "    .dataframe thead th {\n",
       "        text-align: right;\n",
       "    }\n",
       "</style>\n",
       "<table border=\"1\" class=\"dataframe\">\n",
       "  <thead>\n",
       "    <tr style=\"text-align: right;\">\n",
       "      <th></th>\n",
       "      <th>Gem. vraagprijs</th>\n",
       "      <th>%Δ Vraagprijs (t.o.v vorige maand)</th>\n",
       "      <th>Verkochte woningen</th>\n",
       "      <th>%Δ Verkocht (t.o.v vorige maand)</th>\n",
       "      <th>Gem. m2 prijs</th>\n",
       "      <th>%Δ M2 prijs (t.o.v vorige maand)</th>\n",
       "      <th>% Vraagprijs overboden</th>\n",
       "      <th>%Δ Overboden (t.o.v vorige maand)</th>\n",
       "      <th>Besteedbaar inkomen (per huishouden)</th>\n",
       "    </tr>\n",
       "    <tr>\n",
       "      <th>City</th>\n",
       "      <th></th>\n",
       "      <th></th>\n",
       "      <th></th>\n",
       "      <th></th>\n",
       "      <th></th>\n",
       "      <th></th>\n",
       "      <th></th>\n",
       "      <th></th>\n",
       "      <th></th>\n",
       "    </tr>\n",
       "  </thead>\n",
       "  <tbody>\n",
       "    <tr>\n",
       "      <th>Veldhoven</th>\n",
       "      <td>€ 436.000</td>\n",
       "      <td>15.04%</td>\n",
       "      <td>19</td>\n",
       "      <td>-51.28%</td>\n",
       "      <td>€ 3.557</td>\n",
       "      <td>1.05%</td>\n",
       "      <td>8.41%</td>\n",
       "      <td>0.01%</td>\n",
       "      <td>€ 42.000</td>\n",
       "    </tr>\n",
       "    <tr>\n",
       "      <th>Best</th>\n",
       "      <td>€ 345.000</td>\n",
       "      <td>-21.50%</td>\n",
       "      <td>8</td>\n",
       "      <td>-73.33%</td>\n",
       "      <td>€ 2.893</td>\n",
       "      <td>-8.13%</td>\n",
       "      <td>8.14%</td>\n",
       "      <td>-1.24%</td>\n",
       "      <td>€ 44.500</td>\n",
       "    </tr>\n",
       "    <tr>\n",
       "      <th>Eindhoven</th>\n",
       "      <td>€ 339.000</td>\n",
       "      <td>-9.72%</td>\n",
       "      <td>85</td>\n",
       "      <td>-59.72%</td>\n",
       "      <td>€ 3.342</td>\n",
       "      <td>0.51%</td>\n",
       "      <td>10.31%</td>\n",
       "      <td>1.01%</td>\n",
       "      <td>€ 31.600</td>\n",
       "    </tr>\n",
       "  </tbody>\n",
       "</table>\n",
       "</div>"
      ],
      "text/plain": [
       "           Gem. vraagprijs %Δ Vraagprijs (t.o.v vorige maand)  \\\n",
       "City                                                            \n",
       " Veldhoven       € 436.000                             15.04%   \n",
       " Best            € 345.000                            -21.50%   \n",
       " Eindhoven       € 339.000                             -9.72%   \n",
       "\n",
       "           Verkochte woningen %Δ Verkocht (t.o.v vorige maand) Gem. m2 prijs  \\\n",
       "City                                                                           \n",
       " Veldhoven                 19                          -51.28%       € 3.557   \n",
       " Best                       8                          -73.33%       € 2.893   \n",
       " Eindhoven                 85                          -59.72%       € 3.342   \n",
       "\n",
       "           %Δ M2 prijs (t.o.v vorige maand) % Vraagprijs overboden  \\\n",
       "City                                                                 \n",
       " Veldhoven                            1.05%                  8.41%   \n",
       " Best                                -8.13%                  8.14%   \n",
       " Eindhoven                            0.51%                 10.31%   \n",
       "\n",
       "           %Δ Overboden (t.o.v vorige maand)  \\\n",
       "City                                           \n",
       " Veldhoven                             0.01%   \n",
       " Best                                 -1.24%   \n",
       " Eindhoven                             1.01%   \n",
       "\n",
       "           Besteedbaar inkomen (per huishouden)  \n",
       "City                                             \n",
       " Veldhoven                             € 42.000  \n",
       " Best                                  € 44.500  \n",
       " Eindhoven                             € 31.600  "
      ]
     },
     "execution_count": 207,
     "metadata": {},
     "output_type": "execute_result"
    }
   ],
   "source": [
    "df_merged #combines all data "
   ]
  },
  {
   "cell_type": "code",
   "execution_count": null,
   "id": "30249bba",
   "metadata": {},
   "outputs": [],
   "source": []
  }
 ],
 "metadata": {
  "kernelspec": {
   "display_name": "Python 3 (ipykernel)",
   "language": "python",
   "name": "python3"
  },
  "language_info": {
   "codemirror_mode": {
    "name": "ipython",
    "version": 3
   },
   "file_extension": ".py",
   "mimetype": "text/x-python",
   "name": "python",
   "nbconvert_exporter": "python",
   "pygments_lexer": "ipython3",
   "version": "3.8.8"
  }
 },
 "nbformat": 4,
 "nbformat_minor": 5
}
