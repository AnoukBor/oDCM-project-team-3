{
 "cells": [
  {
   "cell_type": "code",
   "execution_count": 232,
   "id": "c3f33d3a",
   "metadata": {},
   "outputs": [],
   "source": [
    "import requests\n",
    "from bs4 import BeautifulSoup\n",
    "\n",
    "url = 'https://www.huizenzoeker.nl/woningmarkt/Noord-Brabant/Eindhoven/Eindhoven/'\n",
    "res = requests.get(url)\n",
    "soup = BeautifulSoup(res.text, \"html.parser\")"
   ]
  },
  {
   "cell_type": "code",
   "execution_count": 233,
   "id": "d9e2ec4c",
   "metadata": {},
   "outputs": [
    {
     "data": {
      "text/plain": [
       "'10.31%'"
      ]
     },
     "execution_count": 233,
     "metadata": {},
     "output_type": "execute_result"
    }
   ],
   "source": [
    "# \"percentage overboden\" for Noord-Brabant/Eindhoven\n",
    "soup.find_all(class_=\"trend-graph-value\")[3].get_text() # or: soup.find_all('h3', attrs={'class':'trend-graph-value'})[3].get_text()"
   ]
  },
  {
   "cell_type": "code",
   "execution_count": 234,
   "id": "4e22f378",
   "metadata": {},
   "outputs": [
    {
     "name": "stdout",
     "output_type": "stream",
     "text": [
      "[{'€\\xa0350.000', 'Gem. Vraagprijs'}, {'81', 'Verkochte woningen'}, {'Gem. vierkantemeter prijs', '€\\xa03.158'}, {'10.31%', 'Percentage overboden'}]\n"
     ]
    }
   ],
   "source": [
    "# all trends for Eindhoven\n",
    "eindhoven_cijfers_trends=soup.find_all('div', class_=\"trend-graph\")\n",
    "\n",
    "eindhoven_trends = []\n",
    "\n",
    "for graph in eindhoven_cijfers_trends:\n",
    "    trends_title = graph.find('h4').get_text()\n",
    "    trends = graph.find('h3').get_text()\n",
    "    eindhoven_trends.append({trends_title,\n",
    "                             trends})\n",
    "\n",
    "print(eindhoven_trends)"
   ]
  },
  {
   "cell_type": "code",
   "execution_count": 244,
   "id": "8ac18553",
   "metadata": {},
   "outputs": [
    {
     "name": "stdout",
     "output_type": "stream",
     "text": [
      "Besteedbaar Inkomen Per Huishouden:\n"
     ]
    },
    {
     "data": {
      "text/plain": [
       "'€ 31.600'"
      ]
     },
     "execution_count": 244,
     "metadata": {},
     "output_type": "execute_result"
    }
   ],
   "source": [
    "# Besteedbaar inkomen\n",
    "eindhoven_graphs=soup.find('div', class_='detail__income huizenzoeker-card single-value-graph-container')\n",
    "\n",
    "print(\"Besteedbaar Inkomen Per Huishouden:\") \n",
    "eindhoven_graphs.find('span', attrs={'class':\"large-text\"}).get_text()"
   ]
  },
  {
   "cell_type": "code",
   "execution_count": 248,
   "id": "11abc043",
   "metadata": {},
   "outputs": [
    {
     "data": {
      "text/plain": [
       "<canvas class=\"graph-canvas pie\" height=\"100px\" id=\"age-average-canvas\" width=\"100px\"></canvas>"
      ]
     },
     "execution_count": 248,
     "metadata": {},
     "output_type": "execute_result"
    }
   ],
   "source": [
    "# Leeftijdverdeling (ik krijg deze nog niet gescraped omdat dit een chart is)\n",
    "eindhoven_leeftijdsverdeling=soup.find('div', class_='buurt-graphs')\n",
    "eindhoven_leeftijdsverdeling.find('canvas', attrs={'class':\"graph-canvas pie\"})"
   ]
  },
  {
   "cell_type": "code",
   "execution_count": 265,
   "id": "3f7a6fda",
   "metadata": {},
   "outputs": [],
   "source": [
    "# gluren bij de buren (duurste huizen in Eindhoven)\n",
    "url = \"https://www.huizenzoeker.nl/koop/noord-brabant/eindhoven/eindhoven/?sort=priceDesc&status=For+Sale&priceMin=0&priceMax=5000000&x=5.452785704214956&y=51.44858844867782&zoom=11\"\n",
    "res = requests.get(url)\n",
    "soup = BeautifulSoup(res.text, \"html.parser\")\n",
    "\n",
    "#(..)"
   ]
  }
 ],
 "metadata": {
  "kernelspec": {
   "display_name": "Python 3",
   "language": "python",
   "name": "python3"
  },
  "language_info": {
   "codemirror_mode": {
    "name": "ipython",
    "version": 3
   },
   "file_extension": ".py",
   "mimetype": "text/x-python",
   "name": "python",
   "nbconvert_exporter": "python",
   "pygments_lexer": "ipython3",
   "version": "3.8.8"
  }
 },
 "nbformat": 4,
 "nbformat_minor": 5
}
