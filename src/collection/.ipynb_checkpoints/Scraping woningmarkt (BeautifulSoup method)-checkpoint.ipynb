{
 "cells": [
  {
   "cell_type": "markdown",
   "id": "d5b6dfd0",
   "metadata": {},
   "source": [
    "# Scraping www.huizenzoeker.nl/woningmarkt/ for all municipalities in the Netherlands"
   ]
  },
  {
   "cell_type": "markdown",
   "id": "0816b448",
   "metadata": {},
   "source": [
    "### ODCM project - Team 3 "
   ]
  },
  {
   "cell_type": "markdown",
   "id": "f1722c53",
   "metadata": {},
   "source": [
    "Which municipalities in the Netherlands are hit hardest by the Dutch Housing crisis, and which the least? \n",
    "We use the site www.huizenzoeker.nl/woningmarkt/ to analyse the Dutch Housing Market, including the gem. vraagprijs, # verkochte woningen, gem. vierkante meter prijs, % overboden. "
   ]
  },
  {
   "cell_type": "markdown",
   "id": "6909316b",
   "metadata": {},
   "source": [
    "## Step 1: Loading all the basics"
   ]
  },
  {
   "cell_type": "markdown",
   "id": "eba9f6b7",
   "metadata": {},
   "source": [
    "Here we import the packages we will use. Set the url, request the url and set the html.parser."
   ]
  },
  {
   "cell_type": "code",
   "execution_count": 3,
   "id": "027cf859",
   "metadata": {},
   "outputs": [],
   "source": [
    "#import the packages (after you have installed them properly)\n",
    "from bs4 import BeautifulSoup\n",
    "import requests\n",
    "import re\n",
    "import pandas as pd \n",
    "from functools import reduce"
   ]
  },
  {
   "cell_type": "code",
   "execution_count": 4,
   "id": "24ad1629",
   "metadata": {},
   "outputs": [],
   "source": [
    "#set the basis for BeautifulSoup \n",
    "url = 'https://www.huizenzoeker.nl/woningmarkt/noord-brabant/veldhoven/'\n",
    "res = requests.get(url)\n",
    "soup = BeautifulSoup(res.text, 'html.parser')"
   ]
  },
  {
   "cell_type": "markdown",
   "id": "a13a8dd4",
   "metadata": {},
   "source": [
    "## Step 2: Collecting the URLs "
   ]
  },
  {
   "cell_type": "markdown",
   "id": "929466fd",
   "metadata": {},
   "source": [
    "Here we generate a base_url which is the same for all municipalities, for all provinces of the Netherlands. Then we generate a city_url for the specific province and the municipality in that province. "
   ]
  },
  {
   "cell_type": "code",
   "execution_count": 5,
   "id": "b171cfbc",
   "metadata": {},
   "outputs": [],
   "source": [
    "base_url = 'https://www.huizenzoeker.nl/woningmarkt/' "
   ]
  },
  {
   "cell_type": "markdown",
   "id": "8f8dd1b4",
   "metadata": {},
   "source": [
    "**Noord-Brabant URLS**"
   ]
  },
  {
   "cell_type": "markdown",
   "id": "b02d4057",
   "metadata": {},
   "source": [
    "The first city_url is used to test out the code (less time-consuming), and the second city_url already works for all municipalities and is used for the end-product. "
   ]
  },
  {
   "cell_type": "code",
   "execution_count": 6,
   "id": "f9b4e75e",
   "metadata": {},
   "outputs": [],
   "source": [
    "city_url = ['noord-brabant/veldhoven/','noord-brabant/best/','noord-brabant/eindhoven/'] #to test out the code (less time-consuming)"
   ]
  },
  {
   "cell_type": "code",
   "execution_count": 7,
   "id": "77435c01",
   "metadata": {},
   "outputs": [],
   "source": [
    "city_url = ['noord-brabant/alphen-chaam/','noord-brabant/altena/', 'noord-brabant/asten/','noord-brabant/baarle-nassau/','noord-brabant/bergeijk/','noord-brabant/bergen-op-zoom/','noord-brabant/bernheze/','noord-brabant/best/','noord-brabant/bladel/','noord-brabant/boekel/','noord-brabant/boxmeer/','noord-brabant/boxtel/','noord-brabant/breda/','noord-brabant/cranendonck/','noord-brabant/cuijk/','noord-brabant/deurne/','noord-brabant/dongen/','noord-brabant/drimmelen/','noord-brabant/eersel/','noord-brabant/eindhoven/','noord-brabant/etten-leur/','noord-brabant/geertruidenberg/','noord-brabant/geldrop-mierlo/','noord-brabant/gemert-bakel/','noord-brabant/gilze-en-rijen/','noord-brabant/goirle/','noord-brabant/grave/','noord-brabant/halderberge/','noord-brabant/heeze-leende/','noord-brabant/helmond/','noord-brabant/heusden/','noord-brabant/hilvarenbeek/', 'noord-brabant/laarbeek/','noord-brabant/landerd/','noord-brabant/loon-op-zand/','noord-brabant/meierijstad/','noord-brabant/mill-en-sint-hubert/','noord-brabant/moerdijk/','noord-brabant/nuenen,-gerwen-en-nederwetten/','noord-brabant/oirschot/','noord-brabant/oisterwijk/','noord-brabant/oosterhout/','noord-brabant/oss/','noord-brabant/reusel-de-mierden/','noord-brabant/roosendaal/','noord-brabant/rucphen/','noord-brabant/s-hertogenbosch/','noord-brabant/sint-anthonis/','noord-brabant/sint-michielsgestel/','noord-brabant/someren/','noord-brabant/son-en-breugel/','noord-brabant/steenbergen/','noord-brabant/tilburg/','noord-brabant/uden/','noord-brabant/valkenswaard/','noord-brabant/veldhoven/','noord-brabant/vught/','noord-brabant/waalre/','noord-brabant/waalwijk/','noord-brabant/woensdrecht/','noord-brabant/zundert/']"
   ]
  },
  {
   "cell_type": "markdown",
   "id": "cc76b1eb",
   "metadata": {},
   "source": [
    "We define a function 'generate_page_urls' to paste together the base_url and city_url, for every municipality in NB, into a complete URL. "
   ]
  },
  {
   "cell_type": "code",
   "execution_count": 8,
   "id": "0a0095bb",
   "metadata": {},
   "outputs": [],
   "source": [
    "def generate_page_urls(base_url,city_url):\n",
    "    page_urls = []\n",
    "    for i in city_url:\n",
    "        full_url = base_url + i\n",
    "        page_urls.append(full_url)\n",
    "    return page_urls"
   ]
  },
  {
   "cell_type": "code",
   "execution_count": 9,
   "id": "cb65aca8",
   "metadata": {},
   "outputs": [
    {
     "name": "stdout",
     "output_type": "stream",
     "text": [
      "['https://www.huizenzoeker.nl/woningmarkt/noord-brabant/alphen-chaam/', 'https://www.huizenzoeker.nl/woningmarkt/noord-brabant/altena/', 'https://www.huizenzoeker.nl/woningmarkt/noord-brabant/asten/', 'https://www.huizenzoeker.nl/woningmarkt/noord-brabant/baarle-nassau/', 'https://www.huizenzoeker.nl/woningmarkt/noord-brabant/bergeijk/', 'https://www.huizenzoeker.nl/woningmarkt/noord-brabant/bergen-op-zoom/', 'https://www.huizenzoeker.nl/woningmarkt/noord-brabant/bernheze/', 'https://www.huizenzoeker.nl/woningmarkt/noord-brabant/best/', 'https://www.huizenzoeker.nl/woningmarkt/noord-brabant/bladel/', 'https://www.huizenzoeker.nl/woningmarkt/noord-brabant/boekel/', 'https://www.huizenzoeker.nl/woningmarkt/noord-brabant/boxmeer/', 'https://www.huizenzoeker.nl/woningmarkt/noord-brabant/boxtel/', 'https://www.huizenzoeker.nl/woningmarkt/noord-brabant/breda/', 'https://www.huizenzoeker.nl/woningmarkt/noord-brabant/cranendonck/', 'https://www.huizenzoeker.nl/woningmarkt/noord-brabant/cuijk/', 'https://www.huizenzoeker.nl/woningmarkt/noord-brabant/deurne/', 'https://www.huizenzoeker.nl/woningmarkt/noord-brabant/dongen/', 'https://www.huizenzoeker.nl/woningmarkt/noord-brabant/drimmelen/', 'https://www.huizenzoeker.nl/woningmarkt/noord-brabant/eersel/', 'https://www.huizenzoeker.nl/woningmarkt/noord-brabant/eindhoven/', 'https://www.huizenzoeker.nl/woningmarkt/noord-brabant/etten-leur/', 'https://www.huizenzoeker.nl/woningmarkt/noord-brabant/geertruidenberg/', 'https://www.huizenzoeker.nl/woningmarkt/noord-brabant/geldrop-mierlo/', 'https://www.huizenzoeker.nl/woningmarkt/noord-brabant/gemert-bakel/', 'https://www.huizenzoeker.nl/woningmarkt/noord-brabant/gilze-en-rijen/', 'https://www.huizenzoeker.nl/woningmarkt/noord-brabant/goirle/', 'https://www.huizenzoeker.nl/woningmarkt/noord-brabant/grave/', 'https://www.huizenzoeker.nl/woningmarkt/noord-brabant/halderberge/', 'https://www.huizenzoeker.nl/woningmarkt/noord-brabant/heeze-leende/', 'https://www.huizenzoeker.nl/woningmarkt/noord-brabant/helmond/', 'https://www.huizenzoeker.nl/woningmarkt/noord-brabant/heusden/', 'https://www.huizenzoeker.nl/woningmarkt/noord-brabant/hilvarenbeek/', 'https://www.huizenzoeker.nl/woningmarkt/noord-brabant/laarbeek/', 'https://www.huizenzoeker.nl/woningmarkt/noord-brabant/landerd/', 'https://www.huizenzoeker.nl/woningmarkt/noord-brabant/loon-op-zand/', 'https://www.huizenzoeker.nl/woningmarkt/noord-brabant/meierijstad/', 'https://www.huizenzoeker.nl/woningmarkt/noord-brabant/mill-en-sint-hubert/', 'https://www.huizenzoeker.nl/woningmarkt/noord-brabant/moerdijk/', 'https://www.huizenzoeker.nl/woningmarkt/noord-brabant/nuenen,-gerwen-en-nederwetten/', 'https://www.huizenzoeker.nl/woningmarkt/noord-brabant/oirschot/', 'https://www.huizenzoeker.nl/woningmarkt/noord-brabant/oisterwijk/', 'https://www.huizenzoeker.nl/woningmarkt/noord-brabant/oosterhout/', 'https://www.huizenzoeker.nl/woningmarkt/noord-brabant/oss/', 'https://www.huizenzoeker.nl/woningmarkt/noord-brabant/reusel-de-mierden/', 'https://www.huizenzoeker.nl/woningmarkt/noord-brabant/roosendaal/', 'https://www.huizenzoeker.nl/woningmarkt/noord-brabant/rucphen/', 'https://www.huizenzoeker.nl/woningmarkt/noord-brabant/s-hertogenbosch/', 'https://www.huizenzoeker.nl/woningmarkt/noord-brabant/sint-anthonis/', 'https://www.huizenzoeker.nl/woningmarkt/noord-brabant/sint-michielsgestel/', 'https://www.huizenzoeker.nl/woningmarkt/noord-brabant/someren/', 'https://www.huizenzoeker.nl/woningmarkt/noord-brabant/son-en-breugel/', 'https://www.huizenzoeker.nl/woningmarkt/noord-brabant/steenbergen/', 'https://www.huizenzoeker.nl/woningmarkt/noord-brabant/tilburg/', 'https://www.huizenzoeker.nl/woningmarkt/noord-brabant/uden/', 'https://www.huizenzoeker.nl/woningmarkt/noord-brabant/valkenswaard/', 'https://www.huizenzoeker.nl/woningmarkt/noord-brabant/veldhoven/', 'https://www.huizenzoeker.nl/woningmarkt/noord-brabant/vught/', 'https://www.huizenzoeker.nl/woningmarkt/noord-brabant/waalre/', 'https://www.huizenzoeker.nl/woningmarkt/noord-brabant/waalwijk/', 'https://www.huizenzoeker.nl/woningmarkt/noord-brabant/woensdrecht/', 'https://www.huizenzoeker.nl/woningmarkt/noord-brabant/zundert/']\n"
     ]
    }
   ],
   "source": [
    "page_urls = generate_page_urls(base_url,city_url) #use the function on the base_url and city_url \n",
    "print(page_urls) #show that it has worked"
   ]
  },
  {
   "cell_type": "markdown",
   "id": "00a445f9",
   "metadata": {},
   "source": [
    "## Step 3a: Gather all data for all municipalities: Trend data"
   ]
  },
  {
   "cell_type": "markdown",
   "id": "3250b036",
   "metadata": {},
   "source": [
    "For each municipality we now extract the gem. vraagprijs, verkochte woningen, gem.vierkantemeter prijs, % overboden (and how these numbers how changed t.o.v. vorige maand)."
   ]
  },
  {
   "cell_type": "markdown",
   "id": "4207d0db",
   "metadata": {},
   "source": [
    "### Gemiddelde vraagprijs (Quadrant 1 Trend data)"
   ]
  },
  {
   "cell_type": "markdown",
   "id": "1548e609",
   "metadata": {},
   "source": [
    "Extract the gemiddelde vraagprijs, and its % change t.o.v. vorige maand. "
   ]
  },
  {
   "cell_type": "markdown",
   "id": "4c0ead0b",
   "metadata": {},
   "source": [
    "**Noord-Brabant data**"
   ]
  },
  {
   "cell_type": "markdown",
   "id": "052de93e",
   "metadata": {},
   "source": [
    "We generate a function extract_city_trends that will extract the data of the first quadrant for all municipalities. We adjusted the function to put the % change t.o.v. last month in a seperate column (which looks better in the pandas dataframe, and makes it easier to analyse the data). "
   ]
  },
  {
   "cell_type": "code",
   "execution_count": 10,
   "id": "8ac33cc7",
   "metadata": {},
   "outputs": [],
   "source": [
    "def extract_city_trends(page_urls):\n",
    "    trend_list = []\n",
    "    for page_url in page_urls:\n",
    "        res = requests.get(page_url) #HERE WAS A FEEDBACK UPDATE: using driver.get(page_url) instead, and adding time.sleep(5), but I think that maybe only applies to the Selenium solution so that wasn't implemented here!!\n",
    "        soup = BeautifulSoup(res.text, 'html.parser')\n",
    "        city_name = soup.find_all('h2')[0].get_text()\n",
    "        city_name1 = city_name.replace('Woningmarkt','')\n",
    "        trends = soup.find_all(class_='trend-graph')[0].get_text()\n",
    "        new_trend = trends.replace('\\n','')\n",
    "        new_trend1 = new_trend.replace('Gem. Vraagprijs','')\n",
    "        price,change = new_trend1.split('                ',1)\n",
    "        change1 = change.replace(' t.o.v. vorige maand            ', '')\n",
    "        trend_list.append({'City':city_name1, 'Gem. vraagprijs':price, '%Δ Vraagprijs (t.o.v vorige maand)':change1})\n",
    "    return(trend_list)"
   ]
  },
  {
   "cell_type": "code",
   "execution_count": 11,
   "id": "8cc5bf44",
   "metadata": {},
   "outputs": [
    {
     "name": "stdout",
     "output_type": "stream",
     "text": [
      "[{'City': ' Alphen-Chaam', 'Gem. vraagprijs': '€\\xa0304.500', '%Δ Vraagprijs (t.o.v vorige maand)': '-18.69%'}, {'City': ' Altena', 'Gem. vraagprijs': '€\\xa0349.000', '%Δ Vraagprijs (t.o.v vorige maand)': '-8.16%'}, {'City': ' Asten', 'Gem. vraagprijs': '€\\xa0465.000', '%Δ Vraagprijs (t.o.v vorige maand)': '27.40%'}, {'City': ' Baarle-Nassau', 'Gem. vraagprijs': '€\\xa0389.000', '%Δ Vraagprijs (t.o.v vorige maand)': '21.56%'}, {'City': ' Bergeijk', 'Gem. vraagprijs': '€\\xa0325.000', '%Δ Vraagprijs (t.o.v vorige maand)': '-17.72%'}, {'City': ' Bergen op Zoom', 'Gem. vraagprijs': '€\\xa0286.000', '%Δ Vraagprijs (t.o.v vorige maand)': '-11.04%'}, {'City': ' Bernheze', 'Gem. vraagprijs': '€\\xa0325.000', '%Δ Vraagprijs (t.o.v vorige maand)': '-28.88%'}, {'City': ' Best', 'Gem. vraagprijs': '€\\xa0345.000', '%Δ Vraagprijs (t.o.v vorige maand)': '-21.50%'}, {'City': ' Bladel', 'Gem. vraagprijs': '€\\xa0320.000', '%Δ Vraagprijs (t.o.v vorige maand)': '-20.00%'}, {'City': ' Boekel', 'Gem. vraagprijs': '€\\xa0335.000', '%Δ Vraagprijs (t.o.v vorige maand)': '-6.29%'}, {'City': ' Boxmeer', 'Gem. vraagprijs': '€\\xa0425.000', '%Δ Vraagprijs (t.o.v vorige maand)': '34.92%'}, {'City': ' Boxtel', 'Gem. vraagprijs': '€\\xa0395.000', '%Δ Vraagprijs (t.o.v vorige maand)': '6.76%'}, {'City': ' Breda', 'Gem. vraagprijs': '€\\xa0380.000', '%Δ Vraagprijs (t.o.v vorige maand)': '4.11%'}, {'City': ' Cranendonck', 'Gem. vraagprijs': '€\\xa0269.000', '%Δ Vraagprijs (t.o.v vorige maand)': '-15.87%'}, {'City': ' Cuijk', 'Gem. vraagprijs': '€\\xa0332.000', '%Δ Vraagprijs (t.o.v vorige maand)': '28.19%'}, {'City': ' Deurne', 'Gem. vraagprijs': '€\\xa0284.500', '%Δ Vraagprijs (t.o.v vorige maand)': '-18.13%'}, {'City': ' Dongen', 'Gem. vraagprijs': '€\\xa0320.000', '%Δ Vraagprijs (t.o.v vorige maand)': '6.67%'}, {'City': ' Drimmelen', 'Gem. vraagprijs': '€\\xa0305.000', '%Δ Vraagprijs (t.o.v vorige maand)': '-10.29%'}, {'City': ' Eersel', 'Gem. vraagprijs': '€\\xa0474.250', '%Δ Vraagprijs (t.o.v vorige maand)': '-5.15%'}, {'City': ' Eindhoven', 'Gem. vraagprijs': '€\\xa0339.250', '%Δ Vraagprijs (t.o.v vorige maand)': '-10.84%'}, {'City': ' Etten-Leur', 'Gem. vraagprijs': '€\\xa0350.000', '%Δ Vraagprijs (t.o.v vorige maand)': '-9.09%'}, {'City': ' Geertruidenberg', 'Gem. vraagprijs': '€\\xa0262.000', '%Δ Vraagprijs (t.o.v vorige maand)': '-10.27%'}, {'City': ' Geldrop-Mierlo', 'Gem. vraagprijs': '€\\xa0375.000', '%Δ Vraagprijs (t.o.v vorige maand)': '15.38%'}, {'City': ' Gemert-Bakel', 'Gem. vraagprijs': '€\\xa0391.500', '%Δ Vraagprijs (t.o.v vorige maand)': '26.70%'}, {'City': ' Gilze en Rijen', 'Gem. vraagprijs': '€\\xa0289.000', '%Δ Vraagprijs (t.o.v vorige maand)': '-26.65%'}, {'City': ' Goirle', 'Gem. vraagprijs': '€\\xa0315.000', '%Δ Vraagprijs (t.o.v vorige maand)': '-16.00%'}, {'City': ' Grave', 'Gem. vraagprijs': '€\\xa0239.000', '%Δ Vraagprijs (t.o.v vorige maand)': '-32.68%'}, {'City': ' Halderberge', 'Gem. vraagprijs': '€\\xa0339.500', '%Δ Vraagprijs (t.o.v vorige maand)': '0.74%'}, {'City': ' Heeze-Leende', 'Gem. vraagprijs': '€\\xa0350.000', '%Δ Vraagprijs (t.o.v vorige maand)': '0.00%'}, {'City': ' Helmond', 'Gem. vraagprijs': '€\\xa0300.000', '%Δ Vraagprijs (t.o.v vorige maand)': '-7.55%'}, {'City': ' Heusden', 'Gem. vraagprijs': '€\\xa0392.000', '%Δ Vraagprijs (t.o.v vorige maand)': '-0.13%'}, {'City': ' Hilvarenbeek', 'Gem. vraagprijs': '€\\xa0425.000', '%Δ Vraagprijs (t.o.v vorige maand)': '-4.49%'}, {'City': ' Laarbeek', 'Gem. vraagprijs': '€\\xa0332.000', '%Δ Vraagprijs (t.o.v vorige maand)': '-12.40%'}, {'City': ' Landerd', 'Gem. vraagprijs': '€\\xa0325.000', '%Δ Vraagprijs (t.o.v vorige maand)': '-45.38%'}, {'City': ' Loon op Zand', 'Gem. vraagprijs': '€\\xa02.062.500', '%Δ Vraagprijs (t.o.v vorige maand)': '450.00%'}, {'City': ' Meierijstad', 'Gem. vraagprijs': '€\\xa0325.000', '%Δ Vraagprijs (t.o.v vorige maand)': '-6.88%'}, {'City': ' Mill en Sint Hubert', 'Gem. vraagprijs': '€\\xa0300.000', '%Δ Vraagprijs (t.o.v vorige maand)': '-36.78%'}, {'City': ' Moerdijk', 'Gem. vraagprijs': '€\\xa0300.000', '%Δ Vraagprijs (t.o.v vorige maand)': '-3.85%'}, {'City': ' Nuenen, Gerwen en Nederwetten', 'Gem. vraagprijs': '€\\xa0367.500', '%Δ Vraagprijs (t.o.v vorige maand)': '-15.52%'}, {'City': ' Oirschot', 'Gem. vraagprijs': '€\\xa0600.000', '%Δ Vraagprijs (t.o.v vorige maand)': '21.21%'}, {'City': ' Oisterwijk', 'Gem. vraagprijs': '€\\xa0450.000', '%Δ Vraagprijs (t.o.v vorige maand)': '11.11%'}, {'City': ' Oosterhout', 'Gem. vraagprijs': '€\\xa0389.000', '%Δ Vraagprijs (t.o.v vorige maand)': '21.94%'}, {'City': ' Oss', 'Gem. vraagprijs': '€\\xa0374.750', '%Δ Vraagprijs (t.o.v vorige maand)': '15.31%'}, {'City': ' Reusel-De Mierden', 'Gem. vraagprijs': '€\\xa0320.000', '%Δ Vraagprijs (t.o.v vorige maand)': '-12.81%'}, {'City': ' Roosendaal', 'Gem. vraagprijs': '€\\xa0252.250', '%Δ Vraagprijs (t.o.v vorige maand)': '-11.49%'}, {'City': ' Rucphen', 'Gem. vraagprijs': '€\\xa0400.000', '%Δ Vraagprijs (t.o.v vorige maand)': '16.79%'}, {'City': \" 's-Hertogenbosch\", 'Gem. vraagprijs': '€\\xa0350.000', '%Δ Vraagprijs (t.o.v vorige maand)': '-7.89%'}, {'City': ' Sint Anthonis', 'Gem. vraagprijs': '€\\xa0462.500', '%Δ Vraagprijs (t.o.v vorige maand)': '46.83%'}, {'City': ' Sint-Michielsgestel', 'Gem. vraagprijs': '€\\xa0435.000', '%Δ Vraagprijs (t.o.v vorige maand)': '0.69%'}, {'City': ' Someren', 'Gem. vraagprijs': '€\\xa0360.000', '%Δ Vraagprijs (t.o.v vorige maand)': '1.41%'}, {'City': ' Son en Breugel', 'Gem. vraagprijs': '€\\xa0348.500', '%Δ Vraagprijs (t.o.v vorige maand)': '-13.25%'}, {'City': ' Steenbergen', 'Gem. vraagprijs': '€\\xa0314.500', '%Δ Vraagprijs (t.o.v vorige maand)': '5.18%'}, {'City': ' Tilburg', 'Gem. vraagprijs': '€\\xa0320.000', '%Δ Vraagprijs (t.o.v vorige maand)': '1.59%'}, {'City': ' Uden', 'Gem. vraagprijs': '€\\xa0325.000', '%Δ Vraagprijs (t.o.v vorige maand)': '-2.26%'}, {'City': ' Valkenswaard', 'Gem. vraagprijs': '€\\xa0354.500', '%Δ Vraagprijs (t.o.v vorige maand)': '2.98%'}, {'City': ' Veldhoven', 'Gem. vraagprijs': '€\\xa0410.500', '%Δ Vraagprijs (t.o.v vorige maand)': '8.31%'}, {'City': ' Vught', 'Gem. vraagprijs': '€\\xa0375.000', '%Δ Vraagprijs (t.o.v vorige maand)': '-18.43%'}, {'City': ' Waalre', 'Gem. vraagprijs': '€\\xa0447.500', '%Δ Vraagprijs (t.o.v vorige maand)': '-33.70%'}, {'City': ' Waalwijk', 'Gem. vraagprijs': '€\\xa0285.000', '%Δ Vraagprijs (t.o.v vorige maand)': '-8.06%'}, {'City': ' Woensdrecht', 'Gem. vraagprijs': '€\\xa0309.000', '%Δ Vraagprijs (t.o.v vorige maand)': '21.41%'}, {'City': ' Zundert', 'Gem. vraagprijs': '€\\xa0285.000', '%Δ Vraagprijs (t.o.v vorige maand)': '-18.34%'}]\n"
     ]
    }
   ],
   "source": [
    "gem_vraagprijs = extract_city_trends(page_urls) #use the function\n",
    "print(gem_vraagprijs) #check if it works"
   ]
  },
  {
   "cell_type": "markdown",
   "id": "00ee3e8f",
   "metadata": {},
   "source": [
    "We generate a Pandas dataframe of the data we just collected for all municipalities."
   ]
  },
  {
   "cell_type": "code",
   "execution_count": 12,
   "id": "9b5b6510",
   "metadata": {},
   "outputs": [
    {
     "data": {
      "text/html": [
       "<div>\n",
       "<style scoped>\n",
       "    .dataframe tbody tr th:only-of-type {\n",
       "        vertical-align: middle;\n",
       "    }\n",
       "\n",
       "    .dataframe tbody tr th {\n",
       "        vertical-align: top;\n",
       "    }\n",
       "\n",
       "    .dataframe thead th {\n",
       "        text-align: right;\n",
       "    }\n",
       "</style>\n",
       "<table border=\"1\" class=\"dataframe\">\n",
       "  <thead>\n",
       "    <tr style=\"text-align: right;\">\n",
       "      <th></th>\n",
       "      <th>City</th>\n",
       "      <th>Gem. vraagprijs</th>\n",
       "      <th>%Δ Vraagprijs (t.o.v vorige maand)</th>\n",
       "    </tr>\n",
       "  </thead>\n",
       "  <tbody>\n",
       "    <tr>\n",
       "      <th>0</th>\n",
       "      <td>Alphen-Chaam</td>\n",
       "      <td>€ 304.500</td>\n",
       "      <td>-18.69%</td>\n",
       "    </tr>\n",
       "    <tr>\n",
       "      <th>1</th>\n",
       "      <td>Altena</td>\n",
       "      <td>€ 349.000</td>\n",
       "      <td>-8.16%</td>\n",
       "    </tr>\n",
       "    <tr>\n",
       "      <th>2</th>\n",
       "      <td>Asten</td>\n",
       "      <td>€ 465.000</td>\n",
       "      <td>27.40%</td>\n",
       "    </tr>\n",
       "    <tr>\n",
       "      <th>3</th>\n",
       "      <td>Baarle-Nassau</td>\n",
       "      <td>€ 389.000</td>\n",
       "      <td>21.56%</td>\n",
       "    </tr>\n",
       "    <tr>\n",
       "      <th>4</th>\n",
       "      <td>Bergeijk</td>\n",
       "      <td>€ 325.000</td>\n",
       "      <td>-17.72%</td>\n",
       "    </tr>\n",
       "    <tr>\n",
       "      <th>...</th>\n",
       "      <td>...</td>\n",
       "      <td>...</td>\n",
       "      <td>...</td>\n",
       "    </tr>\n",
       "    <tr>\n",
       "      <th>56</th>\n",
       "      <td>Vught</td>\n",
       "      <td>€ 375.000</td>\n",
       "      <td>-18.43%</td>\n",
       "    </tr>\n",
       "    <tr>\n",
       "      <th>57</th>\n",
       "      <td>Waalre</td>\n",
       "      <td>€ 447.500</td>\n",
       "      <td>-33.70%</td>\n",
       "    </tr>\n",
       "    <tr>\n",
       "      <th>58</th>\n",
       "      <td>Waalwijk</td>\n",
       "      <td>€ 285.000</td>\n",
       "      <td>-8.06%</td>\n",
       "    </tr>\n",
       "    <tr>\n",
       "      <th>59</th>\n",
       "      <td>Woensdrecht</td>\n",
       "      <td>€ 309.000</td>\n",
       "      <td>21.41%</td>\n",
       "    </tr>\n",
       "    <tr>\n",
       "      <th>60</th>\n",
       "      <td>Zundert</td>\n",
       "      <td>€ 285.000</td>\n",
       "      <td>-18.34%</td>\n",
       "    </tr>\n",
       "  </tbody>\n",
       "</table>\n",
       "<p>61 rows × 3 columns</p>\n",
       "</div>"
      ],
      "text/plain": [
       "              City Gem. vraagprijs %Δ Vraagprijs (t.o.v vorige maand)\n",
       "0     Alphen-Chaam       € 304.500                            -18.69%\n",
       "1           Altena       € 349.000                             -8.16%\n",
       "2            Asten       € 465.000                             27.40%\n",
       "3    Baarle-Nassau       € 389.000                             21.56%\n",
       "4         Bergeijk       € 325.000                            -17.72%\n",
       "..             ...             ...                                ...\n",
       "56           Vught       € 375.000                            -18.43%\n",
       "57          Waalre       € 447.500                            -33.70%\n",
       "58        Waalwijk       € 285.000                             -8.06%\n",
       "59     Woensdrecht       € 309.000                             21.41%\n",
       "60         Zundert       € 285.000                            -18.34%\n",
       "\n",
       "[61 rows x 3 columns]"
      ]
     },
     "execution_count": 12,
     "metadata": {},
     "output_type": "execute_result"
    }
   ],
   "source": [
    "pd.DataFrame(gem_vraagprijs)"
   ]
  },
  {
   "cell_type": "markdown",
   "id": "a7993565",
   "metadata": {},
   "source": [
    "### # Verkochte woningen (Quadrant 2 Trend data)"
   ]
  },
  {
   "cell_type": "markdown",
   "id": "aceceab4",
   "metadata": {},
   "source": [
    "Extract the # of verkochte woningen, and its % change t.o.v. vorige maand. "
   ]
  },
  {
   "cell_type": "markdown",
   "id": "f9ba4df3",
   "metadata": {},
   "source": [
    "**Noord-Brabant data**"
   ]
  },
  {
   "cell_type": "markdown",
   "id": "6be7ffbf",
   "metadata": {},
   "source": [
    "Again we use a similar function, but now we use it to select data from a different quadrant. "
   ]
  },
  {
   "cell_type": "code",
   "execution_count": 13,
   "id": "73bf3315",
   "metadata": {},
   "outputs": [],
   "source": [
    "def extract_city_trends1(page_urls):\n",
    "    trend_list1 = []\n",
    "    for page_url in page_urls:\n",
    "        res = requests.get(page_url)\n",
    "        soup = BeautifulSoup(res.text, 'html.parser')\n",
    "        city_name = soup.find_all('h2')[0].get_text()\n",
    "        city_name1 = city_name.replace('Woningmarkt','')\n",
    "        trends = soup.find_all(class_='trend-graph')[1].get_text()\n",
    "        new_trend = trends.replace('\\n','')\n",
    "        new_trend1 = new_trend.replace('Verkochte woningen','')\n",
    "        verkocht,change = new_trend1.split('                ',1)\n",
    "        change1 = change.replace(' t.o.v. vorige maand            ', '')\n",
    "        trend_list1.append({'City':city_name1, 'Verkochte woningen':verkocht, '%Δ Verkocht (t.o.v vorige maand)':change1})\n",
    "    return(trend_list1)"
   ]
  },
  {
   "cell_type": "code",
   "execution_count": 14,
   "id": "312cebed",
   "metadata": {},
   "outputs": [
    {
     "name": "stdout",
     "output_type": "stream",
     "text": [
      "[{'City': ' Alphen-Chaam', 'Verkochte woningen': '2', '%Δ Verkocht (t.o.v vorige maand)': '-75.00%'}, {'City': ' Altena', 'Verkochte woningen': '22', '%Δ Verkocht (t.o.v vorige maand)': '-50.00%'}, {'City': ' Asten', 'Verkochte woningen': '7', '%Δ Verkocht (t.o.v vorige maand)': '-46.15%'}, {'City': ' Baarle-Nassau', 'Verkochte woningen': '3', '%Δ Verkocht (t.o.v vorige maand)': '-57.14%'}, {'City': ' Bergeijk', 'Verkochte woningen': '9', '%Δ Verkocht (t.o.v vorige maand)': '-57.14%'}, {'City': ' Bergen op Zoom', 'Verkochte woningen': '43', '%Δ Verkocht (t.o.v vorige maand)': '-36.76%'}, {'City': ' Bernheze', 'Verkochte woningen': '7', '%Δ Verkocht (t.o.v vorige maand)': '-69.57%'}, {'City': ' Best', 'Verkochte woningen': '8', '%Δ Verkocht (t.o.v vorige maand)': '-73.33%'}, {'City': ' Bladel', 'Verkochte woningen': '3', '%Δ Verkocht (t.o.v vorige maand)': '-84.21%'}, {'City': ' Boekel', 'Verkochte woningen': '6', '%Δ Verkocht (t.o.v vorige maand)': '-40.00%'}, {'City': ' Boxmeer', 'Verkochte woningen': '9', '%Δ Verkocht (t.o.v vorige maand)': '-57.14%'}, {'City': ' Boxtel', 'Verkochte woningen': '13', '%Δ Verkocht (t.o.v vorige maand)': '-38.10%'}, {'City': ' Breda', 'Verkochte woningen': '81', '%Δ Verkocht (t.o.v vorige maand)': '-52.63%'}, {'City': ' Cranendonck', 'Verkochte woningen': '14', '%Δ Verkocht (t.o.v vorige maand)': '-17.65%'}, {'City': ' Cuijk', 'Verkochte woningen': '14', '%Δ Verkocht (t.o.v vorige maand)': '-46.15%'}, {'City': ' Deurne', 'Verkochte woningen': '7', '%Δ Verkocht (t.o.v vorige maand)': '-66.67%'}, {'City': ' Dongen', 'Verkochte woningen': '18', '%Δ Verkocht (t.o.v vorige maand)': '-21.74%'}, {'City': ' Drimmelen', 'Verkochte woningen': '9', '%Δ Verkocht (t.o.v vorige maand)': '-66.67%'}, {'City': ' Eersel', 'Verkochte woningen': '8', '%Δ Verkocht (t.o.v vorige maand)': '-57.89%'}, {'City': ' Eindhoven', 'Verkochte woningen': '90', '%Δ Verkocht (t.o.v vorige maand)': '-57.75%'}, {'City': ' Etten-Leur', 'Verkochte woningen': '18', '%Δ Verkocht (t.o.v vorige maand)': '-55.00%'}, {'City': ' Geertruidenberg', 'Verkochte woningen': '7', '%Δ Verkocht (t.o.v vorige maand)': '-68.18%'}, {'City': ' Geldrop-Mierlo', 'Verkochte woningen': '24', '%Δ Verkocht (t.o.v vorige maand)': '-31.43%'}, {'City': ' Gemert-Bakel', 'Verkochte woningen': '5', '%Δ Verkocht (t.o.v vorige maand)': '-80.77%'}, {'City': ' Gilze en Rijen', 'Verkochte woningen': '7', '%Δ Verkocht (t.o.v vorige maand)': '-56.25%'}, {'City': ' Goirle', 'Verkochte woningen': '9', '%Δ Verkocht (t.o.v vorige maand)': '-64.00%'}, {'City': ' Grave', 'Verkochte woningen': '9', '%Δ Verkocht (t.o.v vorige maand)': '-35.71%'}, {'City': ' Halderberge', 'Verkochte woningen': '10', '%Δ Verkocht (t.o.v vorige maand)': '-61.54%'}, {'City': ' Heeze-Leende', 'Verkochte woningen': '5', '%Δ Verkocht (t.o.v vorige maand)': '-64.29%'}, {'City': ' Helmond', 'Verkochte woningen': '43', '%Δ Verkocht (t.o.v vorige maand)': '-53.76%'}, {'City': ' Heusden', 'Verkochte woningen': '22', '%Δ Verkocht (t.o.v vorige maand)': '-38.89%'}, {'City': ' Hilvarenbeek', 'Verkochte woningen': '7', '%Δ Verkocht (t.o.v vorige maand)': '-30.00%'}, {'City': ' Laarbeek', 'Verkochte woningen': '12', '%Δ Verkocht (t.o.v vorige maand)': '-50.00%'}, {'City': ' Landerd', 'Verkochte woningen': '4', '%Δ Verkocht (t.o.v vorige maand)': '-66.67%'}, {'City': ' Loon op Zand', 'Verkochte woningen': '2', '%Δ Verkocht (t.o.v vorige maand)': '-91.30%'}, {'City': ' Meierijstad', 'Verkochte woningen': '35', '%Δ Verkocht (t.o.v vorige maand)': '-50.70%'}, {'City': ' Mill en Sint Hubert', 'Verkochte woningen': '5', '%Δ Verkocht (t.o.v vorige maand)': '-37.50%'}, {'City': ' Moerdijk', 'Verkochte woningen': '17', '%Δ Verkocht (t.o.v vorige maand)': '-63.04%'}, {'City': ' Nuenen, Gerwen en Nederwetten', 'Verkochte woningen': '15', '%Δ Verkocht (t.o.v vorige maand)': '-11.76%'}, {'City': ' Oirschot', 'Verkochte woningen': '11', '%Δ Verkocht (t.o.v vorige maand)': '-26.67%'}, {'City': ' Oisterwijk', 'Verkochte woningen': '13', '%Δ Verkocht (t.o.v vorige maand)': '-56.67%'}, {'City': ' Oosterhout', 'Verkochte woningen': '22', '%Δ Verkocht (t.o.v vorige maand)': '-62.07%'}, {'City': ' Oss', 'Verkochte woningen': '53', '%Δ Verkocht (t.o.v vorige maand)': '-44.79%'}, {'City': ' Reusel-De Mierden', 'Verkochte woningen': '7', '%Δ Verkocht (t.o.v vorige maand)': '-41.67%'}, {'City': ' Roosendaal', 'Verkochte woningen': '46', '%Δ Verkocht (t.o.v vorige maand)': '-35.21%'}, {'City': ' Rucphen', 'Verkochte woningen': '11', '%Δ Verkocht (t.o.v vorige maand)': '-21.43%'}, {'City': \" 's-Hertogenbosch\", 'Verkochte woningen': '84', '%Δ Verkocht (t.o.v vorige maand)': '-52.81%'}, {'City': ' Sint Anthonis', 'Verkochte woningen': '6', '%Δ Verkocht (t.o.v vorige maand)': '-45.45%'}, {'City': ' Sint-Michielsgestel', 'Verkochte woningen': '15', '%Δ Verkocht (t.o.v vorige maand)': '-40.00%'}, {'City': ' Someren', 'Verkochte woningen': '6', '%Δ Verkocht (t.o.v vorige maand)': '-70.00%'}, {'City': ' Son en Breugel', 'Verkochte woningen': '6', '%Δ Verkocht (t.o.v vorige maand)': '-57.14%'}, {'City': ' Steenbergen', 'Verkochte woningen': '13', '%Δ Verkocht (t.o.v vorige maand)': '-35.00%'}, {'City': ' Tilburg', 'Verkochte woningen': '96', '%Δ Verkocht (t.o.v vorige maand)': '-50.52%'}, {'City': ' Uden', 'Verkochte woningen': '11', '%Δ Verkocht (t.o.v vorige maand)': '-72.50%'}, {'City': ' Valkenswaard', 'Verkochte woningen': '16', '%Δ Verkocht (t.o.v vorige maand)': '-55.56%'}, {'City': ' Veldhoven', 'Verkochte woningen': '20', '%Δ Verkocht (t.o.v vorige maand)': '-48.72%'}, {'City': ' Vught', 'Verkochte woningen': '17', '%Δ Verkocht (t.o.v vorige maand)': '-39.29%'}, {'City': ' Waalre', 'Verkochte woningen': '4', '%Δ Verkocht (t.o.v vorige maand)': '-55.56%'}, {'City': ' Waalwijk', 'Verkochte woningen': '18', '%Δ Verkocht (t.o.v vorige maand)': '-59.09%'}, {'City': ' Woensdrecht', 'Verkochte woningen': '12', '%Δ Verkocht (t.o.v vorige maand)': '-36.84%'}, {'City': ' Zundert', 'Verkochte woningen': '9', '%Δ Verkocht (t.o.v vorige maand)': '-57.14%'}]\n"
     ]
    }
   ],
   "source": [
    "verk_woningen = extract_city_trends1(page_urls) #use the function\n",
    "print(verk_woningen) #check if it works "
   ]
  },
  {
   "cell_type": "markdown",
   "id": "1d505b47",
   "metadata": {},
   "source": [
    "We generate a Pandas dataframe of the data we just collected for all municipalities."
   ]
  },
  {
   "cell_type": "code",
   "execution_count": 15,
   "id": "638899f8",
   "metadata": {},
   "outputs": [
    {
     "data": {
      "text/html": [
       "<div>\n",
       "<style scoped>\n",
       "    .dataframe tbody tr th:only-of-type {\n",
       "        vertical-align: middle;\n",
       "    }\n",
       "\n",
       "    .dataframe tbody tr th {\n",
       "        vertical-align: top;\n",
       "    }\n",
       "\n",
       "    .dataframe thead th {\n",
       "        text-align: right;\n",
       "    }\n",
       "</style>\n",
       "<table border=\"1\" class=\"dataframe\">\n",
       "  <thead>\n",
       "    <tr style=\"text-align: right;\">\n",
       "      <th></th>\n",
       "      <th>City</th>\n",
       "      <th>Verkochte woningen</th>\n",
       "      <th>%Δ Verkocht (t.o.v vorige maand)</th>\n",
       "    </tr>\n",
       "  </thead>\n",
       "  <tbody>\n",
       "    <tr>\n",
       "      <th>0</th>\n",
       "      <td>Alphen-Chaam</td>\n",
       "      <td>2</td>\n",
       "      <td>-75.00%</td>\n",
       "    </tr>\n",
       "    <tr>\n",
       "      <th>1</th>\n",
       "      <td>Altena</td>\n",
       "      <td>22</td>\n",
       "      <td>-50.00%</td>\n",
       "    </tr>\n",
       "    <tr>\n",
       "      <th>2</th>\n",
       "      <td>Asten</td>\n",
       "      <td>7</td>\n",
       "      <td>-46.15%</td>\n",
       "    </tr>\n",
       "    <tr>\n",
       "      <th>3</th>\n",
       "      <td>Baarle-Nassau</td>\n",
       "      <td>3</td>\n",
       "      <td>-57.14%</td>\n",
       "    </tr>\n",
       "    <tr>\n",
       "      <th>4</th>\n",
       "      <td>Bergeijk</td>\n",
       "      <td>9</td>\n",
       "      <td>-57.14%</td>\n",
       "    </tr>\n",
       "    <tr>\n",
       "      <th>...</th>\n",
       "      <td>...</td>\n",
       "      <td>...</td>\n",
       "      <td>...</td>\n",
       "    </tr>\n",
       "    <tr>\n",
       "      <th>56</th>\n",
       "      <td>Vught</td>\n",
       "      <td>17</td>\n",
       "      <td>-39.29%</td>\n",
       "    </tr>\n",
       "    <tr>\n",
       "      <th>57</th>\n",
       "      <td>Waalre</td>\n",
       "      <td>4</td>\n",
       "      <td>-55.56%</td>\n",
       "    </tr>\n",
       "    <tr>\n",
       "      <th>58</th>\n",
       "      <td>Waalwijk</td>\n",
       "      <td>18</td>\n",
       "      <td>-59.09%</td>\n",
       "    </tr>\n",
       "    <tr>\n",
       "      <th>59</th>\n",
       "      <td>Woensdrecht</td>\n",
       "      <td>12</td>\n",
       "      <td>-36.84%</td>\n",
       "    </tr>\n",
       "    <tr>\n",
       "      <th>60</th>\n",
       "      <td>Zundert</td>\n",
       "      <td>9</td>\n",
       "      <td>-57.14%</td>\n",
       "    </tr>\n",
       "  </tbody>\n",
       "</table>\n",
       "<p>61 rows × 3 columns</p>\n",
       "</div>"
      ],
      "text/plain": [
       "              City Verkochte woningen %Δ Verkocht (t.o.v vorige maand)\n",
       "0     Alphen-Chaam                  2                          -75.00%\n",
       "1           Altena                 22                          -50.00%\n",
       "2            Asten                  7                          -46.15%\n",
       "3    Baarle-Nassau                  3                          -57.14%\n",
       "4         Bergeijk                  9                          -57.14%\n",
       "..             ...                ...                              ...\n",
       "56           Vught                 17                          -39.29%\n",
       "57          Waalre                  4                          -55.56%\n",
       "58        Waalwijk                 18                          -59.09%\n",
       "59     Woensdrecht                 12                          -36.84%\n",
       "60         Zundert                  9                          -57.14%\n",
       "\n",
       "[61 rows x 3 columns]"
      ]
     },
     "execution_count": 15,
     "metadata": {},
     "output_type": "execute_result"
    }
   ],
   "source": [
    "pd.DataFrame(verk_woningen)"
   ]
  },
  {
   "cell_type": "markdown",
   "id": "e96af413",
   "metadata": {},
   "source": [
    "### Gemiddelde vierkantemeter prijs (Quadrant 3 Trend data)"
   ]
  },
  {
   "cell_type": "markdown",
   "id": "0a9d9b77",
   "metadata": {},
   "source": [
    "Extract the gemiddelde vierkante meter prijs, and its % change t.o.v. vorige maand. "
   ]
  },
  {
   "cell_type": "markdown",
   "id": "51db9081",
   "metadata": {},
   "source": [
    "**Noord-Brabant data**"
   ]
  },
  {
   "cell_type": "code",
   "execution_count": 16,
   "id": "e20d60c9",
   "metadata": {},
   "outputs": [],
   "source": [
    "def extract_city_trends2(page_urls):\n",
    "    trend_list2 = []\n",
    "    for page_url in page_urls:\n",
    "        res = requests.get(page_url)\n",
    "        soup = BeautifulSoup(res.text, 'html.parser')\n",
    "        city_name = soup.find_all('h2')[0].get_text()\n",
    "        city_name1 = city_name.replace('Woningmarkt','')\n",
    "        trends = soup.find_all(class_='trend-graph')[2].get_text()\n",
    "        new_trend = trends.replace('\\n','')\n",
    "        new_trend1 = new_trend.replace('Gem. vierkantemeter prijs','')\n",
    "        m2prijs,change = new_trend1.split('                ',1)\n",
    "        change1 = change.replace(' t.o.v. vorige maand            ', '')\n",
    "        trend_list2.append({'City':city_name1, 'Gem. m2 prijs':m2prijs, '%Δ M2 prijs (t.o.v vorige maand)':change1})\n",
    "    return(trend_list2)"
   ]
  },
  {
   "cell_type": "code",
   "execution_count": 17,
   "id": "9560974e",
   "metadata": {},
   "outputs": [
    {
     "name": "stdout",
     "output_type": "stream",
     "text": [
      "[{'City': ' Alphen-Chaam', 'Gem. m2 prijs': '€\\xa02.430', '%Δ M2 prijs (t.o.v vorige maand)': '-23.27%'}, {'City': ' Altena', 'Gem. m2 prijs': '€\\xa02.928', '%Δ M2 prijs (t.o.v vorige maand)': '2.59%'}, {'City': ' Asten', 'Gem. m2 prijs': '€\\xa02.809', '%Δ M2 prijs (t.o.v vorige maand)': '4.08%'}, {'City': ' Baarle-Nassau', 'Gem. m2 prijs': '€\\xa02.992', '%Δ M2 prijs (t.o.v vorige maand)': '18.68%'}, {'City': ' Bergeijk', 'Gem. m2 prijs': '€\\xa03.427', '%Δ M2 prijs (t.o.v vorige maand)': '4.55%'}, {'City': ' Bergen op Zoom', 'Gem. m2 prijs': '€\\xa02.575', '%Δ M2 prijs (t.o.v vorige maand)': '-6.36%'}, {'City': ' Bernheze', 'Gem. m2 prijs': '€\\xa02.752', '%Δ M2 prijs (t.o.v vorige maand)': '-6.55%'}, {'City': ' Best', 'Gem. m2 prijs': '€\\xa02.893', '%Δ M2 prijs (t.o.v vorige maand)': '-8.13%'}, {'City': ' Bladel', 'Gem. m2 prijs': '€\\xa03.299', '%Δ M2 prijs (t.o.v vorige maand)': '10.63%'}, {'City': ' Boekel', 'Gem. m2 prijs': '€\\xa02.899', '%Δ M2 prijs (t.o.v vorige maand)': '8.05%'}, {'City': ' Boxmeer', 'Gem. m2 prijs': '€\\xa02.955', '%Δ M2 prijs (t.o.v vorige maand)': '11.64%'}, {'City': ' Boxtel', 'Gem. m2 prijs': '€\\xa03.294', '%Δ M2 prijs (t.o.v vorige maand)': '-5.29%'}, {'City': ' Breda', 'Gem. m2 prijs': '€\\xa03.720', '%Δ M2 prijs (t.o.v vorige maand)': '4.85%'}, {'City': ' Cranendonck', 'Gem. m2 prijs': '€\\xa02.857', '%Δ M2 prijs (t.o.v vorige maand)': '7.33%'}, {'City': ' Cuijk', 'Gem. m2 prijs': '€\\xa02.775', '%Δ M2 prijs (t.o.v vorige maand)': '18.69%'}, {'City': ' Deurne', 'Gem. m2 prijs': '€\\xa02.379', '%Δ M2 prijs (t.o.v vorige maand)': '-18.89%'}, {'City': ' Dongen', 'Gem. m2 prijs': '€\\xa02.674', '%Δ M2 prijs (t.o.v vorige maand)': '0.79%'}, {'City': ' Drimmelen', 'Gem. m2 prijs': '€\\xa02.955', '%Δ M2 prijs (t.o.v vorige maand)': '7.49%'}, {'City': ' Eersel', 'Gem. m2 prijs': '€\\xa03.045', '%Δ M2 prijs (t.o.v vorige maand)': '-11.79%'}, {'City': ' Eindhoven', 'Gem. m2 prijs': '€\\xa03.320', '%Δ M2 prijs (t.o.v vorige maand)': '-0.15%'}, {'City': ' Etten-Leur', 'Gem. m2 prijs': '€\\xa02.848', '%Δ M2 prijs (t.o.v vorige maand)': '-2.53%'}, {'City': ' Geertruidenberg', 'Gem. m2 prijs': '€\\xa02.648', '%Δ M2 prijs (t.o.v vorige maand)': '-5.90%'}, {'City': ' Geldrop-Mierlo', 'Gem. m2 prijs': '€\\xa03.120', '%Δ M2 prijs (t.o.v vorige maand)': '10.29%'}, {'City': ' Gemert-Bakel', 'Gem. m2 prijs': '€\\xa02.697', '%Δ M2 prijs (t.o.v vorige maand)': '-4.97%'}, {'City': ' Gilze en Rijen', 'Gem. m2 prijs': '€\\xa03.000', '%Δ M2 prijs (t.o.v vorige maand)': '15.34%'}, {'City': ' Goirle', 'Gem. m2 prijs': '€\\xa02.830', '%Δ M2 prijs (t.o.v vorige maand)': '-16.47%'}, {'City': ' Grave', 'Gem. m2 prijs': '€\\xa02.660', '%Δ M2 prijs (t.o.v vorige maand)': '6.61%'}, {'City': ' Halderberge', 'Gem. m2 prijs': '€\\xa02.953', '%Δ M2 prijs (t.o.v vorige maand)': '1.58%'}, {'City': ' Heeze-Leende', 'Gem. m2 prijs': '€\\xa02.173', '%Δ M2 prijs (t.o.v vorige maand)': '-30.53%'}, {'City': ' Helmond', 'Gem. m2 prijs': '€\\xa02.942', '%Δ M2 prijs (t.o.v vorige maand)': '-1.64%'}, {'City': ' Heusden', 'Gem. m2 prijs': '€\\xa02.949', '%Δ M2 prijs (t.o.v vorige maand)': '-5.99%'}, {'City': ' Hilvarenbeek', 'Gem. m2 prijs': '€\\xa02.941', '%Δ M2 prijs (t.o.v vorige maand)': '-16.92%'}, {'City': ' Laarbeek', 'Gem. m2 prijs': '€\\xa02.730', '%Δ M2 prijs (t.o.v vorige maand)': '-4.04%'}, {'City': ' Landerd', 'Gem. m2 prijs': '€\\xa02.488', '%Δ M2 prijs (t.o.v vorige maand)': '-11.27%'}, {'City': ' Loon op Zand', 'Gem. m2 prijs': '€\\xa010.612', '%Δ M2 prijs (t.o.v vorige maand)': '223.44%'}, {'City': ' Meierijstad', 'Gem. m2 prijs': '€\\xa02.812', '%Δ M2 prijs (t.o.v vorige maand)': '-5.51%'}, {'City': ' Mill en Sint Hubert', 'Gem. m2 prijs': '€\\xa02.778', '%Δ M2 prijs (t.o.v vorige maand)': '14.94%'}, {'City': ' Moerdijk', 'Gem. m2 prijs': '€\\xa02.564', '%Δ M2 prijs (t.o.v vorige maand)': '-6.36%'}, {'City': ' Nuenen, Gerwen en Nederwetten', 'Gem. m2 prijs': '€\\xa03.315', '%Δ M2 prijs (t.o.v vorige maand)': '-5.34%'}, {'City': ' Oirschot', 'Gem. m2 prijs': '€\\xa03.592', '%Δ M2 prijs (t.o.v vorige maand)': '18.31%'}, {'City': ' Oisterwijk', 'Gem. m2 prijs': '€\\xa03.435', '%Δ M2 prijs (t.o.v vorige maand)': '-2.16%'}, {'City': ' Oosterhout', 'Gem. m2 prijs': '€\\xa03.068', '%Δ M2 prijs (t.o.v vorige maand)': '-1.16%'}, {'City': ' Oss', 'Gem. m2 prijs': '€\\xa03.006', '%Δ M2 prijs (t.o.v vorige maand)': '9.19%'}, {'City': ' Reusel-De Mierden', 'Gem. m2 prijs': '€\\xa02.917', '%Δ M2 prijs (t.o.v vorige maand)': '-5.32%'}, {'City': ' Roosendaal', 'Gem. m2 prijs': '€\\xa02.547', '%Δ M2 prijs (t.o.v vorige maand)': '-5.25%'}, {'City': ' Rucphen', 'Gem. m2 prijs': '€\\xa02.892', '%Δ M2 prijs (t.o.v vorige maand)': '0.59%'}, {'City': \" 's-Hertogenbosch\", 'Gem. m2 prijs': '€\\xa03.457', '%Δ M2 prijs (t.o.v vorige maand)': '1.05%'}, {'City': ' Sint Anthonis', 'Gem. m2 prijs': '€\\xa03.031', '%Δ M2 prijs (t.o.v vorige maand)': '7.83%'}, {'City': ' Sint-Michielsgestel', 'Gem. m2 prijs': '€\\xa03.684', '%Δ M2 prijs (t.o.v vorige maand)': '2.02%'}, {'City': ' Someren', 'Gem. m2 prijs': '€\\xa02.939', '%Δ M2 prijs (t.o.v vorige maand)': '9.79%'}, {'City': ' Son en Breugel', 'Gem. m2 prijs': '€\\xa03.278', '%Δ M2 prijs (t.o.v vorige maand)': '21.77%'}, {'City': ' Steenbergen', 'Gem. m2 prijs': '€\\xa02.842', '%Δ M2 prijs (t.o.v vorige maand)': '9.81%'}, {'City': ' Tilburg', 'Gem. m2 prijs': '€\\xa02.899', '%Δ M2 prijs (t.o.v vorige maand)': '-3.37%'}, {'City': ' Uden', 'Gem. m2 prijs': '€\\xa03.390', '%Δ M2 prijs (t.o.v vorige maand)': '15.15%'}, {'City': ' Valkenswaard', 'Gem. m2 prijs': '€\\xa03.459', '%Δ M2 prijs (t.o.v vorige maand)': '9.98%'}, {'City': ' Veldhoven', 'Gem. m2 prijs': '€\\xa03.438', '%Δ M2 prijs (t.o.v vorige maand)': '-2.33%'}, {'City': ' Vught', 'Gem. m2 prijs': '€\\xa03.700', '%Δ M2 prijs (t.o.v vorige maand)': '-1.93%'}, {'City': ' Waalre', 'Gem. m2 prijs': '€\\xa03.734', '%Δ M2 prijs (t.o.v vorige maand)': '-11.07%'}, {'City': ' Waalwijk', 'Gem. m2 prijs': '€\\xa02.736', '%Δ M2 prijs (t.o.v vorige maand)': '-5.75%'}, {'City': ' Woensdrecht', 'Gem. m2 prijs': '€\\xa02.719', '%Δ M2 prijs (t.o.v vorige maand)': '3.46%'}, {'City': ' Zundert', 'Gem. m2 prijs': '€\\xa03.276', '%Δ M2 prijs (t.o.v vorige maand)': '17.63%'}]\n"
     ]
    }
   ],
   "source": [
    "m2_prijs = extract_city_trends2(page_urls) #use the function \n",
    "print(m2_prijs) #check whether it works"
   ]
  },
  {
   "cell_type": "markdown",
   "id": "511f0bf6",
   "metadata": {},
   "source": [
    "We generate a Pandas dataframe of the data we just collected for all municipalities."
   ]
  },
  {
   "cell_type": "code",
   "execution_count": 18,
   "id": "ecb1ad2f",
   "metadata": {},
   "outputs": [
    {
     "data": {
      "text/html": [
       "<div>\n",
       "<style scoped>\n",
       "    .dataframe tbody tr th:only-of-type {\n",
       "        vertical-align: middle;\n",
       "    }\n",
       "\n",
       "    .dataframe tbody tr th {\n",
       "        vertical-align: top;\n",
       "    }\n",
       "\n",
       "    .dataframe thead th {\n",
       "        text-align: right;\n",
       "    }\n",
       "</style>\n",
       "<table border=\"1\" class=\"dataframe\">\n",
       "  <thead>\n",
       "    <tr style=\"text-align: right;\">\n",
       "      <th></th>\n",
       "      <th>City</th>\n",
       "      <th>Gem. m2 prijs</th>\n",
       "      <th>%Δ M2 prijs (t.o.v vorige maand)</th>\n",
       "    </tr>\n",
       "  </thead>\n",
       "  <tbody>\n",
       "    <tr>\n",
       "      <th>0</th>\n",
       "      <td>Alphen-Chaam</td>\n",
       "      <td>€ 2.430</td>\n",
       "      <td>-23.27%</td>\n",
       "    </tr>\n",
       "    <tr>\n",
       "      <th>1</th>\n",
       "      <td>Altena</td>\n",
       "      <td>€ 2.928</td>\n",
       "      <td>2.59%</td>\n",
       "    </tr>\n",
       "    <tr>\n",
       "      <th>2</th>\n",
       "      <td>Asten</td>\n",
       "      <td>€ 2.809</td>\n",
       "      <td>4.08%</td>\n",
       "    </tr>\n",
       "    <tr>\n",
       "      <th>3</th>\n",
       "      <td>Baarle-Nassau</td>\n",
       "      <td>€ 2.992</td>\n",
       "      <td>18.68%</td>\n",
       "    </tr>\n",
       "    <tr>\n",
       "      <th>4</th>\n",
       "      <td>Bergeijk</td>\n",
       "      <td>€ 3.427</td>\n",
       "      <td>4.55%</td>\n",
       "    </tr>\n",
       "    <tr>\n",
       "      <th>...</th>\n",
       "      <td>...</td>\n",
       "      <td>...</td>\n",
       "      <td>...</td>\n",
       "    </tr>\n",
       "    <tr>\n",
       "      <th>56</th>\n",
       "      <td>Vught</td>\n",
       "      <td>€ 3.700</td>\n",
       "      <td>-1.93%</td>\n",
       "    </tr>\n",
       "    <tr>\n",
       "      <th>57</th>\n",
       "      <td>Waalre</td>\n",
       "      <td>€ 3.734</td>\n",
       "      <td>-11.07%</td>\n",
       "    </tr>\n",
       "    <tr>\n",
       "      <th>58</th>\n",
       "      <td>Waalwijk</td>\n",
       "      <td>€ 2.736</td>\n",
       "      <td>-5.75%</td>\n",
       "    </tr>\n",
       "    <tr>\n",
       "      <th>59</th>\n",
       "      <td>Woensdrecht</td>\n",
       "      <td>€ 2.719</td>\n",
       "      <td>3.46%</td>\n",
       "    </tr>\n",
       "    <tr>\n",
       "      <th>60</th>\n",
       "      <td>Zundert</td>\n",
       "      <td>€ 3.276</td>\n",
       "      <td>17.63%</td>\n",
       "    </tr>\n",
       "  </tbody>\n",
       "</table>\n",
       "<p>61 rows × 3 columns</p>\n",
       "</div>"
      ],
      "text/plain": [
       "              City Gem. m2 prijs %Δ M2 prijs (t.o.v vorige maand)\n",
       "0     Alphen-Chaam       € 2.430                          -23.27%\n",
       "1           Altena       € 2.928                            2.59%\n",
       "2            Asten       € 2.809                            4.08%\n",
       "3    Baarle-Nassau       € 2.992                           18.68%\n",
       "4         Bergeijk       € 3.427                            4.55%\n",
       "..             ...           ...                              ...\n",
       "56           Vught       € 3.700                           -1.93%\n",
       "57          Waalre       € 3.734                          -11.07%\n",
       "58        Waalwijk       € 2.736                           -5.75%\n",
       "59     Woensdrecht       € 2.719                            3.46%\n",
       "60         Zundert       € 3.276                           17.63%\n",
       "\n",
       "[61 rows x 3 columns]"
      ]
     },
     "execution_count": 18,
     "metadata": {},
     "output_type": "execute_result"
    }
   ],
   "source": [
    "pd.DataFrame(m2_prijs)"
   ]
  },
  {
   "cell_type": "markdown",
   "id": "1dae1211",
   "metadata": {},
   "source": [
    "### Percentage overboden (Quadrant 4 Trend data)"
   ]
  },
  {
   "cell_type": "markdown",
   "id": "13abc820",
   "metadata": {},
   "source": [
    "Extract the % overboden, and its % change t.o.v. vorige maand. "
   ]
  },
  {
   "cell_type": "code",
   "execution_count": 19,
   "id": "92a442ba",
   "metadata": {},
   "outputs": [],
   "source": [
    "def extract_city_trends3(page_urls):\n",
    "    trend_list3 = []\n",
    "    for page_url in page_urls:\n",
    "        res = requests.get(page_url)\n",
    "        soup = BeautifulSoup(res.text, 'html.parser')\n",
    "        city_name = soup.find_all('h2')[0].get_text()\n",
    "        city_name1 = city_name.replace('Woningmarkt','')\n",
    "        trends = soup.find_all(class_='trend-graph')[3].get_text()\n",
    "        new_trend = trends.replace('\\n','')\n",
    "        new_trend1 = new_trend.replace('Percentage overboden','')\n",
    "        overboden,change = new_trend1.split('                ',1)\n",
    "        change1 = change.replace(' t.o.v. vorige maand            ', '')\n",
    "        trend_list3.append({'City':city_name1, '% Vraagprijs overboden':overboden, '%Δ Overboden (t.o.v vorige maand)': change1})\n",
    "    return(trend_list3)"
   ]
  },
  {
   "cell_type": "code",
   "execution_count": 20,
   "id": "4ef24b97",
   "metadata": {},
   "outputs": [
    {
     "name": "stdout",
     "output_type": "stream",
     "text": [
      "[{'City': ' Alphen-Chaam', '% Vraagprijs overboden': '1.63%', '%Δ Overboden (t.o.v vorige maand)': '-2.14%'}, {'City': ' Altena', '% Vraagprijs overboden': '8.79%', '%Δ Overboden (t.o.v vorige maand)': '-0.22%'}, {'City': ' Asten', '% Vraagprijs overboden': '7.15%', '%Δ Overboden (t.o.v vorige maand)': '-0.35%'}, {'City': ' Baarle-Nassau', '% Vraagprijs overboden': '15.02%', '%Δ Overboden (t.o.v vorige maand)': '17.89%'}, {'City': ' Bergeijk', '% Vraagprijs overboden': '3.36%', '%Δ Overboden (t.o.v vorige maand)': '1.60%'}, {'City': ' Bergen op Zoom', '% Vraagprijs overboden': '7.75%', '%Δ Overboden (t.o.v vorige maand)': '2.45%'}, {'City': ' Bernheze', '% Vraagprijs overboden': '8.43%', '%Δ Overboden (t.o.v vorige maand)': '3.17%'}, {'City': ' Best', '% Vraagprijs overboden': '8.14%', '%Δ Overboden (t.o.v vorige maand)': '-1.24%'}, {'City': ' Bladel', '% Vraagprijs overboden': '3.70%', '%Δ Overboden (t.o.v vorige maand)': '-1.74%'}, {'City': ' Boekel', '% Vraagprijs overboden': '5.04%', '%Δ Overboden (t.o.v vorige maand)': '5.14%'}, {'City': ' Boxmeer', '% Vraagprijs overboden': '7.03%', '%Δ Overboden (t.o.v vorige maand)': '-1.86%'}, {'City': ' Boxtel', '% Vraagprijs overboden': '7.28%', '%Δ Overboden (t.o.v vorige maand)': '-3.20%'}, {'City': ' Breda', '% Vraagprijs overboden': '8.53%', '%Δ Overboden (t.o.v vorige maand)': '0.44%'}, {'City': ' Cranendonck', '% Vraagprijs overboden': '11.71%', '%Δ Overboden (t.o.v vorige maand)': '7.66%'}, {'City': ' Cuijk', '% Vraagprijs overboden': '8.74%', '%Δ Overboden (t.o.v vorige maand)': '-1.97%'}, {'City': ' Deurne', '% Vraagprijs overboden': '9.88%', '%Δ Overboden (t.o.v vorige maand)': '5.87%'}, {'City': ' Dongen', '% Vraagprijs overboden': '10.83%', '%Δ Overboden (t.o.v vorige maand)': '5.19%'}, {'City': ' Drimmelen', '% Vraagprijs overboden': '8.46%', '%Δ Overboden (t.o.v vorige maand)': '4.81%'}, {'City': ' Eersel', '% Vraagprijs overboden': '5.22%', '%Δ Overboden (t.o.v vorige maand)': '-9.50%'}, {'City': ' Eindhoven', '% Vraagprijs overboden': '10.31%', '%Δ Overboden (t.o.v vorige maand)': '1.01%'}, {'City': ' Etten-Leur', '% Vraagprijs overboden': '7.06%', '%Δ Overboden (t.o.v vorige maand)': '0.28%'}, {'City': ' Geertruidenberg', '% Vraagprijs overboden': '2.36%', '%Δ Overboden (t.o.v vorige maand)': '1.05%'}, {'City': ' Geldrop-Mierlo', '% Vraagprijs overboden': '10.91%', '%Δ Overboden (t.o.v vorige maand)': '2.14%'}, {'City': ' Gemert-Bakel', '% Vraagprijs overboden': '-0.94%', '%Δ Overboden (t.o.v vorige maand)': '-5.46%'}, {'City': ' Gilze en Rijen', '% Vraagprijs overboden': '13.29%', '%Δ Overboden (t.o.v vorige maand)': '8.78%'}, {'City': ' Goirle', '% Vraagprijs overboden': '6.45%', '%Δ Overboden (t.o.v vorige maand)': '1.11%'}, {'City': ' Grave', '% Vraagprijs overboden': '4.73%', '%Δ Overboden (t.o.v vorige maand)': '-2.67%'}, {'City': ' Halderberge', '% Vraagprijs overboden': '7.07%', '%Δ Overboden (t.o.v vorige maand)': '1.99%'}, {'City': ' Heeze-Leende', '% Vraagprijs overboden': '5.28%', '%Δ Overboden (t.o.v vorige maand)': '-6.04%'}, {'City': ' Helmond', '% Vraagprijs overboden': '7.55%', '%Δ Overboden (t.o.v vorige maand)': '-0.33%'}, {'City': ' Heusden', '% Vraagprijs overboden': '5.32%', '%Δ Overboden (t.o.v vorige maand)': '-2.26%'}, {'City': ' Hilvarenbeek', '% Vraagprijs overboden': '6.53%', '%Δ Overboden (t.o.v vorige maand)': '2.67%'}, {'City': ' Laarbeek', '% Vraagprijs overboden': '8.28%', '%Δ Overboden (t.o.v vorige maand)': '-0.88%'}, {'City': ' Landerd', '% Vraagprijs overboden': '6.24%', '%Δ Overboden (t.o.v vorige maand)': '5.70%'}, {'City': ' Loon op Zand', '% Vraagprijs overboden': '5.09%', '%Δ Overboden (t.o.v vorige maand)': '-1.94%'}, {'City': ' Meierijstad', '% Vraagprijs overboden': '6.95%', '%Δ Overboden (t.o.v vorige maand)': '0.89%'}, {'City': ' Mill en Sint Hubert', '% Vraagprijs overboden': '1.22%', '%Δ Overboden (t.o.v vorige maand)': '-8.72%'}, {'City': ' Moerdijk', '% Vraagprijs overboden': '10.56%', '%Δ Overboden (t.o.v vorige maand)': '2.10%'}, {'City': ' Nuenen, Gerwen en Nederwetten', '% Vraagprijs overboden': '3.45%', '%Δ Overboden (t.o.v vorige maand)': '-0.23%'}, {'City': ' Oirschot', '% Vraagprijs overboden': '1.59%', '%Δ Overboden (t.o.v vorige maand)': '-5.37%'}, {'City': ' Oisterwijk', '% Vraagprijs overboden': '4.16%', '%Δ Overboden (t.o.v vorige maand)': '-0.15%'}, {'City': ' Oosterhout', '% Vraagprijs overboden': '6.87%', '%Δ Overboden (t.o.v vorige maand)': '1.56%'}, {'City': ' Oss', '% Vraagprijs overboden': '5.51%', '%Δ Overboden (t.o.v vorige maand)': '0.02%'}, {'City': ' Reusel-De Mierden', '% Vraagprijs overboden': '2.32%', '%Δ Overboden (t.o.v vorige maand)': '-2.84%'}, {'City': ' Roosendaal', '% Vraagprijs overboden': '10.15%', '%Δ Overboden (t.o.v vorige maand)': '3.61%'}, {'City': ' Rucphen', '% Vraagprijs overboden': '3.93%', '%Δ Overboden (t.o.v vorige maand)': '3.47%'}, {'City': \" 's-Hertogenbosch\", '% Vraagprijs overboden': '8.34%', '%Δ Overboden (t.o.v vorige maand)': '0.58%'}, {'City': ' Sint Anthonis', '% Vraagprijs overboden': '20.04%', '%Δ Overboden (t.o.v vorige maand)': '19.86%'}, {'City': ' Sint-Michielsgestel', '% Vraagprijs overboden': '7.54%', '%Δ Overboden (t.o.v vorige maand)': '2.33%'}, {'City': ' Someren', '% Vraagprijs overboden': '4.87%', '%Δ Overboden (t.o.v vorige maand)': '0.70%'}, {'City': ' Son en Breugel', '% Vraagprijs overboden': '13.59%', '%Δ Overboden (t.o.v vorige maand)': '3.54%'}, {'City': ' Steenbergen', '% Vraagprijs overboden': '5.53%', '%Δ Overboden (t.o.v vorige maand)': '0.85%'}, {'City': ' Tilburg', '% Vraagprijs overboden': '10.63%', '%Δ Overboden (t.o.v vorige maand)': '1.56%'}, {'City': ' Uden', '% Vraagprijs overboden': '6.07%', '%Δ Overboden (t.o.v vorige maand)': '1.53%'}, {'City': ' Valkenswaard', '% Vraagprijs overboden': '12.42%', '%Δ Overboden (t.o.v vorige maand)': '1.16%'}, {'City': ' Veldhoven', '% Vraagprijs overboden': '8.41%', '%Δ Overboden (t.o.v vorige maand)': '0.01%'}, {'City': ' Vught', '% Vraagprijs overboden': '6.89%', '%Δ Overboden (t.o.v vorige maand)': '-0.22%'}, {'City': ' Waalre', '% Vraagprijs overboden': '10.64%', '%Δ Overboden (t.o.v vorige maand)': '0.37%'}, {'City': ' Waalwijk', '% Vraagprijs overboden': '5.48%', '%Δ Overboden (t.o.v vorige maand)': '1.02%'}, {'City': ' Woensdrecht', '% Vraagprijs overboden': '7.02%', '%Δ Overboden (t.o.v vorige maand)': '2.56%'}, {'City': ' Zundert', '% Vraagprijs overboden': '4.07%', '%Δ Overboden (t.o.v vorige maand)': '-0.45%'}]\n"
     ]
    }
   ],
   "source": [
    "perc_overboden = extract_city_trends3(page_urls) #use the function \n",
    "print(perc_overboden) #make sure it works"
   ]
  },
  {
   "cell_type": "markdown",
   "id": "757463df",
   "metadata": {},
   "source": [
    "We generate a Pandas dataframe of the data we just collected for all municipalities."
   ]
  },
  {
   "cell_type": "code",
   "execution_count": 21,
   "id": "61fe948c",
   "metadata": {},
   "outputs": [
    {
     "data": {
      "text/html": [
       "<div>\n",
       "<style scoped>\n",
       "    .dataframe tbody tr th:only-of-type {\n",
       "        vertical-align: middle;\n",
       "    }\n",
       "\n",
       "    .dataframe tbody tr th {\n",
       "        vertical-align: top;\n",
       "    }\n",
       "\n",
       "    .dataframe thead th {\n",
       "        text-align: right;\n",
       "    }\n",
       "</style>\n",
       "<table border=\"1\" class=\"dataframe\">\n",
       "  <thead>\n",
       "    <tr style=\"text-align: right;\">\n",
       "      <th></th>\n",
       "      <th>City</th>\n",
       "      <th>% Vraagprijs overboden</th>\n",
       "      <th>%Δ Overboden (t.o.v vorige maand)</th>\n",
       "    </tr>\n",
       "  </thead>\n",
       "  <tbody>\n",
       "    <tr>\n",
       "      <th>0</th>\n",
       "      <td>Alphen-Chaam</td>\n",
       "      <td>1.63%</td>\n",
       "      <td>-2.14%</td>\n",
       "    </tr>\n",
       "    <tr>\n",
       "      <th>1</th>\n",
       "      <td>Altena</td>\n",
       "      <td>8.79%</td>\n",
       "      <td>-0.22%</td>\n",
       "    </tr>\n",
       "    <tr>\n",
       "      <th>2</th>\n",
       "      <td>Asten</td>\n",
       "      <td>7.15%</td>\n",
       "      <td>-0.35%</td>\n",
       "    </tr>\n",
       "    <tr>\n",
       "      <th>3</th>\n",
       "      <td>Baarle-Nassau</td>\n",
       "      <td>15.02%</td>\n",
       "      <td>17.89%</td>\n",
       "    </tr>\n",
       "    <tr>\n",
       "      <th>4</th>\n",
       "      <td>Bergeijk</td>\n",
       "      <td>3.36%</td>\n",
       "      <td>1.60%</td>\n",
       "    </tr>\n",
       "    <tr>\n",
       "      <th>...</th>\n",
       "      <td>...</td>\n",
       "      <td>...</td>\n",
       "      <td>...</td>\n",
       "    </tr>\n",
       "    <tr>\n",
       "      <th>56</th>\n",
       "      <td>Vught</td>\n",
       "      <td>6.89%</td>\n",
       "      <td>-0.22%</td>\n",
       "    </tr>\n",
       "    <tr>\n",
       "      <th>57</th>\n",
       "      <td>Waalre</td>\n",
       "      <td>10.64%</td>\n",
       "      <td>0.37%</td>\n",
       "    </tr>\n",
       "    <tr>\n",
       "      <th>58</th>\n",
       "      <td>Waalwijk</td>\n",
       "      <td>5.48%</td>\n",
       "      <td>1.02%</td>\n",
       "    </tr>\n",
       "    <tr>\n",
       "      <th>59</th>\n",
       "      <td>Woensdrecht</td>\n",
       "      <td>7.02%</td>\n",
       "      <td>2.56%</td>\n",
       "    </tr>\n",
       "    <tr>\n",
       "      <th>60</th>\n",
       "      <td>Zundert</td>\n",
       "      <td>4.07%</td>\n",
       "      <td>-0.45%</td>\n",
       "    </tr>\n",
       "  </tbody>\n",
       "</table>\n",
       "<p>61 rows × 3 columns</p>\n",
       "</div>"
      ],
      "text/plain": [
       "              City % Vraagprijs overboden %Δ Overboden (t.o.v vorige maand)\n",
       "0     Alphen-Chaam                  1.63%                            -2.14%\n",
       "1           Altena                  8.79%                            -0.22%\n",
       "2            Asten                  7.15%                            -0.35%\n",
       "3    Baarle-Nassau                 15.02%                            17.89%\n",
       "4         Bergeijk                  3.36%                             1.60%\n",
       "..             ...                    ...                               ...\n",
       "56           Vught                  6.89%                            -0.22%\n",
       "57          Waalre                 10.64%                             0.37%\n",
       "58        Waalwijk                  5.48%                             1.02%\n",
       "59     Woensdrecht                  7.02%                             2.56%\n",
       "60         Zundert                  4.07%                            -0.45%\n",
       "\n",
       "[61 rows x 3 columns]"
      ]
     },
     "execution_count": 21,
     "metadata": {},
     "output_type": "execute_result"
    }
   ],
   "source": [
    "pd.DataFrame(perc_overboden)"
   ]
  },
  {
   "cell_type": "markdown",
   "id": "d5abe54c",
   "metadata": {},
   "source": [
    "## Step 3b: Gather all data for all municipalities: Besteedbaar inkomen and # Inhabitants"
   ]
  },
  {
   "cell_type": "markdown",
   "id": "fc1b9d71",
   "metadata": {},
   "source": [
    "For each municipality we now extract the Besteedbaar inkomen per huishouden, the number of inhabitants and its % change t.o.v. the year before. "
   ]
  },
  {
   "cell_type": "markdown",
   "id": "85dd61b3",
   "metadata": {},
   "source": [
    "### Besteedbaar inkomen"
   ]
  },
  {
   "cell_type": "markdown",
   "id": "ec1088ef",
   "metadata": {},
   "source": [
    "**Noord-brabant data**"
   ]
  },
  {
   "cell_type": "markdown",
   "id": "7ece656c",
   "metadata": {},
   "source": [
    "We generate a function extract_besteedbaar that will extract the data of besteedbaar inkomen per huishouden, for all municipalities. "
   ]
  },
  {
   "cell_type": "code",
   "execution_count": 22,
   "id": "3f6203b2",
   "metadata": {},
   "outputs": [],
   "source": [
    "def extract_besteedbaar(page_urls):\n",
    "    besteed_inkomen = []\n",
    "    for page_url in page_urls:\n",
    "        res = requests.get(page_url)\n",
    "        soup = BeautifulSoup(res.text, 'html.parser')\n",
    "        city_name = soup.find_all('h2')[0].get_text()\n",
    "        city_name1 = city_name.replace('Woningmarkt','')\n",
    "        inkomen = soup.find_all(class_='detail__income huizenzoeker-card single-value-graph-container')[0].get_text()\n",
    "        new_inkomen = inkomen.replace('\\n','')\n",
    "        new_inkomen1 = new_inkomen.replace('Besteedbaar Inkomen Per Huishouden','')\n",
    "        besteed_inkomen.append({'City':city_name1, 'Besteedbaar inkomen (per huishouden)':new_inkomen1})\n",
    "    return(besteed_inkomen)"
   ]
  },
  {
   "cell_type": "code",
   "execution_count": 23,
   "id": "cde9fc51",
   "metadata": {},
   "outputs": [
    {
     "name": "stdout",
     "output_type": "stream",
     "text": [
      "[{'City': ' Alphen-Chaam', 'Besteedbaar inkomen (per huishouden)': '€ 45.700'}, {'City': ' Altena', 'Besteedbaar inkomen (per huishouden)': '€ 43.400'}, {'City': ' Asten', 'Besteedbaar inkomen (per huishouden)': '€ 40.200'}, {'City': ' Baarle-Nassau', 'Besteedbaar inkomen (per huishouden)': '€ 37.700'}, {'City': ' Bergeijk', 'Besteedbaar inkomen (per huishouden)': '€ 43.600'}, {'City': ' Bergen op Zoom', 'Besteedbaar inkomen (per huishouden)': '€ 36.800'}, {'City': ' Bernheze', 'Besteedbaar inkomen (per huishouden)': '€ 44.600'}, {'City': ' Best', 'Besteedbaar inkomen (per huishouden)': '€ 44.500'}, {'City': ' Bladel', 'Besteedbaar inkomen (per huishouden)': '€ 42.700'}, {'City': ' Boekel', 'Besteedbaar inkomen (per huishouden)': '€ 45.100'}, {'City': ' Boxmeer', 'Besteedbaar inkomen (per huishouden)': '€ 41.800'}, {'City': ' Boxtel', 'Besteedbaar inkomen (per huishouden)': '€ 38.400'}, {'City': ' Breda', 'Besteedbaar inkomen (per huishouden)': '€ 35.500'}, {'City': ' Cranendonck', 'Besteedbaar inkomen (per huishouden)': '€ 40.500'}, {'City': ' Cuijk', 'Besteedbaar inkomen (per huishouden)': '€ 38.400'}, {'City': ' Deurne', 'Besteedbaar inkomen (per huishouden)': '€ 40.000'}, {'City': ' Dongen', 'Besteedbaar inkomen (per huishouden)': '€ 41.700'}, {'City': ' Drimmelen', 'Besteedbaar inkomen (per huishouden)': '€ 43.500'}, {'City': ' Eersel', 'Besteedbaar inkomen (per huishouden)': '€ 45.200'}, {'City': ' Eindhoven', 'Besteedbaar inkomen (per huishouden)': '€ 31.600'}, {'City': ' Etten-Leur', 'Besteedbaar inkomen (per huishouden)': '€ 40.300'}, {'City': ' Geertruidenberg', 'Besteedbaar inkomen (per huishouden)': '€ 40.300'}, {'City': ' Geldrop-Mierlo', 'Besteedbaar inkomen (per huishouden)': '€ 39.400'}, {'City': ' Gemert-Bakel', 'Besteedbaar inkomen (per huishouden)': '€ 40.500'}, {'City': ' Gilze en Rijen', 'Besteedbaar inkomen (per huishouden)': '€ 40.600'}, {'City': ' Goirle', 'Besteedbaar inkomen (per huishouden)': '€ 44.000'}, {'City': ' Grave', 'Besteedbaar inkomen (per huishouden)': '€ 40.600'}, {'City': ' Halderberge', 'Besteedbaar inkomen (per huishouden)': '€ 39.100'}, {'City': ' Heeze-Leende', 'Besteedbaar inkomen (per huishouden)': '€ 47.100'}, {'City': ' Helmond', 'Besteedbaar inkomen (per huishouden)': '€ 35.700'}, {'City': ' Heusden', 'Besteedbaar inkomen (per huishouden)': '€ 42.500'}, {'City': ' Hilvarenbeek', 'Besteedbaar inkomen (per huishouden)': '€ 46.100'}, {'City': ' Laarbeek', 'Besteedbaar inkomen (per huishouden)': '€ 41.900'}, {'City': ' Landerd', 'Besteedbaar inkomen (per huishouden)': '€ 44.700'}, {'City': ' Loon op Zand', 'Besteedbaar inkomen (per huishouden)': '€ 41.200'}, {'City': ' Meierijstad', 'Besteedbaar inkomen (per huishouden)': '€ 41.800'}, {'City': ' Mill en Sint Hubert', 'Besteedbaar inkomen (per huishouden)': '€ 41.300'}, {'City': ' Moerdijk', 'Besteedbaar inkomen (per huishouden)': '€ 40.800'}, {'City': ' Nuenen, Gerwen en Nederwetten', 'Besteedbaar inkomen (per huishouden)': '€ 46.300'}, {'City': ' Oirschot', 'Besteedbaar inkomen (per huishouden)': '€ 45.800'}, {'City': ' Oisterwijk', 'Besteedbaar inkomen (per huishouden)': '€ 43.500'}, {'City': ' Oosterhout', 'Besteedbaar inkomen (per huishouden)': '€ 38.800'}, {'City': ' Oss', 'Besteedbaar inkomen (per huishouden)': '€ 38.400'}, {'City': ' Reusel-De Mierden', 'Besteedbaar inkomen (per huishouden)': '€ 43.600'}, {'City': ' Roosendaal', 'Besteedbaar inkomen (per huishouden)': '€ 36.300'}, {'City': ' Rucphen', 'Besteedbaar inkomen (per huishouden)': '€ 39.400'}, {'City': \" 's-Hertogenbosch\", 'Besteedbaar inkomen (per huishouden)': '€ 37.000'}, {'City': ' Sint Anthonis', 'Besteedbaar inkomen (per huishouden)': '€ 44.100'}, {'City': ' Sint-Michielsgestel', 'Besteedbaar inkomen (per huishouden)': '€ 46.000'}, {'City': ' Someren', 'Besteedbaar inkomen (per huishouden)': '€ 41.100'}, {'City': ' Son en Breugel', 'Besteedbaar inkomen (per huishouden)': '€ 46.800'}, {'City': ' Steenbergen', 'Besteedbaar inkomen (per huishouden)': '€ 36.100'}, {'City': ' Tilburg', 'Besteedbaar inkomen (per huishouden)': '€ 31.600'}, {'City': ' Uden', 'Besteedbaar inkomen (per huishouden)': '€ 38.300'}, {'City': ' Valkenswaard', 'Besteedbaar inkomen (per huishouden)': '€ 37.400'}, {'City': ' Veldhoven', 'Besteedbaar inkomen (per huishouden)': '€ 42.000'}, {'City': ' Vught', 'Besteedbaar inkomen (per huishouden)': '€ 43.500'}, {'City': ' Waalre', 'Besteedbaar inkomen (per huishouden)': '€ 47.300'}, {'City': ' Waalwijk', 'Besteedbaar inkomen (per huishouden)': '€ 37.500'}, {'City': ' Woensdrecht', 'Besteedbaar inkomen (per huishouden)': '€ 38.800'}, {'City': ' Zundert', 'Besteedbaar inkomen (per huishouden)': '€ 40.700'}]\n"
     ]
    }
   ],
   "source": [
    "besteed_inkomen = extract_besteedbaar(page_urls) #use the function \n",
    "print(besteed_inkomen) #check whether it works"
   ]
  },
  {
   "cell_type": "markdown",
   "id": "e59f4afc",
   "metadata": {},
   "source": [
    "We generate a Pandas dataframe of the data we just collected for all municipalities."
   ]
  },
  {
   "cell_type": "code",
   "execution_count": 24,
   "id": "e557997c",
   "metadata": {},
   "outputs": [
    {
     "data": {
      "text/html": [
       "<div>\n",
       "<style scoped>\n",
       "    .dataframe tbody tr th:only-of-type {\n",
       "        vertical-align: middle;\n",
       "    }\n",
       "\n",
       "    .dataframe tbody tr th {\n",
       "        vertical-align: top;\n",
       "    }\n",
       "\n",
       "    .dataframe thead th {\n",
       "        text-align: right;\n",
       "    }\n",
       "</style>\n",
       "<table border=\"1\" class=\"dataframe\">\n",
       "  <thead>\n",
       "    <tr style=\"text-align: right;\">\n",
       "      <th></th>\n",
       "      <th>City</th>\n",
       "      <th>Besteedbaar inkomen (per huishouden)</th>\n",
       "    </tr>\n",
       "  </thead>\n",
       "  <tbody>\n",
       "    <tr>\n",
       "      <th>0</th>\n",
       "      <td>Alphen-Chaam</td>\n",
       "      <td>€ 45.700</td>\n",
       "    </tr>\n",
       "    <tr>\n",
       "      <th>1</th>\n",
       "      <td>Altena</td>\n",
       "      <td>€ 43.400</td>\n",
       "    </tr>\n",
       "    <tr>\n",
       "      <th>2</th>\n",
       "      <td>Asten</td>\n",
       "      <td>€ 40.200</td>\n",
       "    </tr>\n",
       "    <tr>\n",
       "      <th>3</th>\n",
       "      <td>Baarle-Nassau</td>\n",
       "      <td>€ 37.700</td>\n",
       "    </tr>\n",
       "    <tr>\n",
       "      <th>4</th>\n",
       "      <td>Bergeijk</td>\n",
       "      <td>€ 43.600</td>\n",
       "    </tr>\n",
       "    <tr>\n",
       "      <th>...</th>\n",
       "      <td>...</td>\n",
       "      <td>...</td>\n",
       "    </tr>\n",
       "    <tr>\n",
       "      <th>56</th>\n",
       "      <td>Vught</td>\n",
       "      <td>€ 43.500</td>\n",
       "    </tr>\n",
       "    <tr>\n",
       "      <th>57</th>\n",
       "      <td>Waalre</td>\n",
       "      <td>€ 47.300</td>\n",
       "    </tr>\n",
       "    <tr>\n",
       "      <th>58</th>\n",
       "      <td>Waalwijk</td>\n",
       "      <td>€ 37.500</td>\n",
       "    </tr>\n",
       "    <tr>\n",
       "      <th>59</th>\n",
       "      <td>Woensdrecht</td>\n",
       "      <td>€ 38.800</td>\n",
       "    </tr>\n",
       "    <tr>\n",
       "      <th>60</th>\n",
       "      <td>Zundert</td>\n",
       "      <td>€ 40.700</td>\n",
       "    </tr>\n",
       "  </tbody>\n",
       "</table>\n",
       "<p>61 rows × 2 columns</p>\n",
       "</div>"
      ],
      "text/plain": [
       "              City Besteedbaar inkomen (per huishouden)\n",
       "0     Alphen-Chaam                             € 45.700\n",
       "1           Altena                             € 43.400\n",
       "2            Asten                             € 40.200\n",
       "3    Baarle-Nassau                             € 37.700\n",
       "4         Bergeijk                             € 43.600\n",
       "..             ...                                  ...\n",
       "56           Vught                             € 43.500\n",
       "57          Waalre                             € 47.300\n",
       "58        Waalwijk                             € 37.500\n",
       "59     Woensdrecht                             € 38.800\n",
       "60         Zundert                             € 40.700\n",
       "\n",
       "[61 rows x 2 columns]"
      ]
     },
     "execution_count": 24,
     "metadata": {},
     "output_type": "execute_result"
    }
   ],
   "source": [
    "pd.DataFrame(besteed_inkomen)"
   ]
  },
  {
   "cell_type": "markdown",
   "id": "15b21e23",
   "metadata": {},
   "source": [
    "### Inhabitants"
   ]
  },
  {
   "cell_type": "markdown",
   "id": "f0e3ff6b",
   "metadata": {},
   "source": [
    "**Noord-brabant data**"
   ]
  },
  {
   "cell_type": "markdown",
   "id": "a4a253a8",
   "metadata": {},
   "source": [
    "We generate a function extract_inhabitants that will extract the data of the number of inhabitants for all municipalities, and how this number has changed t.o.v. last year.  "
   ]
  },
  {
   "cell_type": "markdown",
   "id": "78b2234c",
   "metadata": {},
   "source": [
    "_insert code for this still_"
   ]
  },
  {
   "cell_type": "code",
   "execution_count": null,
   "id": "10398ae7",
   "metadata": {},
   "outputs": [],
   "source": []
  },
  {
   "cell_type": "markdown",
   "id": "42b4146f",
   "metadata": {},
   "source": [
    "## Step 5: Merging all data gathered (by city name)"
   ]
  },
  {
   "cell_type": "markdown",
   "id": "8b7fb78e",
   "metadata": {},
   "source": [
    "For the final output (a CSV file, so tabular data) we would want the output of the scraper to be gathered in one single dictionary. "
   ]
  },
  {
   "cell_type": "markdown",
   "id": "f79a0fa2",
   "metadata": {},
   "source": [
    "**Noord-brabant data**"
   ]
  },
  {
   "cell_type": "markdown",
   "id": "bf93d180",
   "metadata": {},
   "source": [
    "Here we name the Pandas Dataframes for each quadrant of the trend data we extracted, and also for the besteedbaar inkomen and inhabitants data. We set the index of the dataframes to the name of the municipality. "
   ]
  },
  {
   "cell_type": "code",
   "execution_count": 25,
   "id": "7ca5e798",
   "metadata": {},
   "outputs": [],
   "source": [
    "df1 = pd.DataFrame(gem_vraagprijs).set_index('City') #gemiddelde vraagprijs "
   ]
  },
  {
   "cell_type": "code",
   "execution_count": 26,
   "id": "851940b2",
   "metadata": {},
   "outputs": [],
   "source": [
    "df2 = pd.DataFrame(verk_woningen).set_index('City') #aantal verkochte woningen "
   ]
  },
  {
   "cell_type": "code",
   "execution_count": 27,
   "id": "5f2d11cb",
   "metadata": {},
   "outputs": [],
   "source": [
    "df3 = pd.DataFrame(m2_prijs).set_index('City') #vierkantemeter prijs "
   ]
  },
  {
   "cell_type": "code",
   "execution_count": 28,
   "id": "7b32399e",
   "metadata": {},
   "outputs": [],
   "source": [
    "df4 = pd.DataFrame(perc_overboden).set_index('City') #percentage overboden "
   ]
  },
  {
   "cell_type": "code",
   "execution_count": 29,
   "id": "ea2780d4",
   "metadata": {},
   "outputs": [],
   "source": [
    "df5 = pd.DataFrame(besteed_inkomen).set_index('City') #besteedbaar inkomen "
   ]
  },
  {
   "cell_type": "code",
   "execution_count": 30,
   "id": "c1475e3c",
   "metadata": {},
   "outputs": [],
   "source": [
    "#add a dataframe for the inhabitants data, once finished. "
   ]
  },
  {
   "cell_type": "code",
   "execution_count": 31,
   "id": "b309b361",
   "metadata": {},
   "outputs": [],
   "source": [
    "data_frames = [df1,df2,df3,df4,df5] #now we combine the dataframes into one single dataframe "
   ]
  },
  {
   "cell_type": "markdown",
   "id": "ddfa49ab",
   "metadata": {},
   "source": [
    "The final output: "
   ]
  },
  {
   "cell_type": "code",
   "execution_count": 32,
   "id": "bc281e0b",
   "metadata": {},
   "outputs": [
    {
     "data": {
      "text/html": [
       "<div>\n",
       "<style scoped>\n",
       "    .dataframe tbody tr th:only-of-type {\n",
       "        vertical-align: middle;\n",
       "    }\n",
       "\n",
       "    .dataframe tbody tr th {\n",
       "        vertical-align: top;\n",
       "    }\n",
       "\n",
       "    .dataframe thead th {\n",
       "        text-align: right;\n",
       "    }\n",
       "</style>\n",
       "<table border=\"1\" class=\"dataframe\">\n",
       "  <thead>\n",
       "    <tr style=\"text-align: right;\">\n",
       "      <th></th>\n",
       "      <th>Gem. vraagprijs</th>\n",
       "      <th>%Δ Vraagprijs (t.o.v vorige maand)</th>\n",
       "      <th>Verkochte woningen</th>\n",
       "      <th>%Δ Verkocht (t.o.v vorige maand)</th>\n",
       "      <th>Gem. m2 prijs</th>\n",
       "      <th>%Δ M2 prijs (t.o.v vorige maand)</th>\n",
       "      <th>% Vraagprijs overboden</th>\n",
       "      <th>%Δ Overboden (t.o.v vorige maand)</th>\n",
       "      <th>Besteedbaar inkomen (per huishouden)</th>\n",
       "    </tr>\n",
       "    <tr>\n",
       "      <th>City</th>\n",
       "      <th></th>\n",
       "      <th></th>\n",
       "      <th></th>\n",
       "      <th></th>\n",
       "      <th></th>\n",
       "      <th></th>\n",
       "      <th></th>\n",
       "      <th></th>\n",
       "      <th></th>\n",
       "    </tr>\n",
       "  </thead>\n",
       "  <tbody>\n",
       "    <tr>\n",
       "      <th>Alphen-Chaam</th>\n",
       "      <td>€ 304.500</td>\n",
       "      <td>-18.69%</td>\n",
       "      <td>2</td>\n",
       "      <td>-75.00%</td>\n",
       "      <td>€ 2.430</td>\n",
       "      <td>-23.27%</td>\n",
       "      <td>1.63%</td>\n",
       "      <td>-2.14%</td>\n",
       "      <td>€ 45.700</td>\n",
       "    </tr>\n",
       "    <tr>\n",
       "      <th>Altena</th>\n",
       "      <td>€ 349.000</td>\n",
       "      <td>-8.16%</td>\n",
       "      <td>22</td>\n",
       "      <td>-50.00%</td>\n",
       "      <td>€ 2.928</td>\n",
       "      <td>2.59%</td>\n",
       "      <td>8.79%</td>\n",
       "      <td>-0.22%</td>\n",
       "      <td>€ 43.400</td>\n",
       "    </tr>\n",
       "    <tr>\n",
       "      <th>Asten</th>\n",
       "      <td>€ 465.000</td>\n",
       "      <td>27.40%</td>\n",
       "      <td>7</td>\n",
       "      <td>-46.15%</td>\n",
       "      <td>€ 2.809</td>\n",
       "      <td>4.08%</td>\n",
       "      <td>7.15%</td>\n",
       "      <td>-0.35%</td>\n",
       "      <td>€ 40.200</td>\n",
       "    </tr>\n",
       "    <tr>\n",
       "      <th>Baarle-Nassau</th>\n",
       "      <td>€ 389.000</td>\n",
       "      <td>21.56%</td>\n",
       "      <td>3</td>\n",
       "      <td>-57.14%</td>\n",
       "      <td>€ 2.992</td>\n",
       "      <td>18.68%</td>\n",
       "      <td>15.02%</td>\n",
       "      <td>17.89%</td>\n",
       "      <td>€ 37.700</td>\n",
       "    </tr>\n",
       "    <tr>\n",
       "      <th>Bergeijk</th>\n",
       "      <td>€ 325.000</td>\n",
       "      <td>-17.72%</td>\n",
       "      <td>9</td>\n",
       "      <td>-57.14%</td>\n",
       "      <td>€ 3.427</td>\n",
       "      <td>4.55%</td>\n",
       "      <td>3.36%</td>\n",
       "      <td>1.60%</td>\n",
       "      <td>€ 43.600</td>\n",
       "    </tr>\n",
       "    <tr>\n",
       "      <th>...</th>\n",
       "      <td>...</td>\n",
       "      <td>...</td>\n",
       "      <td>...</td>\n",
       "      <td>...</td>\n",
       "      <td>...</td>\n",
       "      <td>...</td>\n",
       "      <td>...</td>\n",
       "      <td>...</td>\n",
       "      <td>...</td>\n",
       "    </tr>\n",
       "    <tr>\n",
       "      <th>Vught</th>\n",
       "      <td>€ 375.000</td>\n",
       "      <td>-18.43%</td>\n",
       "      <td>17</td>\n",
       "      <td>-39.29%</td>\n",
       "      <td>€ 3.700</td>\n",
       "      <td>-1.93%</td>\n",
       "      <td>6.89%</td>\n",
       "      <td>-0.22%</td>\n",
       "      <td>€ 43.500</td>\n",
       "    </tr>\n",
       "    <tr>\n",
       "      <th>Waalre</th>\n",
       "      <td>€ 447.500</td>\n",
       "      <td>-33.70%</td>\n",
       "      <td>4</td>\n",
       "      <td>-55.56%</td>\n",
       "      <td>€ 3.734</td>\n",
       "      <td>-11.07%</td>\n",
       "      <td>10.64%</td>\n",
       "      <td>0.37%</td>\n",
       "      <td>€ 47.300</td>\n",
       "    </tr>\n",
       "    <tr>\n",
       "      <th>Waalwijk</th>\n",
       "      <td>€ 285.000</td>\n",
       "      <td>-8.06%</td>\n",
       "      <td>18</td>\n",
       "      <td>-59.09%</td>\n",
       "      <td>€ 2.736</td>\n",
       "      <td>-5.75%</td>\n",
       "      <td>5.48%</td>\n",
       "      <td>1.02%</td>\n",
       "      <td>€ 37.500</td>\n",
       "    </tr>\n",
       "    <tr>\n",
       "      <th>Woensdrecht</th>\n",
       "      <td>€ 309.000</td>\n",
       "      <td>21.41%</td>\n",
       "      <td>12</td>\n",
       "      <td>-36.84%</td>\n",
       "      <td>€ 2.719</td>\n",
       "      <td>3.46%</td>\n",
       "      <td>7.02%</td>\n",
       "      <td>2.56%</td>\n",
       "      <td>€ 38.800</td>\n",
       "    </tr>\n",
       "    <tr>\n",
       "      <th>Zundert</th>\n",
       "      <td>€ 285.000</td>\n",
       "      <td>-18.34%</td>\n",
       "      <td>9</td>\n",
       "      <td>-57.14%</td>\n",
       "      <td>€ 3.276</td>\n",
       "      <td>17.63%</td>\n",
       "      <td>4.07%</td>\n",
       "      <td>-0.45%</td>\n",
       "      <td>€ 40.700</td>\n",
       "    </tr>\n",
       "  </tbody>\n",
       "</table>\n",
       "<p>61 rows × 9 columns</p>\n",
       "</div>"
      ],
      "text/plain": [
       "               Gem. vraagprijs %Δ Vraagprijs (t.o.v vorige maand)  \\\n",
       "City                                                                \n",
       " Alphen-Chaam        € 304.500                            -18.69%   \n",
       " Altena              € 349.000                             -8.16%   \n",
       " Asten               € 465.000                             27.40%   \n",
       " Baarle-Nassau       € 389.000                             21.56%   \n",
       " Bergeijk            € 325.000                            -17.72%   \n",
       "...                        ...                                ...   \n",
       " Vught               € 375.000                            -18.43%   \n",
       " Waalre              € 447.500                            -33.70%   \n",
       " Waalwijk            € 285.000                             -8.06%   \n",
       " Woensdrecht         € 309.000                             21.41%   \n",
       " Zundert             € 285.000                            -18.34%   \n",
       "\n",
       "               Verkochte woningen %Δ Verkocht (t.o.v vorige maand)  \\\n",
       "City                                                                 \n",
       " Alphen-Chaam                   2                          -75.00%   \n",
       " Altena                        22                          -50.00%   \n",
       " Asten                          7                          -46.15%   \n",
       " Baarle-Nassau                  3                          -57.14%   \n",
       " Bergeijk                       9                          -57.14%   \n",
       "...                           ...                              ...   \n",
       " Vught                         17                          -39.29%   \n",
       " Waalre                         4                          -55.56%   \n",
       " Waalwijk                      18                          -59.09%   \n",
       " Woensdrecht                   12                          -36.84%   \n",
       " Zundert                        9                          -57.14%   \n",
       "\n",
       "               Gem. m2 prijs %Δ M2 prijs (t.o.v vorige maand)  \\\n",
       "City                                                            \n",
       " Alphen-Chaam        € 2.430                          -23.27%   \n",
       " Altena              € 2.928                            2.59%   \n",
       " Asten               € 2.809                            4.08%   \n",
       " Baarle-Nassau       € 2.992                           18.68%   \n",
       " Bergeijk            € 3.427                            4.55%   \n",
       "...                      ...                              ...   \n",
       " Vught               € 3.700                           -1.93%   \n",
       " Waalre              € 3.734                          -11.07%   \n",
       " Waalwijk            € 2.736                           -5.75%   \n",
       " Woensdrecht         € 2.719                            3.46%   \n",
       " Zundert             € 3.276                           17.63%   \n",
       "\n",
       "               % Vraagprijs overboden %Δ Overboden (t.o.v vorige maand)  \\\n",
       "City                                                                      \n",
       " Alphen-Chaam                   1.63%                            -2.14%   \n",
       " Altena                         8.79%                            -0.22%   \n",
       " Asten                          7.15%                            -0.35%   \n",
       " Baarle-Nassau                 15.02%                            17.89%   \n",
       " Bergeijk                       3.36%                             1.60%   \n",
       "...                               ...                               ...   \n",
       " Vught                          6.89%                            -0.22%   \n",
       " Waalre                        10.64%                             0.37%   \n",
       " Waalwijk                       5.48%                             1.02%   \n",
       " Woensdrecht                    7.02%                             2.56%   \n",
       " Zundert                        4.07%                            -0.45%   \n",
       "\n",
       "               Besteedbaar inkomen (per huishouden)  \n",
       "City                                                 \n",
       " Alphen-Chaam                              € 45.700  \n",
       " Altena                                    € 43.400  \n",
       " Asten                                     € 40.200  \n",
       " Baarle-Nassau                             € 37.700  \n",
       " Bergeijk                                  € 43.600  \n",
       "...                                             ...  \n",
       " Vught                                     € 43.500  \n",
       " Waalre                                    € 47.300  \n",
       " Waalwijk                                  € 37.500  \n",
       " Woensdrecht                               € 38.800  \n",
       " Zundert                                   € 40.700  \n",
       "\n",
       "[61 rows x 9 columns]"
      ]
     },
     "execution_count": 32,
     "metadata": {},
     "output_type": "execute_result"
    }
   ],
   "source": [
    "df_merged = reduce(lambda left,right: pd.merge(left,right,on=['City'],how='outer'),data_frames)\n",
    "df_merged"
   ]
  },
  {
   "cell_type": "code",
   "execution_count": 33,
   "id": "9c26756e",
   "metadata": {},
   "outputs": [
    {
     "data": {
      "text/html": [
       "<div>\n",
       "<style scoped>\n",
       "    .dataframe tbody tr th:only-of-type {\n",
       "        vertical-align: middle;\n",
       "    }\n",
       "\n",
       "    .dataframe tbody tr th {\n",
       "        vertical-align: top;\n",
       "    }\n",
       "\n",
       "    .dataframe thead th {\n",
       "        text-align: right;\n",
       "    }\n",
       "</style>\n",
       "<table border=\"1\" class=\"dataframe\">\n",
       "  <thead>\n",
       "    <tr style=\"text-align: right;\">\n",
       "      <th></th>\n",
       "      <th>Gem. vraagprijs</th>\n",
       "      <th>%Δ Vraagprijs (t.o.v vorige maand)</th>\n",
       "      <th>Verkochte woningen</th>\n",
       "      <th>%Δ Verkocht (t.o.v vorige maand)</th>\n",
       "      <th>Gem. m2 prijs</th>\n",
       "      <th>%Δ M2 prijs (t.o.v vorige maand)</th>\n",
       "      <th>% Vraagprijs overboden</th>\n",
       "      <th>%Δ Overboden (t.o.v vorige maand)</th>\n",
       "      <th>Besteedbaar inkomen (per huishouden)</th>\n",
       "    </tr>\n",
       "  </thead>\n",
       "  <tbody>\n",
       "    <tr>\n",
       "      <th>count</th>\n",
       "      <td>61</td>\n",
       "      <td>61</td>\n",
       "      <td>61</td>\n",
       "      <td>61</td>\n",
       "      <td>61</td>\n",
       "      <td>61</td>\n",
       "      <td>61</td>\n",
       "      <td>61</td>\n",
       "      <td>61</td>\n",
       "    </tr>\n",
       "    <tr>\n",
       "      <th>unique</th>\n",
       "      <td>45</td>\n",
       "      <td>61</td>\n",
       "      <td>28</td>\n",
       "      <td>51</td>\n",
       "      <td>59</td>\n",
       "      <td>60</td>\n",
       "      <td>61</td>\n",
       "      <td>59</td>\n",
       "      <td>49</td>\n",
       "    </tr>\n",
       "    <tr>\n",
       "      <th>top</th>\n",
       "      <td>€ 325.000</td>\n",
       "      <td>-18.69%</td>\n",
       "      <td>7</td>\n",
       "      <td>-57.14%</td>\n",
       "      <td>€ 2.899</td>\n",
       "      <td>-6.36%</td>\n",
       "      <td>1.63%</td>\n",
       "      <td>-0.22%</td>\n",
       "      <td>€ 43.500</td>\n",
       "    </tr>\n",
       "    <tr>\n",
       "      <th>freq</th>\n",
       "      <td>5</td>\n",
       "      <td>1</td>\n",
       "      <td>7</td>\n",
       "      <td>5</td>\n",
       "      <td>2</td>\n",
       "      <td>2</td>\n",
       "      <td>1</td>\n",
       "      <td>2</td>\n",
       "      <td>3</td>\n",
       "    </tr>\n",
       "  </tbody>\n",
       "</table>\n",
       "</div>"
      ],
      "text/plain": [
       "       Gem. vraagprijs %Δ Vraagprijs (t.o.v vorige maand) Verkochte woningen  \\\n",
       "count               61                                 61                 61   \n",
       "unique              45                                 61                 28   \n",
       "top          € 325.000                            -18.69%                  7   \n",
       "freq                 5                                  1                  7   \n",
       "\n",
       "       %Δ Verkocht (t.o.v vorige maand) Gem. m2 prijs  \\\n",
       "count                                61            61   \n",
       "unique                               51            59   \n",
       "top                             -57.14%       € 2.899   \n",
       "freq                                  5             2   \n",
       "\n",
       "       %Δ M2 prijs (t.o.v vorige maand) % Vraagprijs overboden  \\\n",
       "count                                61                     61   \n",
       "unique                               60                     61   \n",
       "top                              -6.36%                  1.63%   \n",
       "freq                                  2                      1   \n",
       "\n",
       "       %Δ Overboden (t.o.v vorige maand) Besteedbaar inkomen (per huishouden)  \n",
       "count                                 61                                   61  \n",
       "unique                                59                                   49  \n",
       "top                               -0.22%                             € 43.500  \n",
       "freq                                   2                                    3  "
      ]
     },
     "execution_count": 33,
     "metadata": {},
     "output_type": "execute_result"
    }
   ],
   "source": [
    "df_merged.describe()"
   ]
  },
  {
   "cell_type": "markdown",
   "id": "be19ee94",
   "metadata": {},
   "source": [
    "## Step 6: Exporting dataframes to CSV"
   ]
  },
  {
   "cell_type": "code",
   "execution_count": 36,
   "id": "cc43a1c8",
   "metadata": {},
   "outputs": [],
   "source": [
    "df_merged.to_csv('Huizenzoeker_NB_data.csv')"
   ]
  },
  {
   "cell_type": "markdown",
   "id": "e708db62",
   "metadata": {},
   "source": [
    "## Step 7: Providing summary statistics"
   ]
  },
  {
   "cell_type": "markdown",
   "id": "c18a418d",
   "metadata": {},
   "source": [
    "**Exporting our output to Rstudio and then importing that CSV here**"
   ]
  },
  {
   "cell_type": "markdown",
   "id": "df29ad6a",
   "metadata": {},
   "source": [
    "First we try to generate some summary statistics by using the output of our scraping data. We can't do this directly as you can see as most variables are seen as characters, while they should be numerics. Therefore we exported the Noord-Brabant data for all municipalities to R to change these datatypes and then export it as CSV to then use it here to generate some summary statistics: count, mean, std, min, max, 25%, 50%, 75%. \n",
    "(STATUS: Huizenzoeker.nl used both '.' to indicate thousands and decimals so R is confused whether a value is 2000 or 2.00. We need to fix this issue still in the Rscript to accurately explore the summary statistics!!)"
   ]
  },
  {
   "cell_type": "code",
   "execution_count": 41,
   "id": "c3848ff1",
   "metadata": {},
   "outputs": [],
   "source": [
    "noordbrabant = pd.read_csv('Huizenzoeker_NB_data.csv')"
   ]
  },
  {
   "cell_type": "code",
   "execution_count": 45,
   "id": "2fd18e4c",
   "metadata": {},
   "outputs": [
    {
     "data": {
      "text/html": [
       "<div>\n",
       "<style scoped>\n",
       "    .dataframe tbody tr th:only-of-type {\n",
       "        vertical-align: middle;\n",
       "    }\n",
       "\n",
       "    .dataframe tbody tr th {\n",
       "        vertical-align: top;\n",
       "    }\n",
       "\n",
       "    .dataframe thead th {\n",
       "        text-align: right;\n",
       "    }\n",
       "</style>\n",
       "<table border=\"1\" class=\"dataframe\">\n",
       "  <thead>\n",
       "    <tr style=\"text-align: right;\">\n",
       "      <th></th>\n",
       "      <th>Verkochte woningen</th>\n",
       "    </tr>\n",
       "  </thead>\n",
       "  <tbody>\n",
       "    <tr>\n",
       "      <th>count</th>\n",
       "      <td>61.000000</td>\n",
       "    </tr>\n",
       "    <tr>\n",
       "      <th>mean</th>\n",
       "      <td>18.442623</td>\n",
       "    </tr>\n",
       "    <tr>\n",
       "      <th>std</th>\n",
       "      <td>21.448018</td>\n",
       "    </tr>\n",
       "    <tr>\n",
       "      <th>min</th>\n",
       "      <td>2.000000</td>\n",
       "    </tr>\n",
       "    <tr>\n",
       "      <th>25%</th>\n",
       "      <td>7.000000</td>\n",
       "    </tr>\n",
       "    <tr>\n",
       "      <th>50%</th>\n",
       "      <td>11.000000</td>\n",
       "    </tr>\n",
       "    <tr>\n",
       "      <th>75%</th>\n",
       "      <td>18.000000</td>\n",
       "    </tr>\n",
       "    <tr>\n",
       "      <th>max</th>\n",
       "      <td>96.000000</td>\n",
       "    </tr>\n",
       "  </tbody>\n",
       "</table>\n",
       "</div>"
      ],
      "text/plain": [
       "       Verkochte woningen\n",
       "count           61.000000\n",
       "mean            18.442623\n",
       "std             21.448018\n",
       "min              2.000000\n",
       "25%              7.000000\n",
       "50%             11.000000\n",
       "75%             18.000000\n",
       "max             96.000000"
      ]
     },
     "execution_count": 45,
     "metadata": {},
     "output_type": "execute_result"
    }
   ],
   "source": [
    "noordbrabant.describe() #STATUS: now only works for 'Verkochte woningen' because all other variables are seen as characters"
   ]
  },
  {
   "cell_type": "code",
   "execution_count": 51,
   "id": "b12271f2",
   "metadata": {},
   "outputs": [],
   "source": [
    "#so i wrote an R script to turn the variables from characters into numerics, and saved it as huizen_NB.csv"
   ]
  },
  {
   "cell_type": "code",
   "execution_count": 49,
   "id": "832e0714",
   "metadata": {},
   "outputs": [],
   "source": [
    "noordbrabant1 = pd.read_csv('huizen_NB.csv') "
   ]
  },
  {
   "cell_type": "code",
   "execution_count": 50,
   "id": "52d75f2e",
   "metadata": {},
   "outputs": [
    {
     "data": {
      "text/html": [
       "<div>\n",
       "<style scoped>\n",
       "    .dataframe tbody tr th:only-of-type {\n",
       "        vertical-align: middle;\n",
       "    }\n",
       "\n",
       "    .dataframe tbody tr th {\n",
       "        vertical-align: top;\n",
       "    }\n",
       "\n",
       "    .dataframe thead th {\n",
       "        text-align: right;\n",
       "    }\n",
       "</style>\n",
       "<table border=\"1\" class=\"dataframe\">\n",
       "  <thead>\n",
       "    <tr style=\"text-align: right;\">\n",
       "      <th></th>\n",
       "      <th>gem_vraagprijs</th>\n",
       "      <th>perc_ver_vraagprijs</th>\n",
       "      <th>verk_woningen</th>\n",
       "      <th>perc_ver_verkocht</th>\n",
       "      <th>gem_m2prijs</th>\n",
       "      <th>perc_ver_m2prijs</th>\n",
       "      <th>perc_overboden</th>\n",
       "      <th>perc_ver_overboden</th>\n",
       "      <th>best_inkomen</th>\n",
       "    </tr>\n",
       "  </thead>\n",
       "  <tbody>\n",
       "    <tr>\n",
       "      <th>count</th>\n",
       "      <td>61.000000</td>\n",
       "      <td>61.000000</td>\n",
       "      <td>61.000000</td>\n",
       "      <td>61.000000</td>\n",
       "      <td>61.000000</td>\n",
       "      <td>61.000000</td>\n",
       "      <td>61.000000</td>\n",
       "      <td>61.000000</td>\n",
       "      <td>61.000000</td>\n",
       "    </tr>\n",
       "    <tr>\n",
       "      <th>mean</th>\n",
       "      <td>346.148557</td>\n",
       "      <td>4.110328</td>\n",
       "      <td>18.442623</td>\n",
       "      <td>-51.583770</td>\n",
       "      <td>3.116016</td>\n",
       "      <td>4.293607</td>\n",
       "      <td>7.220820</td>\n",
       "      <td>1.096557</td>\n",
       "      <td>41.132787</td>\n",
       "    </tr>\n",
       "    <tr>\n",
       "      <th>std</th>\n",
       "      <td>77.482364</td>\n",
       "      <td>60.840026</td>\n",
       "      <td>21.448018</td>\n",
       "      <td>16.378496</td>\n",
       "      <td>1.036600</td>\n",
       "      <td>30.467221</td>\n",
       "      <td>3.606782</td>\n",
       "      <td>4.722097</td>\n",
       "      <td>3.589323</td>\n",
       "    </tr>\n",
       "    <tr>\n",
       "      <th>min</th>\n",
       "      <td>2.062000</td>\n",
       "      <td>-45.380000</td>\n",
       "      <td>2.000000</td>\n",
       "      <td>-91.300000</td>\n",
       "      <td>2.173000</td>\n",
       "      <td>-30.530000</td>\n",
       "      <td>-0.940000</td>\n",
       "      <td>-9.500000</td>\n",
       "      <td>31.600000</td>\n",
       "    </tr>\n",
       "    <tr>\n",
       "      <th>25%</th>\n",
       "      <td>309.000000</td>\n",
       "      <td>-15.520000</td>\n",
       "      <td>7.000000</td>\n",
       "      <td>-62.070000</td>\n",
       "      <td>2.775000</td>\n",
       "      <td>-5.510000</td>\n",
       "      <td>5.090000</td>\n",
       "      <td>-0.880000</td>\n",
       "      <td>38.800000</td>\n",
       "    </tr>\n",
       "    <tr>\n",
       "      <th>50%</th>\n",
       "      <td>339.250000</td>\n",
       "      <td>-6.290000</td>\n",
       "      <td>11.000000</td>\n",
       "      <td>-53.760000</td>\n",
       "      <td>2.941000</td>\n",
       "      <td>0.590000</td>\n",
       "      <td>7.030000</td>\n",
       "      <td>0.850000</td>\n",
       "      <td>41.100000</td>\n",
       "    </tr>\n",
       "    <tr>\n",
       "      <th>75%</th>\n",
       "      <td>389.000000</td>\n",
       "      <td>6.760000</td>\n",
       "      <td>18.000000</td>\n",
       "      <td>-39.290000</td>\n",
       "      <td>3.294000</td>\n",
       "      <td>9.190000</td>\n",
       "      <td>8.740000</td>\n",
       "      <td>2.450000</td>\n",
       "      <td>43.600000</td>\n",
       "    </tr>\n",
       "    <tr>\n",
       "      <th>max</th>\n",
       "      <td>600.000000</td>\n",
       "      <td>450.000000</td>\n",
       "      <td>96.000000</td>\n",
       "      <td>-11.760000</td>\n",
       "      <td>10.612000</td>\n",
       "      <td>223.440000</td>\n",
       "      <td>20.040000</td>\n",
       "      <td>19.860000</td>\n",
       "      <td>47.300000</td>\n",
       "    </tr>\n",
       "  </tbody>\n",
       "</table>\n",
       "</div>"
      ],
      "text/plain": [
       "       gem_vraagprijs  perc_ver_vraagprijs  verk_woningen  perc_ver_verkocht  \\\n",
       "count       61.000000            61.000000      61.000000          61.000000   \n",
       "mean       346.148557             4.110328      18.442623         -51.583770   \n",
       "std         77.482364            60.840026      21.448018          16.378496   \n",
       "min          2.062000           -45.380000       2.000000         -91.300000   \n",
       "25%        309.000000           -15.520000       7.000000         -62.070000   \n",
       "50%        339.250000            -6.290000      11.000000         -53.760000   \n",
       "75%        389.000000             6.760000      18.000000         -39.290000   \n",
       "max        600.000000           450.000000      96.000000         -11.760000   \n",
       "\n",
       "       gem_m2prijs  perc_ver_m2prijs  perc_overboden  perc_ver_overboden  \\\n",
       "count    61.000000         61.000000       61.000000           61.000000   \n",
       "mean      3.116016          4.293607        7.220820            1.096557   \n",
       "std       1.036600         30.467221        3.606782            4.722097   \n",
       "min       2.173000        -30.530000       -0.940000           -9.500000   \n",
       "25%       2.775000         -5.510000        5.090000           -0.880000   \n",
       "50%       2.941000          0.590000        7.030000            0.850000   \n",
       "75%       3.294000          9.190000        8.740000            2.450000   \n",
       "max      10.612000        223.440000       20.040000           19.860000   \n",
       "\n",
       "       best_inkomen  \n",
       "count     61.000000  \n",
       "mean      41.132787  \n",
       "std        3.589323  \n",
       "min       31.600000  \n",
       "25%       38.800000  \n",
       "50%       41.100000  \n",
       "75%       43.600000  \n",
       "max       47.300000  "
      ]
     },
     "execution_count": 50,
     "metadata": {},
     "output_type": "execute_result"
    }
   ],
   "source": [
    "noordbrabant1.describe()"
   ]
  },
  {
   "cell_type": "markdown",
   "id": "3552c591",
   "metadata": {},
   "source": [
    "**Scraping some mean values at province-level**"
   ]
  },
  {
   "cell_type": "markdown",
   "id": "5518365e",
   "metadata": {},
   "source": [
    "We may also use the woningmarkt pages for every province to generate some mean values at province-level for their municipalities (for all variables). We will do this similarly as to how we scraped the data for each municipality of Noord-Brabant, but now thus at province-level (using BeautifulSoup). "
   ]
  },
  {
   "cell_type": "markdown",
   "id": "e0fe20f1",
   "metadata": {},
   "source": [
    "Generating links of all provinces: "
   ]
  },
  {
   "cell_type": "code",
   "execution_count": 52,
   "id": "762afbc3",
   "metadata": {},
   "outputs": [],
   "source": [
    "base_url = 'https://www.huizenzoeker.nl/woningmarkt/'\n",
    "province_url = ['noord-holland/', 'zuid-holland/', 'zeeland/', 'noord-brabant/', 'utrecht/', 'flevoland/', \n",
    "                'friesland/', 'groningen/', 'drenthe/', 'overijssel/', 'gelderland/', 'limburg/'] "
   ]
  },
  {
   "cell_type": "markdown",
   "id": "bb6d96ea",
   "metadata": {},
   "source": [
    "Defining a function to paste these URL parts together: "
   ]
  },
  {
   "cell_type": "code",
   "execution_count": 54,
   "id": "d2a7ea0e",
   "metadata": {},
   "outputs": [
    {
     "name": "stdout",
     "output_type": "stream",
     "text": [
      "['https://www.huizenzoeker.nl/woningmarkt/noord-holland/', 'https://www.huizenzoeker.nl/woningmarkt/zuid-holland/', 'https://www.huizenzoeker.nl/woningmarkt/zeeland/', 'https://www.huizenzoeker.nl/woningmarkt/noord-brabant/', 'https://www.huizenzoeker.nl/woningmarkt/utrecht/', 'https://www.huizenzoeker.nl/woningmarkt/flevoland/', 'https://www.huizenzoeker.nl/woningmarkt/friesland/', 'https://www.huizenzoeker.nl/woningmarkt/groningen/', 'https://www.huizenzoeker.nl/woningmarkt/drenthe/', 'https://www.huizenzoeker.nl/woningmarkt/overijssel/', 'https://www.huizenzoeker.nl/woningmarkt/gelderland/', 'https://www.huizenzoeker.nl/woningmarkt/limburg/']\n"
     ]
    }
   ],
   "source": [
    "def generate_links(base_url,province_url): \n",
    "    page_links = []\n",
    "    for i in province_url:\n",
    "        full_links = base_url + i\n",
    "        page_links.append(full_links)  \n",
    "    return page_links\n",
    "page_links = generate_links(base_url,province_url)\n",
    "print(page_links)"
   ]
  },
  {
   "cell_type": "markdown",
   "id": "c15c2fe4",
   "metadata": {},
   "source": [
    "*Gemiddelde vraagprijs:* "
   ]
  },
  {
   "cell_type": "code",
   "execution_count": 55,
   "id": "84ccc977",
   "metadata": {},
   "outputs": [],
   "source": [
    "def extract_province_trends(page_links): \n",
    "    trend_list = []\n",
    "    for page_link in page_links:\n",
    "        res = requests.get(page_link)\n",
    "        soup = BeautifulSoup(res.text, 'html.parser')\n",
    "        province_name = soup.find_all('h2')[0].get_text()\n",
    "        province_name1 = province_name.replace('Woningmarkt','')\n",
    "        trends = soup.find_all(class_='trend-graph')[0].get_text()\n",
    "        new_trend = trends.replace('\\n','')\n",
    "        new_trend1 = new_trend.replace('Gem. Vraagprijs','')\n",
    "        price,change = new_trend1.split('                ',1)\n",
    "        change1 = change.replace(' t.o.v. vorige maand            ', '')\n",
    "        trend_list.append({'Province':province_name1, 'Gem. vraagprijs':price, '%Δ Vraagprijs (t.o.v vorige maand)':change1})\n",
    "    return(trend_list)"
   ]
  },
  {
   "cell_type": "code",
   "execution_count": 56,
   "id": "6f0554bd",
   "metadata": {},
   "outputs": [
    {
     "name": "stdout",
     "output_type": "stream",
     "text": [
      "[{'Province': ' Noord-Holland', 'Gem. vraagprijs': '€\\xa0375.000', '%Δ Vraagprijs (t.o.v vorige maand)': '-6.02%'}, {'Province': ' Zuid-Holland', 'Gem. vraagprijs': '€\\xa0335.000', '%Δ Vraagprijs (t.o.v vorige maand)': '-4.29%'}, {'Province': ' Zeeland', 'Gem. vraagprijs': '€\\xa0275.000', '%Δ Vraagprijs (t.o.v vorige maand)': '6.18%'}, {'Province': ' Noord-Brabant', 'Gem. vraagprijs': '€\\xa0339.000', '%Δ Vraagprijs (t.o.v vorige maand)': '-3.14%'}, {'Province': ' Utrecht', 'Gem. vraagprijs': '€\\xa0386.250', '%Δ Vraagprijs (t.o.v vorige maand)': '-3.44%'}, {'Province': ' Flevoland', 'Gem. vraagprijs': '€\\xa0325.000', '%Δ Vraagprijs (t.o.v vorige maand)': '0.00%'}, {'Province': ' Friesland', 'Gem. vraagprijs': '€\\xa0280.000', '%Δ Vraagprijs (t.o.v vorige maand)': '2.19%'}, {'Province': ' Groningen', 'Gem. vraagprijs': '€\\xa0227.000', '%Δ Vraagprijs (t.o.v vorige maand)': '-9.20%'}, {'Province': ' Drenthe', 'Gem. vraagprijs': '€\\xa0295.000', '%Δ Vraagprijs (t.o.v vorige maand)': '0.00%'}, {'Province': ' Overijssel', 'Gem. vraagprijs': '€\\xa0298.500', '%Δ Vraagprijs (t.o.v vorige maand)': '-0.50%'}, {'Province': ' Gelderland', 'Gem. vraagprijs': '€\\xa0335.000', '%Δ Vraagprijs (t.o.v vorige maand)': '-1.18%'}, {'Province': ' Limburg', 'Gem. vraagprijs': '€\\xa0279.000', '%Δ Vraagprijs (t.o.v vorige maand)': '1.45%'}]\n"
     ]
    }
   ],
   "source": [
    "mean_vraagprijs = extract_province_trends(page_links) #use the function \n",
    "print(mean_vraagprijs) #check if it works"
   ]
  },
  {
   "cell_type": "code",
   "execution_count": 57,
   "id": "f35b4fa6",
   "metadata": {},
   "outputs": [
    {
     "data": {
      "text/html": [
       "<div>\n",
       "<style scoped>\n",
       "    .dataframe tbody tr th:only-of-type {\n",
       "        vertical-align: middle;\n",
       "    }\n",
       "\n",
       "    .dataframe tbody tr th {\n",
       "        vertical-align: top;\n",
       "    }\n",
       "\n",
       "    .dataframe thead th {\n",
       "        text-align: right;\n",
       "    }\n",
       "</style>\n",
       "<table border=\"1\" class=\"dataframe\">\n",
       "  <thead>\n",
       "    <tr style=\"text-align: right;\">\n",
       "      <th></th>\n",
       "      <th>Province</th>\n",
       "      <th>Gem. vraagprijs</th>\n",
       "      <th>%Δ Vraagprijs (t.o.v vorige maand)</th>\n",
       "    </tr>\n",
       "  </thead>\n",
       "  <tbody>\n",
       "    <tr>\n",
       "      <th>0</th>\n",
       "      <td>Noord-Holland</td>\n",
       "      <td>€ 375.000</td>\n",
       "      <td>-6.02%</td>\n",
       "    </tr>\n",
       "    <tr>\n",
       "      <th>1</th>\n",
       "      <td>Zuid-Holland</td>\n",
       "      <td>€ 335.000</td>\n",
       "      <td>-4.29%</td>\n",
       "    </tr>\n",
       "    <tr>\n",
       "      <th>2</th>\n",
       "      <td>Zeeland</td>\n",
       "      <td>€ 275.000</td>\n",
       "      <td>6.18%</td>\n",
       "    </tr>\n",
       "    <tr>\n",
       "      <th>3</th>\n",
       "      <td>Noord-Brabant</td>\n",
       "      <td>€ 339.000</td>\n",
       "      <td>-3.14%</td>\n",
       "    </tr>\n",
       "    <tr>\n",
       "      <th>4</th>\n",
       "      <td>Utrecht</td>\n",
       "      <td>€ 386.250</td>\n",
       "      <td>-3.44%</td>\n",
       "    </tr>\n",
       "    <tr>\n",
       "      <th>5</th>\n",
       "      <td>Flevoland</td>\n",
       "      <td>€ 325.000</td>\n",
       "      <td>0.00%</td>\n",
       "    </tr>\n",
       "    <tr>\n",
       "      <th>6</th>\n",
       "      <td>Friesland</td>\n",
       "      <td>€ 280.000</td>\n",
       "      <td>2.19%</td>\n",
       "    </tr>\n",
       "    <tr>\n",
       "      <th>7</th>\n",
       "      <td>Groningen</td>\n",
       "      <td>€ 227.000</td>\n",
       "      <td>-9.20%</td>\n",
       "    </tr>\n",
       "    <tr>\n",
       "      <th>8</th>\n",
       "      <td>Drenthe</td>\n",
       "      <td>€ 295.000</td>\n",
       "      <td>0.00%</td>\n",
       "    </tr>\n",
       "    <tr>\n",
       "      <th>9</th>\n",
       "      <td>Overijssel</td>\n",
       "      <td>€ 298.500</td>\n",
       "      <td>-0.50%</td>\n",
       "    </tr>\n",
       "    <tr>\n",
       "      <th>10</th>\n",
       "      <td>Gelderland</td>\n",
       "      <td>€ 335.000</td>\n",
       "      <td>-1.18%</td>\n",
       "    </tr>\n",
       "    <tr>\n",
       "      <th>11</th>\n",
       "      <td>Limburg</td>\n",
       "      <td>€ 279.000</td>\n",
       "      <td>1.45%</td>\n",
       "    </tr>\n",
       "  </tbody>\n",
       "</table>\n",
       "</div>"
      ],
      "text/plain": [
       "          Province Gem. vraagprijs %Δ Vraagprijs (t.o.v vorige maand)\n",
       "0    Noord-Holland       € 375.000                             -6.02%\n",
       "1     Zuid-Holland       € 335.000                             -4.29%\n",
       "2          Zeeland       € 275.000                              6.18%\n",
       "3    Noord-Brabant       € 339.000                             -3.14%\n",
       "4          Utrecht       € 386.250                             -3.44%\n",
       "5        Flevoland       € 325.000                              0.00%\n",
       "6        Friesland       € 280.000                              2.19%\n",
       "7        Groningen       € 227.000                             -9.20%\n",
       "8          Drenthe       € 295.000                              0.00%\n",
       "9       Overijssel       € 298.500                             -0.50%\n",
       "10      Gelderland       € 335.000                             -1.18%\n",
       "11         Limburg       € 279.000                              1.45%"
      ]
     },
     "execution_count": 57,
     "metadata": {},
     "output_type": "execute_result"
    }
   ],
   "source": [
    "pd.DataFrame(mean_vraagprijs)"
   ]
  },
  {
   "cell_type": "markdown",
   "id": "dbe5c8a9",
   "metadata": {},
   "source": [
    "*Aantal verkochte woningen:*"
   ]
  },
  {
   "cell_type": "code",
   "execution_count": 58,
   "id": "a728169c",
   "metadata": {},
   "outputs": [],
   "source": [
    "def extract_province_trends1(page_links):\n",
    "    trend_list1 = []\n",
    "    for page_link in page_links:\n",
    "        res = requests.get(page_link)\n",
    "        soup = BeautifulSoup(res.text, 'html.parser')\n",
    "        province_name = soup.find_all('h2')[0].get_text()\n",
    "        province_name1 = province_name.replace('Woningmarkt','')\n",
    "        trends = soup.find_all(class_='trend-graph')[1].get_text()\n",
    "        new_trend = trends.replace('\\n','')\n",
    "        new_trend1 = new_trend.replace('Verkochte woningen','')\n",
    "        verkocht,change = new_trend1.split('                ',1)\n",
    "        change1 = change.replace(' t.o.v. vorige maand            ', '')\n",
    "        trend_list1.append({'Province':province_name1, 'Verkochte woningen':verkocht, '%Δ Verkocht (t.o.v vorige maand)':change1})\n",
    "    return(trend_list1)"
   ]
  },
  {
   "cell_type": "code",
   "execution_count": 59,
   "id": "a2a11c54",
   "metadata": {},
   "outputs": [
    {
     "name": "stdout",
     "output_type": "stream",
     "text": [
      "[{'Province': ' Noord-Holland', 'Verkochte woningen': '1113', '%Δ Verkocht (t.o.v vorige maand)': '-52.90%'}, {'Province': ' Zuid-Holland', 'Verkochte woningen': '1738', '%Δ Verkocht (t.o.v vorige maand)': '-49.70%'}, {'Province': ' Zeeland', 'Verkochte woningen': '250', '%Δ Verkocht (t.o.v vorige maand)': '-36.39%'}, {'Province': ' Noord-Brabant', 'Verkochte woningen': '1125', '%Δ Verkocht (t.o.v vorige maand)': '-52.21%'}, {'Province': ' Utrecht', 'Verkochte woningen': '583', '%Δ Verkocht (t.o.v vorige maand)': '-52.79%'}, {'Province': ' Flevoland', 'Verkochte woningen': '229', '%Δ Verkocht (t.o.v vorige maand)': '-41.28%'}, {'Province': ' Friesland', 'Verkochte woningen': '332', '%Δ Verkocht (t.o.v vorige maand)': '-38.40%'}, {'Province': ' Groningen', 'Verkochte woningen': '307', '%Δ Verkocht (t.o.v vorige maand)': '-41.52%'}, {'Province': ' Drenthe', 'Verkochte woningen': '287', '%Δ Verkocht (t.o.v vorige maand)': '-40.95%'}, {'Province': ' Overijssel', 'Verkochte woningen': '487', '%Δ Verkocht (t.o.v vorige maand)': '-47.52%'}, {'Province': ' Gelderland', 'Verkochte woningen': '961', '%Δ Verkocht (t.o.v vorige maand)': '-44.80%'}, {'Province': ' Limburg', 'Verkochte woningen': '512', '%Δ Verkocht (t.o.v vorige maand)': '-39.41%'}]\n"
     ]
    }
   ],
   "source": [
    "mean_verkwoningen = extract_province_trends1(page_links) #use the function\n",
    "print(mean_verkwoningen) #check if it works"
   ]
  },
  {
   "cell_type": "code",
   "execution_count": 60,
   "id": "c7f4c399",
   "metadata": {},
   "outputs": [
    {
     "data": {
      "text/html": [
       "<div>\n",
       "<style scoped>\n",
       "    .dataframe tbody tr th:only-of-type {\n",
       "        vertical-align: middle;\n",
       "    }\n",
       "\n",
       "    .dataframe tbody tr th {\n",
       "        vertical-align: top;\n",
       "    }\n",
       "\n",
       "    .dataframe thead th {\n",
       "        text-align: right;\n",
       "    }\n",
       "</style>\n",
       "<table border=\"1\" class=\"dataframe\">\n",
       "  <thead>\n",
       "    <tr style=\"text-align: right;\">\n",
       "      <th></th>\n",
       "      <th>Province</th>\n",
       "      <th>Verkochte woningen</th>\n",
       "      <th>%Δ Verkocht (t.o.v vorige maand)</th>\n",
       "    </tr>\n",
       "  </thead>\n",
       "  <tbody>\n",
       "    <tr>\n",
       "      <th>0</th>\n",
       "      <td>Noord-Holland</td>\n",
       "      <td>1113</td>\n",
       "      <td>-52.90%</td>\n",
       "    </tr>\n",
       "    <tr>\n",
       "      <th>1</th>\n",
       "      <td>Zuid-Holland</td>\n",
       "      <td>1738</td>\n",
       "      <td>-49.70%</td>\n",
       "    </tr>\n",
       "    <tr>\n",
       "      <th>2</th>\n",
       "      <td>Zeeland</td>\n",
       "      <td>250</td>\n",
       "      <td>-36.39%</td>\n",
       "    </tr>\n",
       "    <tr>\n",
       "      <th>3</th>\n",
       "      <td>Noord-Brabant</td>\n",
       "      <td>1125</td>\n",
       "      <td>-52.21%</td>\n",
       "    </tr>\n",
       "    <tr>\n",
       "      <th>4</th>\n",
       "      <td>Utrecht</td>\n",
       "      <td>583</td>\n",
       "      <td>-52.79%</td>\n",
       "    </tr>\n",
       "    <tr>\n",
       "      <th>5</th>\n",
       "      <td>Flevoland</td>\n",
       "      <td>229</td>\n",
       "      <td>-41.28%</td>\n",
       "    </tr>\n",
       "    <tr>\n",
       "      <th>6</th>\n",
       "      <td>Friesland</td>\n",
       "      <td>332</td>\n",
       "      <td>-38.40%</td>\n",
       "    </tr>\n",
       "    <tr>\n",
       "      <th>7</th>\n",
       "      <td>Groningen</td>\n",
       "      <td>307</td>\n",
       "      <td>-41.52%</td>\n",
       "    </tr>\n",
       "    <tr>\n",
       "      <th>8</th>\n",
       "      <td>Drenthe</td>\n",
       "      <td>287</td>\n",
       "      <td>-40.95%</td>\n",
       "    </tr>\n",
       "    <tr>\n",
       "      <th>9</th>\n",
       "      <td>Overijssel</td>\n",
       "      <td>487</td>\n",
       "      <td>-47.52%</td>\n",
       "    </tr>\n",
       "    <tr>\n",
       "      <th>10</th>\n",
       "      <td>Gelderland</td>\n",
       "      <td>961</td>\n",
       "      <td>-44.80%</td>\n",
       "    </tr>\n",
       "    <tr>\n",
       "      <th>11</th>\n",
       "      <td>Limburg</td>\n",
       "      <td>512</td>\n",
       "      <td>-39.41%</td>\n",
       "    </tr>\n",
       "  </tbody>\n",
       "</table>\n",
       "</div>"
      ],
      "text/plain": [
       "          Province Verkochte woningen %Δ Verkocht (t.o.v vorige maand)\n",
       "0    Noord-Holland               1113                          -52.90%\n",
       "1     Zuid-Holland               1738                          -49.70%\n",
       "2          Zeeland                250                          -36.39%\n",
       "3    Noord-Brabant               1125                          -52.21%\n",
       "4          Utrecht                583                          -52.79%\n",
       "5        Flevoland                229                          -41.28%\n",
       "6        Friesland                332                          -38.40%\n",
       "7        Groningen                307                          -41.52%\n",
       "8          Drenthe                287                          -40.95%\n",
       "9       Overijssel                487                          -47.52%\n",
       "10      Gelderland                961                          -44.80%\n",
       "11         Limburg                512                          -39.41%"
      ]
     },
     "execution_count": 60,
     "metadata": {},
     "output_type": "execute_result"
    }
   ],
   "source": [
    "pd.DataFrame(mean_verkwoningen)"
   ]
  },
  {
   "cell_type": "markdown",
   "id": "96b05b69",
   "metadata": {},
   "source": [
    "*Gemiddelde vierkante meter prijs:*"
   ]
  },
  {
   "cell_type": "code",
   "execution_count": 61,
   "id": "c4851836",
   "metadata": {},
   "outputs": [],
   "source": [
    "def extract_province_trends2(page_links):\n",
    "    trend_list2 = []\n",
    "    for page_link in page_links:\n",
    "        res = requests.get(page_link)\n",
    "        soup = BeautifulSoup(res.text, 'html.parser')\n",
    "        province_name = soup.find_all('h2')[0].get_text()\n",
    "        province_name1 = province_name.replace('Woningmarkt','')\n",
    "        trends = soup.find_all(class_='trend-graph')[2].get_text()\n",
    "        new_trend = trends.replace('\\n','')\n",
    "        new_trend1 = new_trend.replace('Gem. vierkantemeter prijs','')\n",
    "        m2prijs,change = new_trend1.split('                ',1)\n",
    "        change1 = change.replace(' t.o.v. vorige maand            ', '')\n",
    "        trend_list2.append({'Province':province_name1, 'Gem. m2 prijs':m2prijs, '%Δ M2 prijs (t.o.v vorige maand)':change1})\n",
    "    return(trend_list2)"
   ]
  },
  {
   "cell_type": "code",
   "execution_count": 62,
   "id": "0f359018",
   "metadata": {},
   "outputs": [
    {
     "name": "stdout",
     "output_type": "stream",
     "text": [
      "[{'Province': ' Noord-Holland', 'Gem. m2 prijs': '€\\xa04.080', '%Δ M2 prijs (t.o.v vorige maand)': '-2.97%'}, {'Province': ' Zuid-Holland', 'Gem. m2 prijs': '€\\xa03.425', '%Δ M2 prijs (t.o.v vorige maand)': '-0.61%'}, {'Province': ' Zeeland', 'Gem. m2 prijs': '€\\xa02.604', '%Δ M2 prijs (t.o.v vorige maand)': '7.43%'}, {'Province': ' Noord-Brabant', 'Gem. m2 prijs': '€\\xa03.035', '%Δ M2 prijs (t.o.v vorige maand)': '-0.52%'}, {'Province': ' Utrecht', 'Gem. m2 prijs': '€\\xa04.020', '%Δ M2 prijs (t.o.v vorige maand)': '3.16%'}, {'Province': ' Flevoland', 'Gem. m2 prijs': '€\\xa02.948', '%Δ M2 prijs (t.o.v vorige maand)': '-0.41%'}, {'Province': ' Friesland', 'Gem. m2 prijs': '€\\xa02.517', '%Δ M2 prijs (t.o.v vorige maand)': '7.47%'}, {'Province': ' Groningen', 'Gem. m2 prijs': '€\\xa02.391', '%Δ M2 prijs (t.o.v vorige maand)': '-1.89%'}, {'Province': ' Drenthe', 'Gem. m2 prijs': '€\\xa02.455', '%Δ M2 prijs (t.o.v vorige maand)': '0.16%'}, {'Province': ' Overijssel', 'Gem. m2 prijs': '€\\xa02.613', '%Δ M2 prijs (t.o.v vorige maand)': '-0.34%'}, {'Province': ' Gelderland', 'Gem. m2 prijs': '€\\xa03.051', '%Δ M2 prijs (t.o.v vorige maand)': '0.43%'}, {'Province': ' Limburg', 'Gem. m2 prijs': '€\\xa02.361', '%Δ M2 prijs (t.o.v vorige maand)': '0.68%'}]\n"
     ]
    }
   ],
   "source": [
    "mean_m2prijs = extract_province_trends2(page_links) #use the function \n",
    "print(mean_m2prijs) #check whether it works"
   ]
  },
  {
   "cell_type": "code",
   "execution_count": 63,
   "id": "8ec1931c",
   "metadata": {},
   "outputs": [
    {
     "data": {
      "text/html": [
       "<div>\n",
       "<style scoped>\n",
       "    .dataframe tbody tr th:only-of-type {\n",
       "        vertical-align: middle;\n",
       "    }\n",
       "\n",
       "    .dataframe tbody tr th {\n",
       "        vertical-align: top;\n",
       "    }\n",
       "\n",
       "    .dataframe thead th {\n",
       "        text-align: right;\n",
       "    }\n",
       "</style>\n",
       "<table border=\"1\" class=\"dataframe\">\n",
       "  <thead>\n",
       "    <tr style=\"text-align: right;\">\n",
       "      <th></th>\n",
       "      <th>Province</th>\n",
       "      <th>Gem. m2 prijs</th>\n",
       "      <th>%Δ M2 prijs (t.o.v vorige maand)</th>\n",
       "    </tr>\n",
       "  </thead>\n",
       "  <tbody>\n",
       "    <tr>\n",
       "      <th>0</th>\n",
       "      <td>Noord-Holland</td>\n",
       "      <td>€ 4.080</td>\n",
       "      <td>-2.97%</td>\n",
       "    </tr>\n",
       "    <tr>\n",
       "      <th>1</th>\n",
       "      <td>Zuid-Holland</td>\n",
       "      <td>€ 3.425</td>\n",
       "      <td>-0.61%</td>\n",
       "    </tr>\n",
       "    <tr>\n",
       "      <th>2</th>\n",
       "      <td>Zeeland</td>\n",
       "      <td>€ 2.604</td>\n",
       "      <td>7.43%</td>\n",
       "    </tr>\n",
       "    <tr>\n",
       "      <th>3</th>\n",
       "      <td>Noord-Brabant</td>\n",
       "      <td>€ 3.035</td>\n",
       "      <td>-0.52%</td>\n",
       "    </tr>\n",
       "    <tr>\n",
       "      <th>4</th>\n",
       "      <td>Utrecht</td>\n",
       "      <td>€ 4.020</td>\n",
       "      <td>3.16%</td>\n",
       "    </tr>\n",
       "    <tr>\n",
       "      <th>5</th>\n",
       "      <td>Flevoland</td>\n",
       "      <td>€ 2.948</td>\n",
       "      <td>-0.41%</td>\n",
       "    </tr>\n",
       "    <tr>\n",
       "      <th>6</th>\n",
       "      <td>Friesland</td>\n",
       "      <td>€ 2.517</td>\n",
       "      <td>7.47%</td>\n",
       "    </tr>\n",
       "    <tr>\n",
       "      <th>7</th>\n",
       "      <td>Groningen</td>\n",
       "      <td>€ 2.391</td>\n",
       "      <td>-1.89%</td>\n",
       "    </tr>\n",
       "    <tr>\n",
       "      <th>8</th>\n",
       "      <td>Drenthe</td>\n",
       "      <td>€ 2.455</td>\n",
       "      <td>0.16%</td>\n",
       "    </tr>\n",
       "    <tr>\n",
       "      <th>9</th>\n",
       "      <td>Overijssel</td>\n",
       "      <td>€ 2.613</td>\n",
       "      <td>-0.34%</td>\n",
       "    </tr>\n",
       "    <tr>\n",
       "      <th>10</th>\n",
       "      <td>Gelderland</td>\n",
       "      <td>€ 3.051</td>\n",
       "      <td>0.43%</td>\n",
       "    </tr>\n",
       "    <tr>\n",
       "      <th>11</th>\n",
       "      <td>Limburg</td>\n",
       "      <td>€ 2.361</td>\n",
       "      <td>0.68%</td>\n",
       "    </tr>\n",
       "  </tbody>\n",
       "</table>\n",
       "</div>"
      ],
      "text/plain": [
       "          Province Gem. m2 prijs %Δ M2 prijs (t.o.v vorige maand)\n",
       "0    Noord-Holland       € 4.080                           -2.97%\n",
       "1     Zuid-Holland       € 3.425                           -0.61%\n",
       "2          Zeeland       € 2.604                            7.43%\n",
       "3    Noord-Brabant       € 3.035                           -0.52%\n",
       "4          Utrecht       € 4.020                            3.16%\n",
       "5        Flevoland       € 2.948                           -0.41%\n",
       "6        Friesland       € 2.517                            7.47%\n",
       "7        Groningen       € 2.391                           -1.89%\n",
       "8          Drenthe       € 2.455                            0.16%\n",
       "9       Overijssel       € 2.613                           -0.34%\n",
       "10      Gelderland       € 3.051                            0.43%\n",
       "11         Limburg       € 2.361                            0.68%"
      ]
     },
     "execution_count": 63,
     "metadata": {},
     "output_type": "execute_result"
    }
   ],
   "source": [
    "pd.DataFrame(mean_m2prijs)"
   ]
  },
  {
   "cell_type": "markdown",
   "id": "92054394",
   "metadata": {},
   "source": [
    "*Percentage overboden:*"
   ]
  },
  {
   "cell_type": "code",
   "execution_count": 64,
   "id": "94a167fc",
   "metadata": {},
   "outputs": [],
   "source": [
    "def extract_province_trends3(page_links):\n",
    "    trend_list3 = []\n",
    "    for page_link in page_links:\n",
    "        res = requests.get(page_link)\n",
    "        soup = BeautifulSoup(res.text, 'html.parser')\n",
    "        province_name = soup.find_all('h2')[0].get_text()\n",
    "        province_name1 = province_name.replace('Woningmarkt','')\n",
    "        trends = soup.find_all(class_='trend-graph')[3].get_text()\n",
    "        new_trend = trends.replace('\\n','')\n",
    "        new_trend1 = new_trend.replace('Percentage overboden','')\n",
    "        overboden,change = new_trend1.split('                ',1)\n",
    "        change1 = change.replace(' t.o.v. vorige maand            ', '')\n",
    "        trend_list3.append({'Province':province_name1, '% Vraagprijs overboden':overboden, '%Δ Overboden (t.o.v vorige maand)': change1})\n",
    "    return(trend_list3)"
   ]
  },
  {
   "cell_type": "code",
   "execution_count": 65,
   "id": "5ac98a68",
   "metadata": {},
   "outputs": [
    {
     "name": "stdout",
     "output_type": "stream",
     "text": [
      "[{'Province': ' Noord-Holland', '% Vraagprijs overboden': '12.66%', '%Δ Overboden (t.o.v vorige maand)': '1.08%'}, {'Province': ' Zuid-Holland', '% Vraagprijs overboden': '10.23%', '%Δ Overboden (t.o.v vorige maand)': '0.79%'}, {'Province': ' Zeeland', '% Vraagprijs overboden': '8.13%', '%Δ Overboden (t.o.v vorige maand)': '0.13%'}, {'Province': ' Noord-Brabant', '% Vraagprijs overboden': '7.87%', '%Δ Overboden (t.o.v vorige maand)': '0.88%'}, {'Province': ' Utrecht', '% Vraagprijs overboden': '11.97%', '%Δ Overboden (t.o.v vorige maand)': '0.77%'}, {'Province': ' Flevoland', '% Vraagprijs overboden': '14.71%', '%Δ Overboden (t.o.v vorige maand)': '1.08%'}, {'Province': ' Friesland', '% Vraagprijs overboden': '10.64%', '%Δ Overboden (t.o.v vorige maand)': '1.94%'}, {'Province': ' Groningen', '% Vraagprijs overboden': '15.76%', '%Δ Overboden (t.o.v vorige maand)': '1.33%'}, {'Province': ' Drenthe', '% Vraagprijs overboden': '10.49%', '%Δ Overboden (t.o.v vorige maand)': '1.41%'}, {'Province': ' Overijssel', '% Vraagprijs overboden': '9.83%', '%Δ Overboden (t.o.v vorige maand)': '1.36%'}, {'Province': ' Gelderland', '% Vraagprijs overboden': '10.55%', '%Δ Overboden (t.o.v vorige maand)': '0.49%'}, {'Province': ' Limburg', '% Vraagprijs overboden': '8.87%', '%Δ Overboden (t.o.v vorige maand)': '0.73%'}]\n"
     ]
    }
   ],
   "source": [
    "mean_overboden = extract_province_trends3(page_links) #use the function \n",
    "print(mean_overboden) #make sure it works"
   ]
  },
  {
   "cell_type": "code",
   "execution_count": 66,
   "id": "225ccf1b",
   "metadata": {},
   "outputs": [
    {
     "data": {
      "text/html": [
       "<div>\n",
       "<style scoped>\n",
       "    .dataframe tbody tr th:only-of-type {\n",
       "        vertical-align: middle;\n",
       "    }\n",
       "\n",
       "    .dataframe tbody tr th {\n",
       "        vertical-align: top;\n",
       "    }\n",
       "\n",
       "    .dataframe thead th {\n",
       "        text-align: right;\n",
       "    }\n",
       "</style>\n",
       "<table border=\"1\" class=\"dataframe\">\n",
       "  <thead>\n",
       "    <tr style=\"text-align: right;\">\n",
       "      <th></th>\n",
       "      <th>Province</th>\n",
       "      <th>% Vraagprijs overboden</th>\n",
       "      <th>%Δ Overboden (t.o.v vorige maand)</th>\n",
       "    </tr>\n",
       "  </thead>\n",
       "  <tbody>\n",
       "    <tr>\n",
       "      <th>0</th>\n",
       "      <td>Noord-Holland</td>\n",
       "      <td>12.66%</td>\n",
       "      <td>1.08%</td>\n",
       "    </tr>\n",
       "    <tr>\n",
       "      <th>1</th>\n",
       "      <td>Zuid-Holland</td>\n",
       "      <td>10.23%</td>\n",
       "      <td>0.79%</td>\n",
       "    </tr>\n",
       "    <tr>\n",
       "      <th>2</th>\n",
       "      <td>Zeeland</td>\n",
       "      <td>8.13%</td>\n",
       "      <td>0.13%</td>\n",
       "    </tr>\n",
       "    <tr>\n",
       "      <th>3</th>\n",
       "      <td>Noord-Brabant</td>\n",
       "      <td>7.87%</td>\n",
       "      <td>0.88%</td>\n",
       "    </tr>\n",
       "    <tr>\n",
       "      <th>4</th>\n",
       "      <td>Utrecht</td>\n",
       "      <td>11.97%</td>\n",
       "      <td>0.77%</td>\n",
       "    </tr>\n",
       "    <tr>\n",
       "      <th>5</th>\n",
       "      <td>Flevoland</td>\n",
       "      <td>14.71%</td>\n",
       "      <td>1.08%</td>\n",
       "    </tr>\n",
       "    <tr>\n",
       "      <th>6</th>\n",
       "      <td>Friesland</td>\n",
       "      <td>10.64%</td>\n",
       "      <td>1.94%</td>\n",
       "    </tr>\n",
       "    <tr>\n",
       "      <th>7</th>\n",
       "      <td>Groningen</td>\n",
       "      <td>15.76%</td>\n",
       "      <td>1.33%</td>\n",
       "    </tr>\n",
       "    <tr>\n",
       "      <th>8</th>\n",
       "      <td>Drenthe</td>\n",
       "      <td>10.49%</td>\n",
       "      <td>1.41%</td>\n",
       "    </tr>\n",
       "    <tr>\n",
       "      <th>9</th>\n",
       "      <td>Overijssel</td>\n",
       "      <td>9.83%</td>\n",
       "      <td>1.36%</td>\n",
       "    </tr>\n",
       "    <tr>\n",
       "      <th>10</th>\n",
       "      <td>Gelderland</td>\n",
       "      <td>10.55%</td>\n",
       "      <td>0.49%</td>\n",
       "    </tr>\n",
       "    <tr>\n",
       "      <th>11</th>\n",
       "      <td>Limburg</td>\n",
       "      <td>8.87%</td>\n",
       "      <td>0.73%</td>\n",
       "    </tr>\n",
       "  </tbody>\n",
       "</table>\n",
       "</div>"
      ],
      "text/plain": [
       "          Province % Vraagprijs overboden %Δ Overboden (t.o.v vorige maand)\n",
       "0    Noord-Holland                 12.66%                             1.08%\n",
       "1     Zuid-Holland                 10.23%                             0.79%\n",
       "2          Zeeland                  8.13%                             0.13%\n",
       "3    Noord-Brabant                  7.87%                             0.88%\n",
       "4          Utrecht                 11.97%                             0.77%\n",
       "5        Flevoland                 14.71%                             1.08%\n",
       "6        Friesland                 10.64%                             1.94%\n",
       "7        Groningen                 15.76%                             1.33%\n",
       "8          Drenthe                 10.49%                             1.41%\n",
       "9       Overijssel                  9.83%                             1.36%\n",
       "10      Gelderland                 10.55%                             0.49%\n",
       "11         Limburg                  8.87%                             0.73%"
      ]
     },
     "execution_count": 66,
     "metadata": {},
     "output_type": "execute_result"
    }
   ],
   "source": [
    "pd.DataFrame(mean_overboden)"
   ]
  },
  {
   "cell_type": "markdown",
   "id": "4cbbfa5a",
   "metadata": {},
   "source": [
    "*Besteedbaar inkomen:*"
   ]
  },
  {
   "cell_type": "code",
   "execution_count": 67,
   "id": "efe17526",
   "metadata": {},
   "outputs": [],
   "source": [
    "def extract_besteedbaar(page_links):\n",
    "    besteed_inkomen = []\n",
    "    for page_link in page_links:\n",
    "        res = requests.get(page_link)\n",
    "        soup = BeautifulSoup(res.text, 'html.parser')\n",
    "        province_name = soup.find_all('h2')[0].get_text()\n",
    "        province_name1 = province_name.replace('Woningmarkt','')\n",
    "        inkomen = soup.find_all(class_='detail__income huizenzoeker-card single-value-graph-container')[0].get_text()\n",
    "        new_inkomen = inkomen.replace('\\n','')\n",
    "        new_inkomen1 = new_inkomen.replace('Besteedbaar Inkomen Per Huishouden','')\n",
    "        besteed_inkomen.append({'Province':province_name1, 'Besteedbaar inkomen (per huishouden)':new_inkomen1})\n",
    "    return(besteed_inkomen)"
   ]
  },
  {
   "cell_type": "code",
   "execution_count": 68,
   "id": "ffea0122",
   "metadata": {},
   "outputs": [
    {
     "name": "stdout",
     "output_type": "stream",
     "text": [
      "[{'Province': ' Noord-Holland', 'Besteedbaar inkomen (per huishouden)': '€ 36.200'}, {'Province': ' Zuid-Holland', 'Besteedbaar inkomen (per huishouden)': '€ 35.800'}, {'Province': ' Zeeland', 'Besteedbaar inkomen (per huishouden)': '€ 36.900'}, {'Province': ' Noord-Brabant', 'Besteedbaar inkomen (per huishouden)': '€ 38.100'}, {'Province': ' Utrecht', 'Besteedbaar inkomen (per huishouden)': '€ 39.500'}, {'Province': ' Flevoland', 'Besteedbaar inkomen (per huishouden)': '€ 39.500'}, {'Province': ' Friesland', 'Besteedbaar inkomen (per huishouden)': '€ 34.900'}, {'Province': ' Groningen', 'Besteedbaar inkomen (per huishouden)': '€ 30.600'}, {'Province': ' Drenthe', 'Besteedbaar inkomen (per huishouden)': '€ 37.100'}, {'Province': ' Overijssel', 'Besteedbaar inkomen (per huishouden)': '€ 36.900'}, {'Province': ' Gelderland', 'Besteedbaar inkomen (per huishouden)': '€ 37.500'}, {'Province': ' Limburg', 'Besteedbaar inkomen (per huishouden)': '€ 34.800'}]\n"
     ]
    }
   ],
   "source": [
    "mean_inkomen = extract_besteedbaar(page_links) #use the function \n",
    "print(mean_inkomen) #check whether it works"
   ]
  },
  {
   "cell_type": "code",
   "execution_count": 69,
   "id": "c06a9005",
   "metadata": {},
   "outputs": [
    {
     "data": {
      "text/html": [
       "<div>\n",
       "<style scoped>\n",
       "    .dataframe tbody tr th:only-of-type {\n",
       "        vertical-align: middle;\n",
       "    }\n",
       "\n",
       "    .dataframe tbody tr th {\n",
       "        vertical-align: top;\n",
       "    }\n",
       "\n",
       "    .dataframe thead th {\n",
       "        text-align: right;\n",
       "    }\n",
       "</style>\n",
       "<table border=\"1\" class=\"dataframe\">\n",
       "  <thead>\n",
       "    <tr style=\"text-align: right;\">\n",
       "      <th></th>\n",
       "      <th>Province</th>\n",
       "      <th>Besteedbaar inkomen (per huishouden)</th>\n",
       "    </tr>\n",
       "  </thead>\n",
       "  <tbody>\n",
       "    <tr>\n",
       "      <th>0</th>\n",
       "      <td>Noord-Holland</td>\n",
       "      <td>€ 36.200</td>\n",
       "    </tr>\n",
       "    <tr>\n",
       "      <th>1</th>\n",
       "      <td>Zuid-Holland</td>\n",
       "      <td>€ 35.800</td>\n",
       "    </tr>\n",
       "    <tr>\n",
       "      <th>2</th>\n",
       "      <td>Zeeland</td>\n",
       "      <td>€ 36.900</td>\n",
       "    </tr>\n",
       "    <tr>\n",
       "      <th>3</th>\n",
       "      <td>Noord-Brabant</td>\n",
       "      <td>€ 38.100</td>\n",
       "    </tr>\n",
       "    <tr>\n",
       "      <th>4</th>\n",
       "      <td>Utrecht</td>\n",
       "      <td>€ 39.500</td>\n",
       "    </tr>\n",
       "    <tr>\n",
       "      <th>5</th>\n",
       "      <td>Flevoland</td>\n",
       "      <td>€ 39.500</td>\n",
       "    </tr>\n",
       "    <tr>\n",
       "      <th>6</th>\n",
       "      <td>Friesland</td>\n",
       "      <td>€ 34.900</td>\n",
       "    </tr>\n",
       "    <tr>\n",
       "      <th>7</th>\n",
       "      <td>Groningen</td>\n",
       "      <td>€ 30.600</td>\n",
       "    </tr>\n",
       "    <tr>\n",
       "      <th>8</th>\n",
       "      <td>Drenthe</td>\n",
       "      <td>€ 37.100</td>\n",
       "    </tr>\n",
       "    <tr>\n",
       "      <th>9</th>\n",
       "      <td>Overijssel</td>\n",
       "      <td>€ 36.900</td>\n",
       "    </tr>\n",
       "    <tr>\n",
       "      <th>10</th>\n",
       "      <td>Gelderland</td>\n",
       "      <td>€ 37.500</td>\n",
       "    </tr>\n",
       "    <tr>\n",
       "      <th>11</th>\n",
       "      <td>Limburg</td>\n",
       "      <td>€ 34.800</td>\n",
       "    </tr>\n",
       "  </tbody>\n",
       "</table>\n",
       "</div>"
      ],
      "text/plain": [
       "          Province Besteedbaar inkomen (per huishouden)\n",
       "0    Noord-Holland                             € 36.200\n",
       "1     Zuid-Holland                             € 35.800\n",
       "2          Zeeland                             € 36.900\n",
       "3    Noord-Brabant                             € 38.100\n",
       "4          Utrecht                             € 39.500\n",
       "5        Flevoland                             € 39.500\n",
       "6        Friesland                             € 34.900\n",
       "7        Groningen                             € 30.600\n",
       "8          Drenthe                             € 37.100\n",
       "9       Overijssel                             € 36.900\n",
       "10      Gelderland                             € 37.500\n",
       "11         Limburg                             € 34.800"
      ]
     },
     "execution_count": 69,
     "metadata": {},
     "output_type": "execute_result"
    }
   ],
   "source": [
    "pd.DataFrame(mean_inkomen)"
   ]
  },
  {
   "cell_type": "markdown",
   "id": "b4375134",
   "metadata": {},
   "source": [
    "*Merging the dataframes:*"
   ]
  },
  {
   "cell_type": "code",
   "execution_count": 70,
   "id": "d571fce9",
   "metadata": {},
   "outputs": [],
   "source": [
    "df1 = pd.DataFrame(mean_vraagprijs).set_index('Province') #gemiddelde vraagprijs\n",
    "df2 = pd.DataFrame(mean_verkwoningen).set_index('Province') #aantal verkochte woningen\n",
    "df3 = pd.DataFrame(mean_m2prijs).set_index('Province') #gemiddelde m2 prijs\n",
    "df4 = pd.DataFrame(mean_overboden).set_index('Province') #percentage overboden\n",
    "df5 = pd.DataFrame(mean_inkomen).set_index('Province') #besteedbaar inkomen\n",
    "#add a dataframe for the inhabitants data, once finished. "
   ]
  },
  {
   "cell_type": "code",
   "execution_count": 71,
   "id": "e7e607c6",
   "metadata": {},
   "outputs": [],
   "source": [
    "data_frames = [df1,df2,df3,df4,df5] #now we combine the dataframes into one single dataframe"
   ]
  },
  {
   "cell_type": "code",
   "execution_count": 72,
   "id": "650523ac",
   "metadata": {},
   "outputs": [
    {
     "data": {
      "text/html": [
       "<div>\n",
       "<style scoped>\n",
       "    .dataframe tbody tr th:only-of-type {\n",
       "        vertical-align: middle;\n",
       "    }\n",
       "\n",
       "    .dataframe tbody tr th {\n",
       "        vertical-align: top;\n",
       "    }\n",
       "\n",
       "    .dataframe thead th {\n",
       "        text-align: right;\n",
       "    }\n",
       "</style>\n",
       "<table border=\"1\" class=\"dataframe\">\n",
       "  <thead>\n",
       "    <tr style=\"text-align: right;\">\n",
       "      <th></th>\n",
       "      <th>Gem. vraagprijs</th>\n",
       "      <th>%Δ Vraagprijs (t.o.v vorige maand)</th>\n",
       "      <th>Verkochte woningen</th>\n",
       "      <th>%Δ Verkocht (t.o.v vorige maand)</th>\n",
       "      <th>Gem. m2 prijs</th>\n",
       "      <th>%Δ M2 prijs (t.o.v vorige maand)</th>\n",
       "      <th>% Vraagprijs overboden</th>\n",
       "      <th>%Δ Overboden (t.o.v vorige maand)</th>\n",
       "      <th>Besteedbaar inkomen (per huishouden)</th>\n",
       "    </tr>\n",
       "    <tr>\n",
       "      <th>Province</th>\n",
       "      <th></th>\n",
       "      <th></th>\n",
       "      <th></th>\n",
       "      <th></th>\n",
       "      <th></th>\n",
       "      <th></th>\n",
       "      <th></th>\n",
       "      <th></th>\n",
       "      <th></th>\n",
       "    </tr>\n",
       "  </thead>\n",
       "  <tbody>\n",
       "    <tr>\n",
       "      <th>Noord-Holland</th>\n",
       "      <td>€ 375.000</td>\n",
       "      <td>-6.02%</td>\n",
       "      <td>1113</td>\n",
       "      <td>-52.90%</td>\n",
       "      <td>€ 4.080</td>\n",
       "      <td>-2.97%</td>\n",
       "      <td>12.66%</td>\n",
       "      <td>1.08%</td>\n",
       "      <td>€ 36.200</td>\n",
       "    </tr>\n",
       "    <tr>\n",
       "      <th>Zuid-Holland</th>\n",
       "      <td>€ 335.000</td>\n",
       "      <td>-4.29%</td>\n",
       "      <td>1738</td>\n",
       "      <td>-49.70%</td>\n",
       "      <td>€ 3.425</td>\n",
       "      <td>-0.61%</td>\n",
       "      <td>10.23%</td>\n",
       "      <td>0.79%</td>\n",
       "      <td>€ 35.800</td>\n",
       "    </tr>\n",
       "    <tr>\n",
       "      <th>Zeeland</th>\n",
       "      <td>€ 275.000</td>\n",
       "      <td>6.18%</td>\n",
       "      <td>250</td>\n",
       "      <td>-36.39%</td>\n",
       "      <td>€ 2.604</td>\n",
       "      <td>7.43%</td>\n",
       "      <td>8.13%</td>\n",
       "      <td>0.13%</td>\n",
       "      <td>€ 36.900</td>\n",
       "    </tr>\n",
       "    <tr>\n",
       "      <th>Noord-Brabant</th>\n",
       "      <td>€ 339.000</td>\n",
       "      <td>-3.14%</td>\n",
       "      <td>1125</td>\n",
       "      <td>-52.21%</td>\n",
       "      <td>€ 3.035</td>\n",
       "      <td>-0.52%</td>\n",
       "      <td>7.87%</td>\n",
       "      <td>0.88%</td>\n",
       "      <td>€ 38.100</td>\n",
       "    </tr>\n",
       "    <tr>\n",
       "      <th>Utrecht</th>\n",
       "      <td>€ 386.250</td>\n",
       "      <td>-3.44%</td>\n",
       "      <td>583</td>\n",
       "      <td>-52.79%</td>\n",
       "      <td>€ 4.020</td>\n",
       "      <td>3.16%</td>\n",
       "      <td>11.97%</td>\n",
       "      <td>0.77%</td>\n",
       "      <td>€ 39.500</td>\n",
       "    </tr>\n",
       "    <tr>\n",
       "      <th>Flevoland</th>\n",
       "      <td>€ 325.000</td>\n",
       "      <td>0.00%</td>\n",
       "      <td>229</td>\n",
       "      <td>-41.28%</td>\n",
       "      <td>€ 2.948</td>\n",
       "      <td>-0.41%</td>\n",
       "      <td>14.71%</td>\n",
       "      <td>1.08%</td>\n",
       "      <td>€ 39.500</td>\n",
       "    </tr>\n",
       "    <tr>\n",
       "      <th>Friesland</th>\n",
       "      <td>€ 280.000</td>\n",
       "      <td>2.19%</td>\n",
       "      <td>332</td>\n",
       "      <td>-38.40%</td>\n",
       "      <td>€ 2.517</td>\n",
       "      <td>7.47%</td>\n",
       "      <td>10.64%</td>\n",
       "      <td>1.94%</td>\n",
       "      <td>€ 34.900</td>\n",
       "    </tr>\n",
       "    <tr>\n",
       "      <th>Groningen</th>\n",
       "      <td>€ 227.000</td>\n",
       "      <td>-9.20%</td>\n",
       "      <td>307</td>\n",
       "      <td>-41.52%</td>\n",
       "      <td>€ 2.391</td>\n",
       "      <td>-1.89%</td>\n",
       "      <td>15.76%</td>\n",
       "      <td>1.33%</td>\n",
       "      <td>€ 30.600</td>\n",
       "    </tr>\n",
       "    <tr>\n",
       "      <th>Drenthe</th>\n",
       "      <td>€ 295.000</td>\n",
       "      <td>0.00%</td>\n",
       "      <td>287</td>\n",
       "      <td>-40.95%</td>\n",
       "      <td>€ 2.455</td>\n",
       "      <td>0.16%</td>\n",
       "      <td>10.49%</td>\n",
       "      <td>1.41%</td>\n",
       "      <td>€ 37.100</td>\n",
       "    </tr>\n",
       "    <tr>\n",
       "      <th>Overijssel</th>\n",
       "      <td>€ 298.500</td>\n",
       "      <td>-0.50%</td>\n",
       "      <td>487</td>\n",
       "      <td>-47.52%</td>\n",
       "      <td>€ 2.613</td>\n",
       "      <td>-0.34%</td>\n",
       "      <td>9.83%</td>\n",
       "      <td>1.36%</td>\n",
       "      <td>€ 36.900</td>\n",
       "    </tr>\n",
       "    <tr>\n",
       "      <th>Gelderland</th>\n",
       "      <td>€ 335.000</td>\n",
       "      <td>-1.18%</td>\n",
       "      <td>961</td>\n",
       "      <td>-44.80%</td>\n",
       "      <td>€ 3.051</td>\n",
       "      <td>0.43%</td>\n",
       "      <td>10.55%</td>\n",
       "      <td>0.49%</td>\n",
       "      <td>€ 37.500</td>\n",
       "    </tr>\n",
       "    <tr>\n",
       "      <th>Limburg</th>\n",
       "      <td>€ 279.000</td>\n",
       "      <td>1.45%</td>\n",
       "      <td>512</td>\n",
       "      <td>-39.41%</td>\n",
       "      <td>€ 2.361</td>\n",
       "      <td>0.68%</td>\n",
       "      <td>8.87%</td>\n",
       "      <td>0.73%</td>\n",
       "      <td>€ 34.800</td>\n",
       "    </tr>\n",
       "  </tbody>\n",
       "</table>\n",
       "</div>"
      ],
      "text/plain": [
       "               Gem. vraagprijs %Δ Vraagprijs (t.o.v vorige maand)  \\\n",
       "Province                                                            \n",
       " Noord-Holland       € 375.000                             -6.02%   \n",
       " Zuid-Holland        € 335.000                             -4.29%   \n",
       " Zeeland             € 275.000                              6.18%   \n",
       " Noord-Brabant       € 339.000                             -3.14%   \n",
       " Utrecht             € 386.250                             -3.44%   \n",
       " Flevoland           € 325.000                              0.00%   \n",
       " Friesland           € 280.000                              2.19%   \n",
       " Groningen           € 227.000                             -9.20%   \n",
       " Drenthe             € 295.000                              0.00%   \n",
       " Overijssel          € 298.500                             -0.50%   \n",
       " Gelderland          € 335.000                             -1.18%   \n",
       " Limburg             € 279.000                              1.45%   \n",
       "\n",
       "               Verkochte woningen %Δ Verkocht (t.o.v vorige maand)  \\\n",
       "Province                                                             \n",
       " Noord-Holland               1113                          -52.90%   \n",
       " Zuid-Holland                1738                          -49.70%   \n",
       " Zeeland                      250                          -36.39%   \n",
       " Noord-Brabant               1125                          -52.21%   \n",
       " Utrecht                      583                          -52.79%   \n",
       " Flevoland                    229                          -41.28%   \n",
       " Friesland                    332                          -38.40%   \n",
       " Groningen                    307                          -41.52%   \n",
       " Drenthe                      287                          -40.95%   \n",
       " Overijssel                   487                          -47.52%   \n",
       " Gelderland                   961                          -44.80%   \n",
       " Limburg                      512                          -39.41%   \n",
       "\n",
       "               Gem. m2 prijs %Δ M2 prijs (t.o.v vorige maand)  \\\n",
       "Province                                                        \n",
       " Noord-Holland       € 4.080                           -2.97%   \n",
       " Zuid-Holland        € 3.425                           -0.61%   \n",
       " Zeeland             € 2.604                            7.43%   \n",
       " Noord-Brabant       € 3.035                           -0.52%   \n",
       " Utrecht             € 4.020                            3.16%   \n",
       " Flevoland           € 2.948                           -0.41%   \n",
       " Friesland           € 2.517                            7.47%   \n",
       " Groningen           € 2.391                           -1.89%   \n",
       " Drenthe             € 2.455                            0.16%   \n",
       " Overijssel          € 2.613                           -0.34%   \n",
       " Gelderland          € 3.051                            0.43%   \n",
       " Limburg             € 2.361                            0.68%   \n",
       "\n",
       "               % Vraagprijs overboden %Δ Overboden (t.o.v vorige maand)  \\\n",
       "Province                                                                  \n",
       " Noord-Holland                 12.66%                             1.08%   \n",
       " Zuid-Holland                  10.23%                             0.79%   \n",
       " Zeeland                        8.13%                             0.13%   \n",
       " Noord-Brabant                  7.87%                             0.88%   \n",
       " Utrecht                       11.97%                             0.77%   \n",
       " Flevoland                     14.71%                             1.08%   \n",
       " Friesland                     10.64%                             1.94%   \n",
       " Groningen                     15.76%                             1.33%   \n",
       " Drenthe                       10.49%                             1.41%   \n",
       " Overijssel                     9.83%                             1.36%   \n",
       " Gelderland                    10.55%                             0.49%   \n",
       " Limburg                        8.87%                             0.73%   \n",
       "\n",
       "               Besteedbaar inkomen (per huishouden)  \n",
       "Province                                             \n",
       " Noord-Holland                             € 36.200  \n",
       " Zuid-Holland                              € 35.800  \n",
       " Zeeland                                   € 36.900  \n",
       " Noord-Brabant                             € 38.100  \n",
       " Utrecht                                   € 39.500  \n",
       " Flevoland                                 € 39.500  \n",
       " Friesland                                 € 34.900  \n",
       " Groningen                                 € 30.600  \n",
       " Drenthe                                   € 37.100  \n",
       " Overijssel                                € 36.900  \n",
       " Gelderland                                € 37.500  \n",
       " Limburg                                   € 34.800  "
      ]
     },
     "execution_count": 72,
     "metadata": {},
     "output_type": "execute_result"
    }
   ],
   "source": [
    "df_province_summary = reduce(lambda left,right: pd.merge(left,right,on=['Province'],how='outer'),data_frames)\n",
    "df_province_summary"
   ]
  },
  {
   "cell_type": "code",
   "execution_count": null,
   "id": "fada7f2b",
   "metadata": {},
   "outputs": [],
   "source": []
  }
 ],
 "metadata": {
  "kernelspec": {
   "display_name": "Python 3 (ipykernel)",
   "language": "python",
   "name": "python3"
  },
  "language_info": {
   "codemirror_mode": {
    "name": "ipython",
    "version": 3
   },
   "file_extension": ".py",
   "mimetype": "text/x-python",
   "name": "python",
   "nbconvert_exporter": "python",
   "pygments_lexer": "ipython3",
   "version": "3.8.8"
  }
 },
 "nbformat": 4,
 "nbformat_minor": 5
}
