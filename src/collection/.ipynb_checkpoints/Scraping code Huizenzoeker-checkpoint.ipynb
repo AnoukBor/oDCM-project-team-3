{
 "cells": [
  {
   "cell_type": "markdown",
   "id": "be6e9446",
   "metadata": {},
   "source": [
    "# Scraping Huizenzoeker.nl"
   ]
  },
  {
   "cell_type": "markdown",
   "id": "05797a0b",
   "metadata": {},
   "source": [
    "## First attempts at scraping the site"
   ]
  },
  {
   "cell_type": "markdown",
   "id": "2dc560ac",
   "metadata": {},
   "source": [
    "### Scraping data from the housing market page: https://www.huizenzoeker.nl/woningmarkt/Noord-Brabant/Veldhoven/Veldhoven/"
   ]
  },
  {
   "cell_type": "markdown",
   "id": "88d36035",
   "metadata": {},
   "source": [
    "## Method 1: Using Selenium"
   ]
  },
  {
   "cell_type": "markdown",
   "id": "1d7f9c3c",
   "metadata": {},
   "source": [
    "#### Scraping Trenddata for Veldhoven"
   ]
  },
  {
   "cell_type": "code",
   "execution_count": 44,
   "id": "fbfe2915",
   "metadata": {},
   "outputs": [],
   "source": [
    "from selenium import webdriver #make sure you have installed selenium in Anaconda prompt"
   ]
  },
  {
   "cell_type": "code",
   "execution_count": 45,
   "id": "dbdedfdf",
   "metadata": {},
   "outputs": [],
   "source": [
    "driver = webdriver.Chrome()"
   ]
  },
  {
   "cell_type": "code",
   "execution_count": 46,
   "id": "042da9bd",
   "metadata": {},
   "outputs": [],
   "source": [
    "driver.get('https://www.huizenzoeker.nl/woningmarkt/Noord-Brabant/Veldhoven/Veldhoven/')"
   ]
  },
  {
   "cell_type": "code",
   "execution_count": 47,
   "id": "f7ead5bb",
   "metadata": {},
   "outputs": [],
   "source": [
    "element = driver.find_element_by_class_name('trend-graphs')"
   ]
  },
  {
   "cell_type": "code",
   "execution_count": 48,
   "id": "9449923d",
   "metadata": {},
   "outputs": [
    {
     "name": "stdout",
     "output_type": "stream",
     "text": [
      "GEM. VRAAGPRIJS\n",
      "€ 385.000\n",
      "0.00% t.o.v. vorige maand\n",
      "VERKOCHTE WONINGEN\n",
      "19\n",
      "-51.28% t.o.v. vorige maand\n",
      "GEM. VIERKANTEMETER PRIJS\n",
      "€ 3.226\n",
      "0.25% t.o.v. vorige maand\n",
      "PERCENTAGE OVERBODEN\n",
      "8.41%\n",
      "0.01% t.o.v. vorige maand\n"
     ]
    }
   ],
   "source": [
    "print(element.text)"
   ]
  },
  {
   "cell_type": "markdown",
   "id": "368f20c6",
   "metadata": {},
   "source": [
    "#### Scraping 'gemiddeld inkomen' figure for Veldhoven"
   ]
  },
  {
   "cell_type": "code",
   "execution_count": 49,
   "id": "26ac0d92",
   "metadata": {},
   "outputs": [],
   "source": [
    "element1 = driver.find_element_by_class_name('single-value-graph-inner-container')"
   ]
  },
  {
   "cell_type": "code",
   "execution_count": 50,
   "id": "5ecfd169",
   "metadata": {},
   "outputs": [
    {
     "name": "stdout",
     "output_type": "stream",
     "text": [
      "€ 42.000\n"
     ]
    }
   ],
   "source": [
    "print(element1.text)"
   ]
  },
  {
   "cell_type": "markdown",
   "id": "f7f0255d",
   "metadata": {},
   "source": [
    "## Method 2: Using BeautifulSoup "
   ]
  },
  {
   "cell_type": "markdown",
   "id": "4f185192",
   "metadata": {},
   "source": [
    "#### Scraping Trenddata for Veldhoven"
   ]
  },
  {
   "cell_type": "code",
   "execution_count": 68,
   "id": "011e7acb",
   "metadata": {},
   "outputs": [],
   "source": [
    "from bs4 import BeautifulSoup #make sure you have installed the package"
   ]
  },
  {
   "cell_type": "code",
   "execution_count": 69,
   "id": "fc41f345",
   "metadata": {},
   "outputs": [],
   "source": [
    "import requests #again, install the package"
   ]
  },
  {
   "cell_type": "code",
   "execution_count": 102,
   "id": "33808aa2",
   "metadata": {},
   "outputs": [],
   "source": [
    "import re #importing regex"
   ]
  },
  {
   "cell_type": "code",
   "execution_count": 70,
   "id": "eeec2281",
   "metadata": {},
   "outputs": [],
   "source": [
    "url = 'https://www.huizenzoeker.nl/woningmarkt/Noord-Brabant/Veldhoven/Veldhoven/'"
   ]
  },
  {
   "cell_type": "code",
   "execution_count": 71,
   "id": "442fec87",
   "metadata": {},
   "outputs": [],
   "source": [
    "res = requests.get(url)"
   ]
  },
  {
   "cell_type": "code",
   "execution_count": 72,
   "id": "6195309c",
   "metadata": {},
   "outputs": [],
   "source": [
    "soup = BeautifulSoup(res.text, 'html.parser')"
   ]
  },
  {
   "cell_type": "markdown",
   "id": "c26fd2d7",
   "metadata": {},
   "source": [
    "First cell trend data (gemiddelde vraagprijs): "
   ]
  },
  {
   "cell_type": "code",
   "execution_count": 55,
   "id": "ae8b7481",
   "metadata": {},
   "outputs": [
    {
     "data": {
      "text/plain": [
       "'€\\xa0385.000'"
      ]
     },
     "execution_count": 55,
     "metadata": {},
     "output_type": "execute_result"
    }
   ],
   "source": [
    "soup.find_all(class_='trend-graph')[0].find('h3').get_text() #prints only the value of 'Gemiddelde vraagprijs'"
   ]
  },
  {
   "cell_type": "code",
   "execution_count": 103,
   "id": "7ae46d06",
   "metadata": {},
   "outputs": [],
   "source": [
    "vraagprijs=soup.find_all(class_='trend-graph')[0].get_text() #prints info 1st cell of trend-graphs ('Gem. vraagprijs')"
   ]
  },
  {
   "cell_type": "code",
   "execution_count": 105,
   "id": "bc523d48",
   "metadata": {},
   "outputs": [],
   "source": [
    "vraagprijs=vraagprijs.replace(r'\\n','') #replaces \\n with '' "
   ]
  },
  {
   "cell_type": "code",
   "execution_count": 139,
   "id": "f535ac2f",
   "metadata": {},
   "outputs": [],
   "source": [
    "vraagprijs = vraagprijs.replace(r'       ', '')"
   ]
  },
  {
   "cell_type": "code",
   "execution_count": 140,
   "id": "a3089d85",
   "metadata": {},
   "outputs": [
    {
     "name": "stdout",
     "output_type": "stream",
     "text": [
      "\n",
      "Gem. Vraagprijs\n",
      "€ 385.000\n",
      "\n",
      "\n",
      "  0.00% t.o.v. vorige maand\n",
      "     \n",
      "\n"
     ]
    }
   ],
   "source": [
    "print(vraagprijs) "
   ]
  },
  {
   "cell_type": "code",
   "execution_count": 155,
   "id": "e35e7cf4",
   "metadata": {},
   "outputs": [
    {
     "data": {
      "text/plain": [
       "'Gem. Vraagprijs € 385.000 0.00% t.o.v. vorige maand'"
      ]
     },
     "execution_count": 155,
     "metadata": {},
     "output_type": "execute_result"
    }
   ],
   "source": [
    "' '.join(vraagprijs.split()) #prints cleaned 'vraagprijs'"
   ]
  },
  {
   "cell_type": "markdown",
   "id": "19e2cdf1",
   "metadata": {},
   "source": [
    "Second cell trend data (verkochte woningen): "
   ]
  },
  {
   "cell_type": "code",
   "execution_count": 108,
   "id": "d59446c2",
   "metadata": {},
   "outputs": [],
   "source": [
    "verkochtwoning=soup.find_all(class_='trend-graph')[1].get_text() #prints info 2nd cell of trend-graphs ('Verkochte woningen')"
   ]
  },
  {
   "cell_type": "code",
   "execution_count": 109,
   "id": "eda358f8",
   "metadata": {},
   "outputs": [],
   "source": [
    "verkochtwoning=verkochtwoning.replace(r'\\n','')"
   ]
  },
  {
   "cell_type": "code",
   "execution_count": 137,
   "id": "eff366e5",
   "metadata": {},
   "outputs": [],
   "source": [
    "verkochtwoning = verkochtwoning.replace(r'            ', '')"
   ]
  },
  {
   "cell_type": "code",
   "execution_count": 138,
   "id": "26191173",
   "metadata": {},
   "outputs": [
    {
     "name": "stdout",
     "output_type": "stream",
     "text": [
      "\n",
      "Verkochte woningen\n",
      "19\n",
      "\n",
      "\n",
      "       -51.28% t.o.v. vorige maand\n",
      "   \n",
      "\n"
     ]
    }
   ],
   "source": [
    "print(verkochtwoning) "
   ]
  },
  {
   "cell_type": "code",
   "execution_count": 154,
   "id": "15ff64ef",
   "metadata": {},
   "outputs": [
    {
     "data": {
      "text/plain": [
       "'Verkochte woningen 19 -51.28% t.o.v. vorige maand'"
      ]
     },
     "execution_count": 154,
     "metadata": {},
     "output_type": "execute_result"
    }
   ],
   "source": [
    "' '.join(verkochtwoning.split()) #prints cleaned 'verkochte woningen'"
   ]
  },
  {
   "cell_type": "markdown",
   "id": "545022a9",
   "metadata": {},
   "source": [
    "Third cell trend data (vierkantemeter prijs): "
   ]
  },
  {
   "cell_type": "code",
   "execution_count": 111,
   "id": "25e5b2df",
   "metadata": {},
   "outputs": [],
   "source": [
    "vierkantemeter = soup.find_all(class_='trend-graph')[2].get_text() #prints info 3rd cell of trend-graphs ('Gem. vierkantemeter prijs')"
   ]
  },
  {
   "cell_type": "code",
   "execution_count": 112,
   "id": "18418204",
   "metadata": {},
   "outputs": [],
   "source": [
    "vierkantemeter = vierkantemeter.replace(r'\\n', '')"
   ]
  },
  {
   "cell_type": "code",
   "execution_count": 133,
   "id": "453de07d",
   "metadata": {},
   "outputs": [],
   "source": [
    "vierkantemeter = vierkantemeter.replace(r'            ','')"
   ]
  },
  {
   "cell_type": "code",
   "execution_count": 143,
   "id": "de94e7df",
   "metadata": {},
   "outputs": [
    {
     "name": "stdout",
     "output_type": "stream",
     "text": [
      "\n",
      "Gem. vierkantemeter prijs\n",
      "€ 3.226\n",
      "\n",
      "\n",
      "  0.25% t.o.v. vorige maand\n",
      "     \n",
      "\n"
     ]
    }
   ],
   "source": [
    "print(vierkantemeter) "
   ]
  },
  {
   "cell_type": "code",
   "execution_count": 144,
   "id": "13e93842",
   "metadata": {},
   "outputs": [
    {
     "data": {
      "text/plain": [
       "'Gem. vierkantemeter prijs € 3.226 0.25% t.o.v. vorige maand'"
      ]
     },
     "execution_count": 144,
     "metadata": {},
     "output_type": "execute_result"
    }
   ],
   "source": [
    "' '.join(vierkantemeter.split()) #prints cleaned 'vierkantemeter prijs'"
   ]
  },
  {
   "cell_type": "markdown",
   "id": "014dd171",
   "metadata": {},
   "source": [
    "Fourth cell trend data (percentage overboden): "
   ]
  },
  {
   "cell_type": "code",
   "execution_count": 114,
   "id": "b30eb202",
   "metadata": {},
   "outputs": [],
   "source": [
    "overboden = soup.find_all(class_='trend-graph')[3].get_text() #prints info 4rd cell of trend-graphs ('Percentage overboden')"
   ]
  },
  {
   "cell_type": "code",
   "execution_count": 115,
   "id": "397efff0",
   "metadata": {},
   "outputs": [],
   "source": [
    "overboden = overboden.replace(r'\\n','')"
   ]
  },
  {
   "cell_type": "code",
   "execution_count": 125,
   "id": "7756fe4c",
   "metadata": {},
   "outputs": [],
   "source": [
    "overboden = overboden.replace(r'           ', '')"
   ]
  },
  {
   "cell_type": "code",
   "execution_count": 145,
   "id": "5ff49bdf",
   "metadata": {},
   "outputs": [
    {
     "name": "stdout",
     "output_type": "stream",
     "text": [
      "\n",
      "Percentage overboden\n",
      "8.41%\n",
      "\n",
      "\n",
      "       0.01% t.o.v. vorige maand\n",
      "   \n",
      "\n"
     ]
    }
   ],
   "source": [
    "print(overboden) "
   ]
  },
  {
   "cell_type": "code",
   "execution_count": 153,
   "id": "529e452e",
   "metadata": {},
   "outputs": [
    {
     "data": {
      "text/plain": [
       "'Percentage overboden 8.41% 0.01% t.o.v. vorige maand'"
      ]
     },
     "execution_count": 153,
     "metadata": {},
     "output_type": "execute_result"
    }
   ],
   "source": [
    "' '.join(overboden.split()) #prints cleaned 'percentage overboden'"
   ]
  },
  {
   "cell_type": "markdown",
   "id": "4da8d268",
   "metadata": {},
   "source": [
    "Printing the whole trend graph table together: "
   ]
  },
  {
   "cell_type": "code",
   "execution_count": 160,
   "id": "b98a4443",
   "metadata": {},
   "outputs": [
    {
     "data": {
      "text/plain": [
       "[<h4 class=\"trend-graph-title\">Gem. Vraagprijs</h4>,\n",
       " <h4 class=\"trend-graph-title\">Verkochte woningen</h4>,\n",
       " <h4 class=\"trend-graph-title\">Gem. vierkantemeter prijs</h4>,\n",
       " <h4 class=\"trend-graph-title\">Percentage overboden</h4>]"
      ]
     },
     "execution_count": 160,
     "metadata": {},
     "output_type": "execute_result"
    }
   ],
   "source": [
    "soup.find_all(class_='trend-graph-title') #prints all titles of the four cells of trend-graphs"
   ]
  },
  {
   "cell_type": "code",
   "execution_count": 147,
   "id": "57a57a2d",
   "metadata": {},
   "outputs": [
    {
     "data": {
      "text/plain": [
       "[<h3 class=\"trend-graph-value\">€ 385.000</h3>,\n",
       " <h3 class=\"trend-graph-value\">19</h3>,\n",
       " <h3 class=\"trend-graph-value\">€ 3.226</h3>,\n",
       " <h3 class=\"trend-graph-value\">8.41%</h3>]"
      ]
     },
     "execution_count": 147,
     "metadata": {},
     "output_type": "execute_result"
    }
   ],
   "source": [
    "soup.find_all(class_='trend-graph-value') #prints all values of the four cells of trend-graphs"
   ]
  },
  {
   "cell_type": "code",
   "execution_count": 148,
   "id": "9e7b7ca7",
   "metadata": {},
   "outputs": [
    {
     "data": {
      "text/plain": [
       "[<div class=\"trend-graphs\">\n",
       " <div class=\"trend-graph\">\n",
       " <h4 class=\"trend-graph-title\">Gem. Vraagprijs</h4>\n",
       " <h3 class=\"trend-graph-value\">€ 385.000</h3>\n",
       " <div class=\"trend-graph-pill\">\n",
       " <span class=\"trend-graph-icon\"><svg fill=\"black\" height=\"18px\" viewbox=\"0 0 24 24\" width=\"18px\" xmlns=\"http://www.w3.org/2000/svg\"><path d=\"M0 0h24v24H0z\" fill=\"none\"></path><path d=\"M16 6l2.29 2.29-4.88 4.88-4-4L2 16.59 3.41 18l6-6 4 4 6.3-6.29L22 12V6z\"></path></svg></span>\n",
       "                 0.00% t.o.v. vorige maand\n",
       "             </div>\n",
       " </div>\n",
       " <div class=\"trend-graph\">\n",
       " <h4 class=\"trend-graph-title\">Verkochte woningen</h4>\n",
       " <h3 class=\"trend-graph-value\">19</h3>\n",
       " <div class=\"trend-graph-pill trend-down\">\n",
       " <span class=\"trend-graph-icon\"><svg fill=\"black\" height=\"18px\" viewbox=\"0 0 24 24\" width=\"18px\" xmlns=\"http://www.w3.org/2000/svg\"><path d=\"M0 0h24v24H0z\" fill=\"none\"></path><path d=\"M16 18l2.29-2.29-4.88-4.88-4 4L2 7.41 3.41 6l6 6 4-4 6.3 6.29L22 12v6z\"></path></svg></span>\n",
       "                 -51.28% t.o.v. vorige maand\n",
       "             </div>\n",
       " </div>\n",
       " <div class=\"trend-graph\">\n",
       " <h4 class=\"trend-graph-title\">Gem. vierkantemeter prijs</h4>\n",
       " <h3 class=\"trend-graph-value\">€ 3.226</h3>\n",
       " <div class=\"trend-graph-pill\">\n",
       " <span class=\"trend-graph-icon\"><svg fill=\"black\" height=\"18px\" viewbox=\"0 0 24 24\" width=\"18px\" xmlns=\"http://www.w3.org/2000/svg\"><path d=\"M0 0h24v24H0z\" fill=\"none\"></path><path d=\"M16 6l2.29 2.29-4.88 4.88-4-4L2 16.59 3.41 18l6-6 4 4 6.3-6.29L22 12V6z\"></path></svg></span>\n",
       "                 0.25% t.o.v. vorige maand\n",
       "             </div>\n",
       " </div>\n",
       " <div class=\"trend-graph\">\n",
       " <h4 class=\"trend-graph-title\">Percentage overboden</h4>\n",
       " <h3 class=\"trend-graph-value\">8.41%</h3>\n",
       " <div class=\"trend-graph-pill\">\n",
       " <span class=\"trend-graph-icon\"><svg fill=\"black\" height=\"18px\" viewbox=\"0 0 24 24\" width=\"18px\" xmlns=\"http://www.w3.org/2000/svg\"><path d=\"M0 0h24v24H0z\" fill=\"none\"></path><path d=\"M16 6l2.29 2.29-4.88 4.88-4-4L2 16.59 3.41 18l6-6 4 4 6.3-6.29L22 12V6z\"></path></svg></span>\n",
       "                 0.01% t.o.v. vorige maand\n",
       "             </div>\n",
       " </div>\n",
       " </div>]"
      ]
     },
     "execution_count": 148,
     "metadata": {},
     "output_type": "execute_result"
    }
   ],
   "source": [
    "soup.find_all(class_='trend-graphs') #prints all info of trend-graphs together (but includes much unnecessary info)"
   ]
  },
  {
   "cell_type": "code",
   "execution_count": 149,
   "id": "618f6877",
   "metadata": {},
   "outputs": [
    {
     "data": {
      "text/plain": [
       "[<div class=\"single-value-graph-inner-container\">\n",
       " <span class=\"large-text\">€ 42.000</span>\n",
       " </div>]"
      ]
     },
     "execution_count": 149,
     "metadata": {},
     "output_type": "execute_result"
    }
   ],
   "source": [
    "soup.find_all(class_='single-value-graph-inner-container')"
   ]
  },
  {
   "cell_type": "code",
   "execution_count": 150,
   "id": "b3a72f5d",
   "metadata": {},
   "outputs": [
    {
     "data": {
      "text/plain": [
       "[<div class=\"detail__income huizenzoeker-card single-value-graph-container\">\n",
       " <h3>Besteedbaar Inkomen Per Huishouden</h3>\n",
       " <div class=\"single-value-graph-inner-container\">\n",
       " <span class=\"large-text\">€ 42.000</span>\n",
       " </div>\n",
       " </div>]"
      ]
     },
     "execution_count": 150,
     "metadata": {},
     "output_type": "execute_result"
    }
   ],
   "source": [
    "soup.find_all(class_='detail__income huizenzoeker-card single-value-graph-container') #scrapes 'Besteedbaar inkomen per huishouden' + its value for Veldhoven"
   ]
  },
  {
   "cell_type": "code",
   "execution_count": 151,
   "id": "f682e9b9",
   "metadata": {},
   "outputs": [
    {
     "data": {
      "text/plain": [
       "[<div class=\"buurt-info dynamic-text\">\n",
       " <h3>Woningmarkt en Demografie in Veldhoven</h3>\n",
       " <p>\n",
       " <strong>Hoeveel woningen zijn er deze maand verkocht in Veldhoven?</strong><br/>\n",
       "         Deze maand zijn er 19 woningen verkocht in Veldhoven.\n",
       "     </p>\n",
       " <p>\n",
       " <strong>Wat is de gemiddelde vierkante meter prijs in Veldhoven?</strong><br/>\n",
       "         De gemiddelde vierkante meter prijs in de woonplaats Veldhoven is 3226 euro per vierkante meter.\n",
       "     </p>\n",
       " <p>\n",
       " <strong>Hoeveel wordt er gemiddeld overboden in de woonplaats Veldhoven?</strong><br/>\n",
       "         Deze maand is er gemiddeld met 8.41% overboden in Veldhoven.<br/>\n",
       "                     Dat is 0.01% meer dan de vorige maand.\n",
       "             </p>\n",
       " <p>\n",
       " <strong>Hoeveel inwoners heeft de woonplaats Veldhoven?</strong><br/>\n",
       "         In de gemeente Veldhoven wonen 45.466 inwoners.<br/>\n",
       "         Daarvan woont 99.94% in Veldhoven.\n",
       "         Dat zijn 45.440 inwoners. <br/>\n",
       " </p>\n",
       " <p>\n",
       " <strong>Is de woonplaats Veldhoven afgelopen jaar gegroeid?</strong><br/>\n",
       "                     De populatie is het afgelopen jaar met 0.30% gegroeid.\n",
       "                 In de gemeente Veldhoven is Veldhoven de woonplaats met de grootste groei.\n",
       "         Hier is de bevolking namelijk gegroeid met 0.30%.\n",
       "         De woonplaats met de kleinste groei is Veldhoven met 0.30%.\n",
       "     </p>\n",
       " </div>]"
      ]
     },
     "execution_count": 151,
     "metadata": {},
     "output_type": "execute_result"
    }
   ],
   "source": [
    "soup.find_all(class_='buurt-info dynamic-text') #scrapes the 'woningmarkt en demografie' section for Veldhoven"
   ]
  },
  {
   "cell_type": "code",
   "execution_count": 152,
   "id": "a03fae58",
   "metadata": {},
   "outputs": [
    {
     "data": {
      "text/plain": [
       "[<div class=\"graph-canvas-container\">\n",
       " <canvas id=\"average-price-canvas\"></canvas>\n",
       " </div>,\n",
       " <div class=\"graph-canvas-container\">\n",
       " <canvas class=\"graph-canvas\" height=\"100px\" id=\"houses-amount-canvas\" width=\"100px\"></canvas>\n",
       " </div>,\n",
       " <div class=\"graph-canvas-container\">\n",
       " <canvas class=\"graph-canvas pie\" height=\"100px\" id=\"age-average-canvas\" width=\"100px\"></canvas>\n",
       " </div>]"
      ]
     },
     "execution_count": 152,
     "metadata": {},
     "output_type": "execute_result"
    }
   ],
   "source": [
    "soup.find_all(class_='graph-canvas-container') #we can't scrape the piechart I think "
   ]
  },
  {
   "cell_type": "code",
   "execution_count": null,
   "id": "06f686f9",
   "metadata": {},
   "outputs": [],
   "source": []
  }
 ],
 "metadata": {
  "kernelspec": {
   "display_name": "Python 3 (ipykernel)",
   "language": "python",
   "name": "python3"
  },
  "language_info": {
   "codemirror_mode": {
    "name": "ipython",
    "version": 3
   },
   "file_extension": ".py",
   "mimetype": "text/x-python",
   "name": "python",
   "nbconvert_exporter": "python",
   "pygments_lexer": "ipython3",
   "version": "3.8.8"
  }
 },
 "nbformat": 4,
 "nbformat_minor": 5
}
