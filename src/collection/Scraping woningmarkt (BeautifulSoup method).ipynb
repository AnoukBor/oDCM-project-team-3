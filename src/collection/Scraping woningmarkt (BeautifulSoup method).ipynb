{
 "cells": [
  {
   "cell_type": "markdown",
   "id": "d5b6dfd0",
   "metadata": {},
   "source": [
    "# Scraping www.huizenzoeker.nl/woningmarkt/ for all municipalities in the Netherlands"
   ]
  },
  {
   "cell_type": "markdown",
   "id": "0816b448",
   "metadata": {},
   "source": [
    "### ODCM project - Team 3 "
   ]
  },
  {
   "cell_type": "markdown",
   "id": "f1722c53",
   "metadata": {},
   "source": [
    "Which municipalities in the Netherlands are hit hardest by the Dutch Housing crisis, and which the least? \n",
    "We use the site www.huizenzoeker.nl/woningmarkt/ to analyse the Dutch Housing Market, including the gem. vraagprijs, # verkochte woningen, gem. vierkante meter prijs, % overboden. "
   ]
  },
  {
   "cell_type": "markdown",
   "id": "6909316b",
   "metadata": {},
   "source": [
    "## Step 1: Loading all the basics"
   ]
  },
  {
   "cell_type": "markdown",
   "id": "eba9f6b7",
   "metadata": {},
   "source": [
    "Here we import the packages we will use. Set the url, request the url and set the html.parser."
   ]
  },
  {
   "cell_type": "code",
   "execution_count": 78,
   "id": "027cf859",
   "metadata": {},
   "outputs": [],
   "source": [
    "#import the packages (after you have installed them properly)\n",
    "from bs4 import BeautifulSoup\n",
    "import requests\n",
    "import re\n",
    "import pandas as pd \n",
    "from functools import reduce"
   ]
  },
  {
   "cell_type": "code",
   "execution_count": 79,
   "id": "24ad1629",
   "metadata": {},
   "outputs": [],
   "source": [
    "#set the basis for BeautifulSoup \n",
    "url = 'https://www.huizenzoeker.nl/woningmarkt/noord-brabant/veldhoven/'\n",
    "res = requests.get(url)\n",
    "soup = BeautifulSoup(res.text, 'html.parser')"
   ]
  },
  {
   "cell_type": "markdown",
   "id": "a13a8dd4",
   "metadata": {},
   "source": [
    "## Step 2: Collecting the URLs "
   ]
  },
  {
   "cell_type": "markdown",
   "id": "929466fd",
   "metadata": {},
   "source": [
    "Here we generate a base_url which is the same for all municipalities, for all provinces of the Netherlands. Then we generate a city_url for the specific province and the municipality in that province. "
   ]
  },
  {
   "cell_type": "code",
   "execution_count": 3,
   "id": "b171cfbc",
   "metadata": {},
   "outputs": [],
   "source": [
    "base_url = 'https://www.huizenzoeker.nl/woningmarkt/' "
   ]
  },
  {
   "cell_type": "markdown",
   "id": "8f8dd1b4",
   "metadata": {},
   "source": [
    "**Noord-Brabant URLS**"
   ]
  },
  {
   "cell_type": "markdown",
   "id": "b02d4057",
   "metadata": {},
   "source": [
    "The first city_url is used to test out the code (less time-consuming), and the second city_url already works for all municipalities and is used for the end-product. "
   ]
  },
  {
   "cell_type": "code",
   "execution_count": 4,
   "id": "f9b4e75e",
   "metadata": {},
   "outputs": [],
   "source": [
    "city_url = ['noord-brabant/veldhoven/','noord-brabant/best/','noord-brabant/eindhoven/'] #to test out the code (less time-consuming)"
   ]
  },
  {
   "cell_type": "code",
   "execution_count": 7,
   "id": "77435c01",
   "metadata": {},
   "outputs": [],
   "source": [
    "city_url = ['noord-brabant/alphen-chaam/','noord-brabant/altena/', 'noord-brabant/asten/','noord-brabant/baarle-nassau/','noord-brabant/bergeijk/','noord-brabant/bergen-op-zoom/','noord-brabant/bernheze/','noord-brabant/best/','noord-brabant/bladel/','noord-brabant/boekel/','noord-brabant/boxmeer/','noord-brabant/boxtel/','noord-brabant/breda/','noord-brabant/cranendonck/','noord-brabant/cuijk/','noord-brabant/deurne/','noord-brabant/dongen/','noord-brabant/drimmelen/','noord-brabant/eersel/','noord-brabant/eindhoven/','noord-brabant/etten-leur/','noord-brabant/geertruidenberg/','noord-brabant/geldrop-mierlo/','noord-brabant/gemert-bakel/','noord-brabant/gilze-en-rijen/','noord-brabant/goirle/','noord-brabant/grave/','noord-brabant/halderberge/','noord-brabant/heeze-leende/','noord-brabant/helmond/','noord-brabant/heusden/','noord-brabant/hilvarenbeek/', 'noord-brabant/laarbeek/','noord-brabant/landerd/','noord-brabant/loon-op-zand/','noord-brabant/meierijstad/','noord-brabant/mill-en-sint-hubert/','noord-brabant/moerdijk/','noord-brabant/nuenen,-gerwen-en-nederwetten/','noord-brabant/oirschot/','noord-brabant/oisterwijk/','noord-brabant/oosterhout/','noord-brabant/oss/','noord-brabant/reusel-de-mierden/','noord-brabant/roosendaal/','noord-brabant/rucphen/','noord-brabant/s-hertogenbosch/','noord-brabant/sint-anthonis/','noord-brabant/sint-michielsgestel/','noord-brabant/someren/','noord-brabant/son-en-breugel/','noord-brabant/steenbergen/','noord-brabant/tilburg/','noord-brabant/uden/','noord-brabant/valkenswaard/','noord-brabant/veldhoven/','noord-brabant/vught/','noord-brabant/waalre/','noord-brabant/waalwijk/','noord-brabant/woensdrecht/','noord-brabant/zundert/']"
   ]
  },
  {
   "cell_type": "markdown",
   "id": "cc76b1eb",
   "metadata": {},
   "source": [
    "We define a function 'generate_page_urls' to paste together the base_url and city_url, for every municipality in NB, into a complete URL. "
   ]
  },
  {
   "cell_type": "code",
   "execution_count": 5,
   "id": "0a0095bb",
   "metadata": {},
   "outputs": [],
   "source": [
    "def generate_page_urls(base_url,city_url):\n",
    "    page_urls = []\n",
    "    for i in city_url:\n",
    "        full_url = base_url + i\n",
    "        page_urls.append(full_url)\n",
    "    return page_urls"
   ]
  },
  {
   "cell_type": "code",
   "execution_count": 6,
   "id": "cb65aca8",
   "metadata": {},
   "outputs": [
    {
     "name": "stdout",
     "output_type": "stream",
     "text": [
      "['https://www.huizenzoeker.nl/woningmarkt/noord-brabant/veldhoven/', 'https://www.huizenzoeker.nl/woningmarkt/noord-brabant/best/', 'https://www.huizenzoeker.nl/woningmarkt/noord-brabant/eindhoven/']\n"
     ]
    }
   ],
   "source": [
    "page_urls = generate_page_urls(base_url,city_url) #use the function on the base_url and city_url \n",
    "print(page_urls) #show that it has worked"
   ]
  },
  {
   "cell_type": "markdown",
   "id": "00a445f9",
   "metadata": {},
   "source": [
    "## Step 3a: Gather all data for all municipalities: Trend data"
   ]
  },
  {
   "cell_type": "markdown",
   "id": "3250b036",
   "metadata": {},
   "source": [
    "For each municipality we now extract the gem. vraagprijs, verkochte woningen, gem.vierkantemeter prijs, % overboden (and how these numbers how changed t.o.v. vorige maand)."
   ]
  },
  {
   "cell_type": "markdown",
   "id": "4207d0db",
   "metadata": {},
   "source": [
    "### Gemiddelde vraagprijs (Quadrant 1 Trend data)"
   ]
  },
  {
   "cell_type": "markdown",
   "id": "1548e609",
   "metadata": {},
   "source": [
    "Extract the gemiddelde vraagprijs, and its % change t.o.v. vorige maand. "
   ]
  },
  {
   "cell_type": "markdown",
   "id": "4c0ead0b",
   "metadata": {},
   "source": [
    "**Noord-Brabant data**"
   ]
  },
  {
   "cell_type": "markdown",
   "id": "052de93e",
   "metadata": {},
   "source": [
    "We generate a function extract_city_trends that will extract the data of the first quadrant for all municipalities. We adjusted the function to put the % change t.o.v. last month in a seperate column (which looks better in the pandas dataframe, and makes it easier to analyse the data). "
   ]
  },
  {
   "cell_type": "code",
   "execution_count": 26,
   "id": "8ac33cc7",
   "metadata": {},
   "outputs": [],
   "source": [
    "def extract_city_trends(page_urls):\n",
    "    trend_list = []\n",
    "    for page_url in page_urls:\n",
    "        res = requests.get(page_url) #HERE WAS A FEEDBACK UPDATE: using driver.get(page_url) instead, and adding time.sleep(5), but I think that maybe only applies to the Selenium solution so that wasn't implemented here!!\n",
    "        soup = BeautifulSoup(res.text, 'html.parser')\n",
    "        city_name = soup.find_all('h2')[0].get_text()\n",
    "        city_name1 = city_name.replace('Woningmarkt','')\n",
    "        city_name2 = city_name1.replace(\" \",'') #UPDATE: removed space before city name\n",
    "        trends = soup.find_all(class_='trend-graph')[0].get_text()\n",
    "        new_trend = trends.replace('\\n','')\n",
    "        new_trend1 = new_trend.replace('Gem. Vraagprijs','')\n",
    "        price,change = new_trend1.split('                ',1)\n",
    "        price1 = price.replace('.',',') #UPDATE: changed thousand separators to , instead of . \n",
    "        change1 = change.replace(' t.o.v. vorige maand            ', '')\n",
    "        trend_list.append({'City':city_name2, 'Gem. vraagprijs':price1, '%Δ Vraagprijs (t.o.v vorige maand)':change1})\n",
    "    return(trend_list)"
   ]
  },
  {
   "cell_type": "code",
   "execution_count": 27,
   "id": "8cc5bf44",
   "metadata": {},
   "outputs": [
    {
     "name": "stdout",
     "output_type": "stream",
     "text": [
      "[{'City': 'Veldhoven', 'Gem. vraagprijs': '€\\xa0359,000', '%Δ Vraagprijs (t.o.v vorige maand)': '-16.99%'}, {'City': 'Best', 'Gem. vraagprijs': '€\\xa0615,000', '%Δ Vraagprijs (t.o.v vorige maand)': '68.49%'}, {'City': 'Eindhoven', 'Gem. vraagprijs': '€\\xa0357,500', '%Δ Vraagprijs (t.o.v vorige maand)': '5.46%'}]\n"
     ]
    }
   ],
   "source": [
    "gem_vraagprijs = extract_city_trends(page_urls) #use the function\n",
    "print(gem_vraagprijs) #check if it works"
   ]
  },
  {
   "cell_type": "markdown",
   "id": "00ee3e8f",
   "metadata": {},
   "source": [
    "We generate a Pandas dataframe of the data we just collected for all municipalities."
   ]
  },
  {
   "cell_type": "code",
   "execution_count": 28,
   "id": "9b5b6510",
   "metadata": {},
   "outputs": [
    {
     "data": {
      "text/html": [
       "<div>\n",
       "<style scoped>\n",
       "    .dataframe tbody tr th:only-of-type {\n",
       "        vertical-align: middle;\n",
       "    }\n",
       "\n",
       "    .dataframe tbody tr th {\n",
       "        vertical-align: top;\n",
       "    }\n",
       "\n",
       "    .dataframe thead th {\n",
       "        text-align: right;\n",
       "    }\n",
       "</style>\n",
       "<table border=\"1\" class=\"dataframe\">\n",
       "  <thead>\n",
       "    <tr style=\"text-align: right;\">\n",
       "      <th></th>\n",
       "      <th>City</th>\n",
       "      <th>Gem. vraagprijs</th>\n",
       "      <th>%Δ Vraagprijs (t.o.v vorige maand)</th>\n",
       "    </tr>\n",
       "  </thead>\n",
       "  <tbody>\n",
       "    <tr>\n",
       "      <th>0</th>\n",
       "      <td>Veldhoven</td>\n",
       "      <td>€ 359,000</td>\n",
       "      <td>-16.99%</td>\n",
       "    </tr>\n",
       "    <tr>\n",
       "      <th>1</th>\n",
       "      <td>Best</td>\n",
       "      <td>€ 615,000</td>\n",
       "      <td>68.49%</td>\n",
       "    </tr>\n",
       "    <tr>\n",
       "      <th>2</th>\n",
       "      <td>Eindhoven</td>\n",
       "      <td>€ 357,500</td>\n",
       "      <td>5.46%</td>\n",
       "    </tr>\n",
       "  </tbody>\n",
       "</table>\n",
       "</div>"
      ],
      "text/plain": [
       "        City Gem. vraagprijs %Δ Vraagprijs (t.o.v vorige maand)\n",
       "0  Veldhoven       € 359,000                            -16.99%\n",
       "1       Best       € 615,000                             68.49%\n",
       "2  Eindhoven       € 357,500                              5.46%"
      ]
     },
     "execution_count": 28,
     "metadata": {},
     "output_type": "execute_result"
    }
   ],
   "source": [
    "pd.DataFrame(gem_vraagprijs)"
   ]
  },
  {
   "cell_type": "markdown",
   "id": "a7993565",
   "metadata": {},
   "source": [
    "### # Verkochte woningen (Quadrant 2 Trend data)"
   ]
  },
  {
   "cell_type": "markdown",
   "id": "aceceab4",
   "metadata": {},
   "source": [
    "Extract the # of verkochte woningen, and its % change t.o.v. vorige maand. "
   ]
  },
  {
   "cell_type": "markdown",
   "id": "f9ba4df3",
   "metadata": {},
   "source": [
    "**Noord-Brabant data**"
   ]
  },
  {
   "cell_type": "markdown",
   "id": "6be7ffbf",
   "metadata": {},
   "source": [
    "Again we use a similar function, but now we use it to select data from a different quadrant. "
   ]
  },
  {
   "cell_type": "code",
   "execution_count": 29,
   "id": "73bf3315",
   "metadata": {},
   "outputs": [],
   "source": [
    "def extract_city_trends1(page_urls):\n",
    "    trend_list1 = []\n",
    "    for page_url in page_urls:\n",
    "        res = requests.get(page_url)\n",
    "        soup = BeautifulSoup(res.text, 'html.parser')\n",
    "        city_name = soup.find_all('h2')[0].get_text()\n",
    "        city_name1 = city_name.replace('Woningmarkt','')\n",
    "        city_name2 = city_name1.replace(\" \",'') #UPDATE: removed space before city name\n",
    "        trends = soup.find_all(class_='trend-graph')[1].get_text()\n",
    "        new_trend = trends.replace('\\n','')\n",
    "        new_trend1 = new_trend.replace('Verkochte woningen','')\n",
    "        verkocht,change = new_trend1.split('                ',1)\n",
    "        change1 = change.replace(' t.o.v. vorige maand            ', '')\n",
    "        trend_list1.append({'City':city_name2, 'Verkochte woningen':verkocht, '%Δ Verkocht (t.o.v vorige maand)':change1})\n",
    "    return(trend_list1)"
   ]
  },
  {
   "cell_type": "code",
   "execution_count": 30,
   "id": "312cebed",
   "metadata": {},
   "outputs": [
    {
     "name": "stdout",
     "output_type": "stream",
     "text": [
      "[{'City': 'Veldhoven', 'Verkochte woningen': '12', '%Δ Verkocht (t.o.v vorige maand)': '-45.45%'}, {'City': 'Best', 'Verkochte woningen': '6', '%Δ Verkocht (t.o.v vorige maand)': '-33.33%'}, {'City': 'Eindhoven', 'Verkochte woningen': '51', '%Δ Verkocht (t.o.v vorige maand)': '-46.32%'}]\n"
     ]
    }
   ],
   "source": [
    "verk_woningen = extract_city_trends1(page_urls) #use the function\n",
    "print(verk_woningen) #check if it works "
   ]
  },
  {
   "cell_type": "markdown",
   "id": "1d505b47",
   "metadata": {},
   "source": [
    "We generate a Pandas dataframe of the data we just collected for all municipalities."
   ]
  },
  {
   "cell_type": "code",
   "execution_count": 31,
   "id": "638899f8",
   "metadata": {},
   "outputs": [
    {
     "data": {
      "text/html": [
       "<div>\n",
       "<style scoped>\n",
       "    .dataframe tbody tr th:only-of-type {\n",
       "        vertical-align: middle;\n",
       "    }\n",
       "\n",
       "    .dataframe tbody tr th {\n",
       "        vertical-align: top;\n",
       "    }\n",
       "\n",
       "    .dataframe thead th {\n",
       "        text-align: right;\n",
       "    }\n",
       "</style>\n",
       "<table border=\"1\" class=\"dataframe\">\n",
       "  <thead>\n",
       "    <tr style=\"text-align: right;\">\n",
       "      <th></th>\n",
       "      <th>City</th>\n",
       "      <th>Verkochte woningen</th>\n",
       "      <th>%Δ Verkocht (t.o.v vorige maand)</th>\n",
       "    </tr>\n",
       "  </thead>\n",
       "  <tbody>\n",
       "    <tr>\n",
       "      <th>0</th>\n",
       "      <td>Veldhoven</td>\n",
       "      <td>12</td>\n",
       "      <td>-45.45%</td>\n",
       "    </tr>\n",
       "    <tr>\n",
       "      <th>1</th>\n",
       "      <td>Best</td>\n",
       "      <td>6</td>\n",
       "      <td>-33.33%</td>\n",
       "    </tr>\n",
       "    <tr>\n",
       "      <th>2</th>\n",
       "      <td>Eindhoven</td>\n",
       "      <td>51</td>\n",
       "      <td>-46.32%</td>\n",
       "    </tr>\n",
       "  </tbody>\n",
       "</table>\n",
       "</div>"
      ],
      "text/plain": [
       "        City Verkochte woningen %Δ Verkocht (t.o.v vorige maand)\n",
       "0  Veldhoven                 12                          -45.45%\n",
       "1       Best                  6                          -33.33%\n",
       "2  Eindhoven                 51                          -46.32%"
      ]
     },
     "execution_count": 31,
     "metadata": {},
     "output_type": "execute_result"
    }
   ],
   "source": [
    "pd.DataFrame(verk_woningen)"
   ]
  },
  {
   "cell_type": "markdown",
   "id": "e96af413",
   "metadata": {},
   "source": [
    "### Gemiddelde vierkantemeter prijs (Quadrant 3 Trend data)"
   ]
  },
  {
   "cell_type": "markdown",
   "id": "0a9d9b77",
   "metadata": {},
   "source": [
    "Extract the gemiddelde vierkante meter prijs, and its % change t.o.v. vorige maand. "
   ]
  },
  {
   "cell_type": "markdown",
   "id": "51db9081",
   "metadata": {},
   "source": [
    "**Noord-Brabant data**"
   ]
  },
  {
   "cell_type": "code",
   "execution_count": 37,
   "id": "e20d60c9",
   "metadata": {},
   "outputs": [],
   "source": [
    "def extract_city_trends2(page_urls):\n",
    "    trend_list2 = []\n",
    "    for page_url in page_urls:\n",
    "        res = requests.get(page_url)\n",
    "        soup = BeautifulSoup(res.text, 'html.parser')\n",
    "        city_name = soup.find_all('h2')[0].get_text()\n",
    "        city_name1 = city_name.replace('Woningmarkt','')\n",
    "        city_name2 = city_name1.replace(\" \",'') #UPDATE: removed space before city name\n",
    "        trends = soup.find_all(class_='trend-graph')[2].get_text()\n",
    "        new_trend = trends.replace('\\n','')\n",
    "        new_trend1 = new_trend.replace('Gem. vierkantemeter prijs','')\n",
    "        m2prijs,change = new_trend1.split('                ',1)\n",
    "        m2prijs1 = m2prijs.replace('.',',') #UPDATE: changed thousand separators to , instead of . \n",
    "        change1 = change.replace(' t.o.v. vorige maand            ', '')\n",
    "        trend_list2.append({'City':city_name2, 'Gem. m2 prijs':m2prijs1, '%Δ M2 prijs (t.o.v vorige maand)':change1})\n",
    "    return(trend_list2)"
   ]
  },
  {
   "cell_type": "code",
   "execution_count": 38,
   "id": "9560974e",
   "metadata": {},
   "outputs": [
    {
     "name": "stdout",
     "output_type": "stream",
     "text": [
      "[{'City': 'Veldhoven', 'Gem. m2 prijs': '€\\xa03,333', '%Δ M2 prijs (t.o.v vorige maand)': '-3.05%'}, {'City': 'Best', 'Gem. m2 prijs': '€\\xa03,735', '%Δ M2 prijs (t.o.v vorige maand)': '33.63%'}, {'City': 'Eindhoven', 'Gem. m2 prijs': '€\\xa03,571', '%Δ M2 prijs (t.o.v vorige maand)': '8.18%'}]\n"
     ]
    }
   ],
   "source": [
    "m2_prijs = extract_city_trends2(page_urls) #use the function \n",
    "print(m2_prijs) #check whether it works"
   ]
  },
  {
   "cell_type": "markdown",
   "id": "511f0bf6",
   "metadata": {},
   "source": [
    "We generate a Pandas dataframe of the data we just collected for all municipalities."
   ]
  },
  {
   "cell_type": "code",
   "execution_count": 39,
   "id": "ecb1ad2f",
   "metadata": {},
   "outputs": [
    {
     "data": {
      "text/html": [
       "<div>\n",
       "<style scoped>\n",
       "    .dataframe tbody tr th:only-of-type {\n",
       "        vertical-align: middle;\n",
       "    }\n",
       "\n",
       "    .dataframe tbody tr th {\n",
       "        vertical-align: top;\n",
       "    }\n",
       "\n",
       "    .dataframe thead th {\n",
       "        text-align: right;\n",
       "    }\n",
       "</style>\n",
       "<table border=\"1\" class=\"dataframe\">\n",
       "  <thead>\n",
       "    <tr style=\"text-align: right;\">\n",
       "      <th></th>\n",
       "      <th>City</th>\n",
       "      <th>Gem. m2 prijs</th>\n",
       "      <th>%Δ M2 prijs (t.o.v vorige maand)</th>\n",
       "    </tr>\n",
       "  </thead>\n",
       "  <tbody>\n",
       "    <tr>\n",
       "      <th>0</th>\n",
       "      <td>Veldhoven</td>\n",
       "      <td>€ 3,333</td>\n",
       "      <td>-3.05%</td>\n",
       "    </tr>\n",
       "    <tr>\n",
       "      <th>1</th>\n",
       "      <td>Best</td>\n",
       "      <td>€ 3,735</td>\n",
       "      <td>33.63%</td>\n",
       "    </tr>\n",
       "    <tr>\n",
       "      <th>2</th>\n",
       "      <td>Eindhoven</td>\n",
       "      <td>€ 3,571</td>\n",
       "      <td>8.18%</td>\n",
       "    </tr>\n",
       "  </tbody>\n",
       "</table>\n",
       "</div>"
      ],
      "text/plain": [
       "        City Gem. m2 prijs %Δ M2 prijs (t.o.v vorige maand)\n",
       "0  Veldhoven       € 3,333                           -3.05%\n",
       "1       Best       € 3,735                           33.63%\n",
       "2  Eindhoven       € 3,571                            8.18%"
      ]
     },
     "execution_count": 39,
     "metadata": {},
     "output_type": "execute_result"
    }
   ],
   "source": [
    "pd.DataFrame(m2_prijs)"
   ]
  },
  {
   "cell_type": "markdown",
   "id": "1dae1211",
   "metadata": {},
   "source": [
    "### Percentage overboden (Quadrant 4 Trend data)"
   ]
  },
  {
   "cell_type": "markdown",
   "id": "13abc820",
   "metadata": {},
   "source": [
    "Extract the % overboden, and its % change t.o.v. vorige maand. "
   ]
  },
  {
   "cell_type": "code",
   "execution_count": 49,
   "id": "92a442ba",
   "metadata": {},
   "outputs": [],
   "source": [
    "def extract_city_trends3(page_urls):\n",
    "    trend_list3 = []\n",
    "    for page_url in page_urls:\n",
    "        res = requests.get(page_url)\n",
    "        soup = BeautifulSoup(res.text, 'html.parser')\n",
    "        city_name = soup.find_all('h2')[0].get_text()\n",
    "        city_name1 = city_name.replace('Woningmarkt','')\n",
    "        city_name2 = city_name1.replace(\" \",'') #UPDATE: removed space before city name\n",
    "        trends = soup.find_all(class_='trend-graph')[3].get_text()\n",
    "        new_trend = trends.replace('\\n','')\n",
    "        new_trend1 = new_trend.replace('Percentage overboden','')\n",
    "        overboden,change = new_trend1.split('                ',1)\n",
    "        change1 = change.replace(' t.o.v. vorige maand            ', '')\n",
    "        trend_list3.append({'City':city_name2, '% Vraagprijs overboden':overboden, '%Δ Overboden (t.o.v vorige maand)': change1})\n",
    "    return(trend_list3)"
   ]
  },
  {
   "cell_type": "code",
   "execution_count": 50,
   "id": "4ef24b97",
   "metadata": {},
   "outputs": [
    {
     "name": "stdout",
     "output_type": "stream",
     "text": [
      "[{'City': 'Veldhoven', '% Vraagprijs overboden': '8.41%', '%Δ Overboden (t.o.v vorige maand)': '0.01%'}, {'City': 'Best', '% Vraagprijs overboden': '8.14%', '%Δ Overboden (t.o.v vorige maand)': '-1.24%'}, {'City': 'Eindhoven', '% Vraagprijs overboden': '10.31%', '%Δ Overboden (t.o.v vorige maand)': '1.01%'}]\n"
     ]
    }
   ],
   "source": [
    "perc_overboden = extract_city_trends3(page_urls) #use the function \n",
    "print(perc_overboden) #make sure it works"
   ]
  },
  {
   "cell_type": "markdown",
   "id": "757463df",
   "metadata": {},
   "source": [
    "We generate a Pandas dataframe of the data we just collected for all municipalities."
   ]
  },
  {
   "cell_type": "code",
   "execution_count": 51,
   "id": "61fe948c",
   "metadata": {},
   "outputs": [
    {
     "data": {
      "text/html": [
       "<div>\n",
       "<style scoped>\n",
       "    .dataframe tbody tr th:only-of-type {\n",
       "        vertical-align: middle;\n",
       "    }\n",
       "\n",
       "    .dataframe tbody tr th {\n",
       "        vertical-align: top;\n",
       "    }\n",
       "\n",
       "    .dataframe thead th {\n",
       "        text-align: right;\n",
       "    }\n",
       "</style>\n",
       "<table border=\"1\" class=\"dataframe\">\n",
       "  <thead>\n",
       "    <tr style=\"text-align: right;\">\n",
       "      <th></th>\n",
       "      <th>City</th>\n",
       "      <th>% Vraagprijs overboden</th>\n",
       "      <th>%Δ Overboden (t.o.v vorige maand)</th>\n",
       "    </tr>\n",
       "  </thead>\n",
       "  <tbody>\n",
       "    <tr>\n",
       "      <th>0</th>\n",
       "      <td>Veldhoven</td>\n",
       "      <td>8.41%</td>\n",
       "      <td>0.01%</td>\n",
       "    </tr>\n",
       "    <tr>\n",
       "      <th>1</th>\n",
       "      <td>Best</td>\n",
       "      <td>8.14%</td>\n",
       "      <td>-1.24%</td>\n",
       "    </tr>\n",
       "    <tr>\n",
       "      <th>2</th>\n",
       "      <td>Eindhoven</td>\n",
       "      <td>10.31%</td>\n",
       "      <td>1.01%</td>\n",
       "    </tr>\n",
       "  </tbody>\n",
       "</table>\n",
       "</div>"
      ],
      "text/plain": [
       "        City % Vraagprijs overboden %Δ Overboden (t.o.v vorige maand)\n",
       "0  Veldhoven                  8.41%                             0.01%\n",
       "1       Best                  8.14%                            -1.24%\n",
       "2  Eindhoven                 10.31%                             1.01%"
      ]
     },
     "execution_count": 51,
     "metadata": {},
     "output_type": "execute_result"
    }
   ],
   "source": [
    "pd.DataFrame(perc_overboden)"
   ]
  },
  {
   "cell_type": "markdown",
   "id": "d5abe54c",
   "metadata": {},
   "source": [
    "## Step 3b: Gather all data for all municipalities: Besteedbaar inkomen and # Inhabitants"
   ]
  },
  {
   "cell_type": "markdown",
   "id": "fc1b9d71",
   "metadata": {},
   "source": [
    "For each municipality we now extract the Besteedbaar inkomen per huishouden, the number of inhabitants and its % change t.o.v. the year before. "
   ]
  },
  {
   "cell_type": "markdown",
   "id": "85dd61b3",
   "metadata": {},
   "source": [
    "### Besteedbaar inkomen"
   ]
  },
  {
   "cell_type": "markdown",
   "id": "ec1088ef",
   "metadata": {},
   "source": [
    "**Noord-brabant data**"
   ]
  },
  {
   "cell_type": "markdown",
   "id": "7ece656c",
   "metadata": {},
   "source": [
    "We generate a function extract_besteedbaar that will extract the data of besteedbaar inkomen per huishouden, for all municipalities. "
   ]
  },
  {
   "cell_type": "code",
   "execution_count": 52,
   "id": "3f6203b2",
   "metadata": {},
   "outputs": [],
   "source": [
    "def extract_besteedbaar(page_urls):\n",
    "    besteed_inkomen = []\n",
    "    for page_url in page_urls:\n",
    "        res = requests.get(page_url)\n",
    "        soup = BeautifulSoup(res.text, 'html.parser')\n",
    "        city_name = soup.find_all('h2')[0].get_text()\n",
    "        city_name1 = city_name.replace('Woningmarkt','')\n",
    "        city_name2 = city_name1.replace(\" \",'') #UPDATE: removed space before city name\n",
    "        inkomen = soup.find_all(class_='detail__income huizenzoeker-card single-value-graph-container')[0].get_text()\n",
    "        new_inkomen = inkomen.replace('\\n','')\n",
    "        new_inkomen1 = new_inkomen.replace('Besteedbaar Inkomen Per Huishouden','')\n",
    "        new_inkomen2 = new_inkomen1.replace('.',',') #UPDATE: changed thousand separators to , instead of . \n",
    "        besteed_inkomen.append({'City':city_name2, 'Besteedbaar inkomen (per huishouden)':new_inkomen2})\n",
    "    return(besteed_inkomen)"
   ]
  },
  {
   "cell_type": "code",
   "execution_count": 53,
   "id": "cde9fc51",
   "metadata": {},
   "outputs": [
    {
     "name": "stdout",
     "output_type": "stream",
     "text": [
      "[{'City': 'Veldhoven', 'Besteedbaar inkomen (per huishouden)': '€ 42,000'}, {'City': 'Best', 'Besteedbaar inkomen (per huishouden)': '€ 44,500'}, {'City': 'Eindhoven', 'Besteedbaar inkomen (per huishouden)': '€ 31,600'}]\n"
     ]
    }
   ],
   "source": [
    "besteed_inkomen = extract_besteedbaar(page_urls) #use the function \n",
    "print(besteed_inkomen) #check whether it works"
   ]
  },
  {
   "cell_type": "markdown",
   "id": "e59f4afc",
   "metadata": {},
   "source": [
    "We generate a Pandas dataframe of the data we just collected for all municipalities."
   ]
  },
  {
   "cell_type": "code",
   "execution_count": 54,
   "id": "e557997c",
   "metadata": {},
   "outputs": [
    {
     "data": {
      "text/html": [
       "<div>\n",
       "<style scoped>\n",
       "    .dataframe tbody tr th:only-of-type {\n",
       "        vertical-align: middle;\n",
       "    }\n",
       "\n",
       "    .dataframe tbody tr th {\n",
       "        vertical-align: top;\n",
       "    }\n",
       "\n",
       "    .dataframe thead th {\n",
       "        text-align: right;\n",
       "    }\n",
       "</style>\n",
       "<table border=\"1\" class=\"dataframe\">\n",
       "  <thead>\n",
       "    <tr style=\"text-align: right;\">\n",
       "      <th></th>\n",
       "      <th>City</th>\n",
       "      <th>Besteedbaar inkomen (per huishouden)</th>\n",
       "    </tr>\n",
       "  </thead>\n",
       "  <tbody>\n",
       "    <tr>\n",
       "      <th>0</th>\n",
       "      <td>Veldhoven</td>\n",
       "      <td>€ 42,000</td>\n",
       "    </tr>\n",
       "    <tr>\n",
       "      <th>1</th>\n",
       "      <td>Best</td>\n",
       "      <td>€ 44,500</td>\n",
       "    </tr>\n",
       "    <tr>\n",
       "      <th>2</th>\n",
       "      <td>Eindhoven</td>\n",
       "      <td>€ 31,600</td>\n",
       "    </tr>\n",
       "  </tbody>\n",
       "</table>\n",
       "</div>"
      ],
      "text/plain": [
       "        City Besteedbaar inkomen (per huishouden)\n",
       "0  Veldhoven                             € 42,000\n",
       "1       Best                             € 44,500\n",
       "2  Eindhoven                             € 31,600"
      ]
     },
     "execution_count": 54,
     "metadata": {},
     "output_type": "execute_result"
    }
   ],
   "source": [
    "pd.DataFrame(besteed_inkomen)"
   ]
  },
  {
   "cell_type": "markdown",
   "id": "15b21e23",
   "metadata": {},
   "source": [
    "### Inhabitants"
   ]
  },
  {
   "cell_type": "markdown",
   "id": "f0e3ff6b",
   "metadata": {},
   "source": [
    "**Noord-brabant data**"
   ]
  },
  {
   "cell_type": "markdown",
   "id": "a4a253a8",
   "metadata": {},
   "source": [
    "We generate a function extract_inhabitants that will extract the data of the number of inhabitants for all municipalities, and how this number has changed t.o.v. last year.  "
   ]
  },
  {
   "cell_type": "markdown",
   "id": "78b2234c",
   "metadata": {},
   "source": [
    "_insert code for this still_"
   ]
  },
  {
   "cell_type": "code",
   "execution_count": null,
   "id": "10398ae7",
   "metadata": {},
   "outputs": [],
   "source": []
  },
  {
   "cell_type": "markdown",
   "id": "42b4146f",
   "metadata": {},
   "source": [
    "## Step 5: Merging all data gathered (by city name)"
   ]
  },
  {
   "cell_type": "markdown",
   "id": "8b7fb78e",
   "metadata": {},
   "source": [
    "For the final output (a CSV file, so tabular data) we would want the output of the scraper to be gathered in one single dictionary. "
   ]
  },
  {
   "cell_type": "markdown",
   "id": "f79a0fa2",
   "metadata": {},
   "source": [
    "**Noord-brabant data**"
   ]
  },
  {
   "cell_type": "markdown",
   "id": "bf93d180",
   "metadata": {},
   "source": [
    "Here we name the Pandas Dataframes for each quadrant of the trend data we extracted, and also for the besteedbaar inkomen and inhabitants data. We set the index of the dataframes to the name of the municipality. "
   ]
  },
  {
   "cell_type": "code",
   "execution_count": 55,
   "id": "7ca5e798",
   "metadata": {},
   "outputs": [],
   "source": [
    "df1 = pd.DataFrame(gem_vraagprijs).set_index('City') #gemiddelde vraagprijs "
   ]
  },
  {
   "cell_type": "code",
   "execution_count": 56,
   "id": "851940b2",
   "metadata": {},
   "outputs": [],
   "source": [
    "df2 = pd.DataFrame(verk_woningen).set_index('City') #aantal verkochte woningen "
   ]
  },
  {
   "cell_type": "code",
   "execution_count": 57,
   "id": "5f2d11cb",
   "metadata": {},
   "outputs": [],
   "source": [
    "df3 = pd.DataFrame(m2_prijs).set_index('City') #vierkantemeter prijs "
   ]
  },
  {
   "cell_type": "code",
   "execution_count": 58,
   "id": "7b32399e",
   "metadata": {},
   "outputs": [],
   "source": [
    "df4 = pd.DataFrame(perc_overboden).set_index('City') #percentage overboden "
   ]
  },
  {
   "cell_type": "code",
   "execution_count": 59,
   "id": "ea2780d4",
   "metadata": {},
   "outputs": [],
   "source": [
    "df5 = pd.DataFrame(besteed_inkomen).set_index('City') #besteedbaar inkomen "
   ]
  },
  {
   "cell_type": "code",
   "execution_count": 60,
   "id": "c1475e3c",
   "metadata": {},
   "outputs": [],
   "source": [
    "#add a dataframe for the inhabitants data, once finished. "
   ]
  },
  {
   "cell_type": "code",
   "execution_count": 61,
   "id": "b309b361",
   "metadata": {},
   "outputs": [],
   "source": [
    "data_frames = [df1,df2,df3,df4,df5] #now we combine the dataframes into one single dataframe "
   ]
  },
  {
   "cell_type": "markdown",
   "id": "ddfa49ab",
   "metadata": {},
   "source": [
    "The final output: "
   ]
  },
  {
   "cell_type": "code",
   "execution_count": 62,
   "id": "bc281e0b",
   "metadata": {},
   "outputs": [
    {
     "data": {
      "text/html": [
       "<div>\n",
       "<style scoped>\n",
       "    .dataframe tbody tr th:only-of-type {\n",
       "        vertical-align: middle;\n",
       "    }\n",
       "\n",
       "    .dataframe tbody tr th {\n",
       "        vertical-align: top;\n",
       "    }\n",
       "\n",
       "    .dataframe thead th {\n",
       "        text-align: right;\n",
       "    }\n",
       "</style>\n",
       "<table border=\"1\" class=\"dataframe\">\n",
       "  <thead>\n",
       "    <tr style=\"text-align: right;\">\n",
       "      <th></th>\n",
       "      <th>Gem. vraagprijs</th>\n",
       "      <th>%Δ Vraagprijs (t.o.v vorige maand)</th>\n",
       "      <th>Verkochte woningen</th>\n",
       "      <th>%Δ Verkocht (t.o.v vorige maand)</th>\n",
       "      <th>Gem. m2 prijs</th>\n",
       "      <th>%Δ M2 prijs (t.o.v vorige maand)</th>\n",
       "      <th>% Vraagprijs overboden</th>\n",
       "      <th>%Δ Overboden (t.o.v vorige maand)</th>\n",
       "      <th>Besteedbaar inkomen (per huishouden)</th>\n",
       "    </tr>\n",
       "    <tr>\n",
       "      <th>City</th>\n",
       "      <th></th>\n",
       "      <th></th>\n",
       "      <th></th>\n",
       "      <th></th>\n",
       "      <th></th>\n",
       "      <th></th>\n",
       "      <th></th>\n",
       "      <th></th>\n",
       "      <th></th>\n",
       "    </tr>\n",
       "  </thead>\n",
       "  <tbody>\n",
       "    <tr>\n",
       "      <th>Veldhoven</th>\n",
       "      <td>€ 359,000</td>\n",
       "      <td>-16.99%</td>\n",
       "      <td>12</td>\n",
       "      <td>-45.45%</td>\n",
       "      <td>€ 3,333</td>\n",
       "      <td>-3.05%</td>\n",
       "      <td>8.41%</td>\n",
       "      <td>0.01%</td>\n",
       "      <td>€ 42,000</td>\n",
       "    </tr>\n",
       "    <tr>\n",
       "      <th>Best</th>\n",
       "      <td>€ 615,000</td>\n",
       "      <td>68.49%</td>\n",
       "      <td>6</td>\n",
       "      <td>-33.33%</td>\n",
       "      <td>€ 3,735</td>\n",
       "      <td>33.63%</td>\n",
       "      <td>8.14%</td>\n",
       "      <td>-1.24%</td>\n",
       "      <td>€ 44,500</td>\n",
       "    </tr>\n",
       "    <tr>\n",
       "      <th>Eindhoven</th>\n",
       "      <td>€ 357,500</td>\n",
       "      <td>5.46%</td>\n",
       "      <td>51</td>\n",
       "      <td>-46.32%</td>\n",
       "      <td>€ 3,571</td>\n",
       "      <td>8.18%</td>\n",
       "      <td>10.31%</td>\n",
       "      <td>1.01%</td>\n",
       "      <td>€ 31,600</td>\n",
       "    </tr>\n",
       "  </tbody>\n",
       "</table>\n",
       "</div>"
      ],
      "text/plain": [
       "          Gem. vraagprijs %Δ Vraagprijs (t.o.v vorige maand)  \\\n",
       "City                                                           \n",
       "Veldhoven       € 359,000                            -16.99%   \n",
       "Best            € 615,000                             68.49%   \n",
       "Eindhoven       € 357,500                              5.46%   \n",
       "\n",
       "          Verkochte woningen %Δ Verkocht (t.o.v vorige maand) Gem. m2 prijs  \\\n",
       "City                                                                          \n",
       "Veldhoven                 12                          -45.45%       € 3,333   \n",
       "Best                       6                          -33.33%       € 3,735   \n",
       "Eindhoven                 51                          -46.32%       € 3,571   \n",
       "\n",
       "          %Δ M2 prijs (t.o.v vorige maand) % Vraagprijs overboden  \\\n",
       "City                                                                \n",
       "Veldhoven                           -3.05%                  8.41%   \n",
       "Best                                33.63%                  8.14%   \n",
       "Eindhoven                            8.18%                 10.31%   \n",
       "\n",
       "          %Δ Overboden (t.o.v vorige maand)  \\\n",
       "City                                          \n",
       "Veldhoven                             0.01%   \n",
       "Best                                 -1.24%   \n",
       "Eindhoven                             1.01%   \n",
       "\n",
       "          Besteedbaar inkomen (per huishouden)  \n",
       "City                                            \n",
       "Veldhoven                             € 42,000  \n",
       "Best                                  € 44,500  \n",
       "Eindhoven                             € 31,600  "
      ]
     },
     "execution_count": 62,
     "metadata": {},
     "output_type": "execute_result"
    }
   ],
   "source": [
    "df_merged = reduce(lambda left,right: pd.merge(left,right,on=['City'],how='outer'),data_frames)\n",
    "df_merged"
   ]
  },
  {
   "cell_type": "code",
   "execution_count": 63,
   "id": "9c26756e",
   "metadata": {},
   "outputs": [
    {
     "data": {
      "text/html": [
       "<div>\n",
       "<style scoped>\n",
       "    .dataframe tbody tr th:only-of-type {\n",
       "        vertical-align: middle;\n",
       "    }\n",
       "\n",
       "    .dataframe tbody tr th {\n",
       "        vertical-align: top;\n",
       "    }\n",
       "\n",
       "    .dataframe thead th {\n",
       "        text-align: right;\n",
       "    }\n",
       "</style>\n",
       "<table border=\"1\" class=\"dataframe\">\n",
       "  <thead>\n",
       "    <tr style=\"text-align: right;\">\n",
       "      <th></th>\n",
       "      <th>Gem. vraagprijs</th>\n",
       "      <th>%Δ Vraagprijs (t.o.v vorige maand)</th>\n",
       "      <th>Verkochte woningen</th>\n",
       "      <th>%Δ Verkocht (t.o.v vorige maand)</th>\n",
       "      <th>Gem. m2 prijs</th>\n",
       "      <th>%Δ M2 prijs (t.o.v vorige maand)</th>\n",
       "      <th>% Vraagprijs overboden</th>\n",
       "      <th>%Δ Overboden (t.o.v vorige maand)</th>\n",
       "      <th>Besteedbaar inkomen (per huishouden)</th>\n",
       "    </tr>\n",
       "  </thead>\n",
       "  <tbody>\n",
       "    <tr>\n",
       "      <th>count</th>\n",
       "      <td>3</td>\n",
       "      <td>3</td>\n",
       "      <td>3</td>\n",
       "      <td>3</td>\n",
       "      <td>3</td>\n",
       "      <td>3</td>\n",
       "      <td>3</td>\n",
       "      <td>3</td>\n",
       "      <td>3</td>\n",
       "    </tr>\n",
       "    <tr>\n",
       "      <th>unique</th>\n",
       "      <td>3</td>\n",
       "      <td>3</td>\n",
       "      <td>3</td>\n",
       "      <td>3</td>\n",
       "      <td>3</td>\n",
       "      <td>3</td>\n",
       "      <td>3</td>\n",
       "      <td>3</td>\n",
       "      <td>3</td>\n",
       "    </tr>\n",
       "    <tr>\n",
       "      <th>top</th>\n",
       "      <td>€ 359,000</td>\n",
       "      <td>-16.99%</td>\n",
       "      <td>12</td>\n",
       "      <td>-45.45%</td>\n",
       "      <td>€ 3,333</td>\n",
       "      <td>-3.05%</td>\n",
       "      <td>8.41%</td>\n",
       "      <td>0.01%</td>\n",
       "      <td>€ 42,000</td>\n",
       "    </tr>\n",
       "    <tr>\n",
       "      <th>freq</th>\n",
       "      <td>1</td>\n",
       "      <td>1</td>\n",
       "      <td>1</td>\n",
       "      <td>1</td>\n",
       "      <td>1</td>\n",
       "      <td>1</td>\n",
       "      <td>1</td>\n",
       "      <td>1</td>\n",
       "      <td>1</td>\n",
       "    </tr>\n",
       "  </tbody>\n",
       "</table>\n",
       "</div>"
      ],
      "text/plain": [
       "       Gem. vraagprijs %Δ Vraagprijs (t.o.v vorige maand) Verkochte woningen  \\\n",
       "count                3                                  3                  3   \n",
       "unique               3                                  3                  3   \n",
       "top          € 359,000                            -16.99%                 12   \n",
       "freq                 1                                  1                  1   \n",
       "\n",
       "       %Δ Verkocht (t.o.v vorige maand) Gem. m2 prijs  \\\n",
       "count                                 3             3   \n",
       "unique                                3             3   \n",
       "top                             -45.45%       € 3,333   \n",
       "freq                                  1             1   \n",
       "\n",
       "       %Δ M2 prijs (t.o.v vorige maand) % Vraagprijs overboden  \\\n",
       "count                                 3                      3   \n",
       "unique                                3                      3   \n",
       "top                              -3.05%                  8.41%   \n",
       "freq                                  1                      1   \n",
       "\n",
       "       %Δ Overboden (t.o.v vorige maand) Besteedbaar inkomen (per huishouden)  \n",
       "count                                  3                                    3  \n",
       "unique                                 3                                    3  \n",
       "top                                0.01%                             € 42,000  \n",
       "freq                                   1                                    1  "
      ]
     },
     "execution_count": 63,
     "metadata": {},
     "output_type": "execute_result"
    }
   ],
   "source": [
    "df_merged.describe()"
   ]
  },
  {
   "cell_type": "markdown",
   "id": "be19ee94",
   "metadata": {},
   "source": [
    "## Step 6: Exporting dataframes to CSV"
   ]
  },
  {
   "cell_type": "code",
   "execution_count": 69,
   "id": "cc43a1c8",
   "metadata": {},
   "outputs": [],
   "source": [
    "df_merged.to_csv('Huizenzoeker_NB_data1.csv') #UPDATE: new version with the thousand separators changed to , "
   ]
  },
  {
   "cell_type": "markdown",
   "id": "e708db62",
   "metadata": {},
   "source": [
    "## Step 7: Providing summary statistics"
   ]
  },
  {
   "cell_type": "markdown",
   "id": "c18a418d",
   "metadata": {},
   "source": [
    "**Exporting our output to Rstudio and then importing that CSV here**"
   ]
  },
  {
   "cell_type": "markdown",
   "id": "df29ad6a",
   "metadata": {},
   "source": [
    "First we try to generate some summary statistics by using the output of our scraping data. We can't do this directly as you can see as most variables are seen as characters, while they should be numerics. Therefore we exported the Noord-Brabant data for all municipalities to R to change these datatypes and then export it as CSV to then use it here to generate some summary statistics: count, mean, std, min, max, 25%, 50%, 75%. \n",
    "(STATUS: Huizenzoeker.nl used both '.' to indicate thousands and decimals so R is confused whether a value is 2000 or 2.00. We need to fix this issue still in the Rscript to accurately explore the summary statistics!!)"
   ]
  },
  {
   "cell_type": "code",
   "execution_count": 67,
   "id": "c3848ff1",
   "metadata": {},
   "outputs": [],
   "source": [
    "noordbrabant = pd.read_csv('Huizenzoeker_NB_data.csv')"
   ]
  },
  {
   "cell_type": "code",
   "execution_count": 68,
   "id": "2fd18e4c",
   "metadata": {},
   "outputs": [
    {
     "data": {
      "text/html": [
       "<div>\n",
       "<style scoped>\n",
       "    .dataframe tbody tr th:only-of-type {\n",
       "        vertical-align: middle;\n",
       "    }\n",
       "\n",
       "    .dataframe tbody tr th {\n",
       "        vertical-align: top;\n",
       "    }\n",
       "\n",
       "    .dataframe thead th {\n",
       "        text-align: right;\n",
       "    }\n",
       "</style>\n",
       "<table border=\"1\" class=\"dataframe\">\n",
       "  <thead>\n",
       "    <tr style=\"text-align: right;\">\n",
       "      <th></th>\n",
       "      <th>Verkochte woningen</th>\n",
       "    </tr>\n",
       "  </thead>\n",
       "  <tbody>\n",
       "    <tr>\n",
       "      <th>count</th>\n",
       "      <td>61.000000</td>\n",
       "    </tr>\n",
       "    <tr>\n",
       "      <th>mean</th>\n",
       "      <td>18.442623</td>\n",
       "    </tr>\n",
       "    <tr>\n",
       "      <th>std</th>\n",
       "      <td>21.448018</td>\n",
       "    </tr>\n",
       "    <tr>\n",
       "      <th>min</th>\n",
       "      <td>2.000000</td>\n",
       "    </tr>\n",
       "    <tr>\n",
       "      <th>25%</th>\n",
       "      <td>7.000000</td>\n",
       "    </tr>\n",
       "    <tr>\n",
       "      <th>50%</th>\n",
       "      <td>11.000000</td>\n",
       "    </tr>\n",
       "    <tr>\n",
       "      <th>75%</th>\n",
       "      <td>18.000000</td>\n",
       "    </tr>\n",
       "    <tr>\n",
       "      <th>max</th>\n",
       "      <td>96.000000</td>\n",
       "    </tr>\n",
       "  </tbody>\n",
       "</table>\n",
       "</div>"
      ],
      "text/plain": [
       "       Verkochte woningen\n",
       "count           61.000000\n",
       "mean            18.442623\n",
       "std             21.448018\n",
       "min              2.000000\n",
       "25%              7.000000\n",
       "50%             11.000000\n",
       "75%             18.000000\n",
       "max             96.000000"
      ]
     },
     "execution_count": 68,
     "metadata": {},
     "output_type": "execute_result"
    }
   ],
   "source": [
    "noordbrabant.describe() #STATUS: now only works for 'Verkochte woningen' because all other variables are seen as characters"
   ]
  },
  {
   "cell_type": "code",
   "execution_count": 51,
   "id": "b12271f2",
   "metadata": {},
   "outputs": [],
   "source": [
    "#so i wrote an R script to turn the variables from characters into numerics, and saved it as huizen_NB.csv"
   ]
  },
  {
   "cell_type": "code",
   "execution_count": 49,
   "id": "832e0714",
   "metadata": {},
   "outputs": [],
   "source": [
    "noordbrabant1 = pd.read_csv('huizen_NB.csv') "
   ]
  },
  {
   "cell_type": "code",
   "execution_count": 50,
   "id": "52d75f2e",
   "metadata": {},
   "outputs": [
    {
     "data": {
      "text/html": [
       "<div>\n",
       "<style scoped>\n",
       "    .dataframe tbody tr th:only-of-type {\n",
       "        vertical-align: middle;\n",
       "    }\n",
       "\n",
       "    .dataframe tbody tr th {\n",
       "        vertical-align: top;\n",
       "    }\n",
       "\n",
       "    .dataframe thead th {\n",
       "        text-align: right;\n",
       "    }\n",
       "</style>\n",
       "<table border=\"1\" class=\"dataframe\">\n",
       "  <thead>\n",
       "    <tr style=\"text-align: right;\">\n",
       "      <th></th>\n",
       "      <th>gem_vraagprijs</th>\n",
       "      <th>perc_ver_vraagprijs</th>\n",
       "      <th>verk_woningen</th>\n",
       "      <th>perc_ver_verkocht</th>\n",
       "      <th>gem_m2prijs</th>\n",
       "      <th>perc_ver_m2prijs</th>\n",
       "      <th>perc_overboden</th>\n",
       "      <th>perc_ver_overboden</th>\n",
       "      <th>best_inkomen</th>\n",
       "    </tr>\n",
       "  </thead>\n",
       "  <tbody>\n",
       "    <tr>\n",
       "      <th>count</th>\n",
       "      <td>61.000000</td>\n",
       "      <td>61.000000</td>\n",
       "      <td>61.000000</td>\n",
       "      <td>61.000000</td>\n",
       "      <td>61.000000</td>\n",
       "      <td>61.000000</td>\n",
       "      <td>61.000000</td>\n",
       "      <td>61.000000</td>\n",
       "      <td>61.000000</td>\n",
       "    </tr>\n",
       "    <tr>\n",
       "      <th>mean</th>\n",
       "      <td>346.148557</td>\n",
       "      <td>4.110328</td>\n",
       "      <td>18.442623</td>\n",
       "      <td>-51.583770</td>\n",
       "      <td>3.116016</td>\n",
       "      <td>4.293607</td>\n",
       "      <td>7.220820</td>\n",
       "      <td>1.096557</td>\n",
       "      <td>41.132787</td>\n",
       "    </tr>\n",
       "    <tr>\n",
       "      <th>std</th>\n",
       "      <td>77.482364</td>\n",
       "      <td>60.840026</td>\n",
       "      <td>21.448018</td>\n",
       "      <td>16.378496</td>\n",
       "      <td>1.036600</td>\n",
       "      <td>30.467221</td>\n",
       "      <td>3.606782</td>\n",
       "      <td>4.722097</td>\n",
       "      <td>3.589323</td>\n",
       "    </tr>\n",
       "    <tr>\n",
       "      <th>min</th>\n",
       "      <td>2.062000</td>\n",
       "      <td>-45.380000</td>\n",
       "      <td>2.000000</td>\n",
       "      <td>-91.300000</td>\n",
       "      <td>2.173000</td>\n",
       "      <td>-30.530000</td>\n",
       "      <td>-0.940000</td>\n",
       "      <td>-9.500000</td>\n",
       "      <td>31.600000</td>\n",
       "    </tr>\n",
       "    <tr>\n",
       "      <th>25%</th>\n",
       "      <td>309.000000</td>\n",
       "      <td>-15.520000</td>\n",
       "      <td>7.000000</td>\n",
       "      <td>-62.070000</td>\n",
       "      <td>2.775000</td>\n",
       "      <td>-5.510000</td>\n",
       "      <td>5.090000</td>\n",
       "      <td>-0.880000</td>\n",
       "      <td>38.800000</td>\n",
       "    </tr>\n",
       "    <tr>\n",
       "      <th>50%</th>\n",
       "      <td>339.250000</td>\n",
       "      <td>-6.290000</td>\n",
       "      <td>11.000000</td>\n",
       "      <td>-53.760000</td>\n",
       "      <td>2.941000</td>\n",
       "      <td>0.590000</td>\n",
       "      <td>7.030000</td>\n",
       "      <td>0.850000</td>\n",
       "      <td>41.100000</td>\n",
       "    </tr>\n",
       "    <tr>\n",
       "      <th>75%</th>\n",
       "      <td>389.000000</td>\n",
       "      <td>6.760000</td>\n",
       "      <td>18.000000</td>\n",
       "      <td>-39.290000</td>\n",
       "      <td>3.294000</td>\n",
       "      <td>9.190000</td>\n",
       "      <td>8.740000</td>\n",
       "      <td>2.450000</td>\n",
       "      <td>43.600000</td>\n",
       "    </tr>\n",
       "    <tr>\n",
       "      <th>max</th>\n",
       "      <td>600.000000</td>\n",
       "      <td>450.000000</td>\n",
       "      <td>96.000000</td>\n",
       "      <td>-11.760000</td>\n",
       "      <td>10.612000</td>\n",
       "      <td>223.440000</td>\n",
       "      <td>20.040000</td>\n",
       "      <td>19.860000</td>\n",
       "      <td>47.300000</td>\n",
       "    </tr>\n",
       "  </tbody>\n",
       "</table>\n",
       "</div>"
      ],
      "text/plain": [
       "       gem_vraagprijs  perc_ver_vraagprijs  verk_woningen  perc_ver_verkocht  \\\n",
       "count       61.000000            61.000000      61.000000          61.000000   \n",
       "mean       346.148557             4.110328      18.442623         -51.583770   \n",
       "std         77.482364            60.840026      21.448018          16.378496   \n",
       "min          2.062000           -45.380000       2.000000         -91.300000   \n",
       "25%        309.000000           -15.520000       7.000000         -62.070000   \n",
       "50%        339.250000            -6.290000      11.000000         -53.760000   \n",
       "75%        389.000000             6.760000      18.000000         -39.290000   \n",
       "max        600.000000           450.000000      96.000000         -11.760000   \n",
       "\n",
       "       gem_m2prijs  perc_ver_m2prijs  perc_overboden  perc_ver_overboden  \\\n",
       "count    61.000000         61.000000       61.000000           61.000000   \n",
       "mean      3.116016          4.293607        7.220820            1.096557   \n",
       "std       1.036600         30.467221        3.606782            4.722097   \n",
       "min       2.173000        -30.530000       -0.940000           -9.500000   \n",
       "25%       2.775000         -5.510000        5.090000           -0.880000   \n",
       "50%       2.941000          0.590000        7.030000            0.850000   \n",
       "75%       3.294000          9.190000        8.740000            2.450000   \n",
       "max      10.612000        223.440000       20.040000           19.860000   \n",
       "\n",
       "       best_inkomen  \n",
       "count     61.000000  \n",
       "mean      41.132787  \n",
       "std        3.589323  \n",
       "min       31.600000  \n",
       "25%       38.800000  \n",
       "50%       41.100000  \n",
       "75%       43.600000  \n",
       "max       47.300000  "
      ]
     },
     "execution_count": 50,
     "metadata": {},
     "output_type": "execute_result"
    }
   ],
   "source": [
    "noordbrabant1.describe()"
   ]
  },
  {
   "cell_type": "code",
   "execution_count": 70,
   "id": "5c279401",
   "metadata": {},
   "outputs": [],
   "source": [
    "#UPDATE: the situation now that I changed the thousand delimiters in Python to , (while decimal separator is .)"
   ]
  },
  {
   "cell_type": "code",
   "execution_count": 71,
   "id": "8d8ed0fc",
   "metadata": {},
   "outputs": [],
   "source": [
    "noordbrabant2 = pd.read_csv('huizen_NB1.csv') #to check this I only included the 3 cities in Noord-Brabant! "
   ]
  },
  {
   "cell_type": "code",
   "execution_count": 72,
   "id": "d8d3d49d",
   "metadata": {},
   "outputs": [
    {
     "data": {
      "text/html": [
       "<div>\n",
       "<style scoped>\n",
       "    .dataframe tbody tr th:only-of-type {\n",
       "        vertical-align: middle;\n",
       "    }\n",
       "\n",
       "    .dataframe tbody tr th {\n",
       "        vertical-align: top;\n",
       "    }\n",
       "\n",
       "    .dataframe thead th {\n",
       "        text-align: right;\n",
       "    }\n",
       "</style>\n",
       "<table border=\"1\" class=\"dataframe\">\n",
       "  <thead>\n",
       "    <tr style=\"text-align: right;\">\n",
       "      <th></th>\n",
       "      <th>gem_vraagprijs</th>\n",
       "      <th>perc_ver_vraagprijs</th>\n",
       "      <th>verk_woningen</th>\n",
       "      <th>perc_ver_verkocht</th>\n",
       "      <th>gem_m2prijs</th>\n",
       "      <th>perc_ver_m2prijs</th>\n",
       "      <th>perc_overboden</th>\n",
       "      <th>perc_ver_overboden</th>\n",
       "      <th>best_inkomen</th>\n",
       "    </tr>\n",
       "  </thead>\n",
       "  <tbody>\n",
       "    <tr>\n",
       "      <th>count</th>\n",
       "      <td>3.000000</td>\n",
       "      <td>3.000000</td>\n",
       "      <td>3.000000</td>\n",
       "      <td>3.000000</td>\n",
       "      <td>3.000000</td>\n",
       "      <td>3.000000</td>\n",
       "      <td>3.000000</td>\n",
       "      <td>3.000000</td>\n",
       "      <td>3.000000</td>\n",
       "    </tr>\n",
       "    <tr>\n",
       "      <th>mean</th>\n",
       "      <td>443833.333333</td>\n",
       "      <td>18.986667</td>\n",
       "      <td>23.000000</td>\n",
       "      <td>-41.700000</td>\n",
       "      <td>3546.333333</td>\n",
       "      <td>12.920000</td>\n",
       "      <td>8.953333</td>\n",
       "      <td>-0.073333</td>\n",
       "      <td>39366.666667</td>\n",
       "    </tr>\n",
       "    <tr>\n",
       "      <th>std</th>\n",
       "      <td>148236.578932</td>\n",
       "      <td>44.316313</td>\n",
       "      <td>24.433583</td>\n",
       "      <td>7.261673</td>\n",
       "      <td>202.131970</td>\n",
       "      <td>18.793784</td>\n",
       "      <td>1.182638</td>\n",
       "      <td>1.127312</td>\n",
       "      <td>6841.296173</td>\n",
       "    </tr>\n",
       "    <tr>\n",
       "      <th>min</th>\n",
       "      <td>357500.000000</td>\n",
       "      <td>-16.990000</td>\n",
       "      <td>6.000000</td>\n",
       "      <td>-46.320000</td>\n",
       "      <td>3333.000000</td>\n",
       "      <td>-3.050000</td>\n",
       "      <td>8.140000</td>\n",
       "      <td>-1.240000</td>\n",
       "      <td>31600.000000</td>\n",
       "    </tr>\n",
       "    <tr>\n",
       "      <th>25%</th>\n",
       "      <td>358250.000000</td>\n",
       "      <td>-5.765000</td>\n",
       "      <td>9.000000</td>\n",
       "      <td>-45.885000</td>\n",
       "      <td>3452.000000</td>\n",
       "      <td>2.565000</td>\n",
       "      <td>8.275000</td>\n",
       "      <td>-0.615000</td>\n",
       "      <td>36800.000000</td>\n",
       "    </tr>\n",
       "    <tr>\n",
       "      <th>50%</th>\n",
       "      <td>359000.000000</td>\n",
       "      <td>5.460000</td>\n",
       "      <td>12.000000</td>\n",
       "      <td>-45.450000</td>\n",
       "      <td>3571.000000</td>\n",
       "      <td>8.180000</td>\n",
       "      <td>8.410000</td>\n",
       "      <td>0.010000</td>\n",
       "      <td>42000.000000</td>\n",
       "    </tr>\n",
       "    <tr>\n",
       "      <th>75%</th>\n",
       "      <td>487000.000000</td>\n",
       "      <td>36.975000</td>\n",
       "      <td>31.500000</td>\n",
       "      <td>-39.390000</td>\n",
       "      <td>3653.000000</td>\n",
       "      <td>20.905000</td>\n",
       "      <td>9.360000</td>\n",
       "      <td>0.510000</td>\n",
       "      <td>43250.000000</td>\n",
       "    </tr>\n",
       "    <tr>\n",
       "      <th>max</th>\n",
       "      <td>615000.000000</td>\n",
       "      <td>68.490000</td>\n",
       "      <td>51.000000</td>\n",
       "      <td>-33.330000</td>\n",
       "      <td>3735.000000</td>\n",
       "      <td>33.630000</td>\n",
       "      <td>10.310000</td>\n",
       "      <td>1.010000</td>\n",
       "      <td>44500.000000</td>\n",
       "    </tr>\n",
       "  </tbody>\n",
       "</table>\n",
       "</div>"
      ],
      "text/plain": [
       "       gem_vraagprijs  perc_ver_vraagprijs  verk_woningen  perc_ver_verkocht  \\\n",
       "count        3.000000             3.000000       3.000000           3.000000   \n",
       "mean    443833.333333            18.986667      23.000000         -41.700000   \n",
       "std     148236.578932            44.316313      24.433583           7.261673   \n",
       "min     357500.000000           -16.990000       6.000000         -46.320000   \n",
       "25%     358250.000000            -5.765000       9.000000         -45.885000   \n",
       "50%     359000.000000             5.460000      12.000000         -45.450000   \n",
       "75%     487000.000000            36.975000      31.500000         -39.390000   \n",
       "max     615000.000000            68.490000      51.000000         -33.330000   \n",
       "\n",
       "       gem_m2prijs  perc_ver_m2prijs  perc_overboden  perc_ver_overboden  \\\n",
       "count     3.000000          3.000000        3.000000            3.000000   \n",
       "mean   3546.333333         12.920000        8.953333           -0.073333   \n",
       "std     202.131970         18.793784        1.182638            1.127312   \n",
       "min    3333.000000         -3.050000        8.140000           -1.240000   \n",
       "25%    3452.000000          2.565000        8.275000           -0.615000   \n",
       "50%    3571.000000          8.180000        8.410000            0.010000   \n",
       "75%    3653.000000         20.905000        9.360000            0.510000   \n",
       "max    3735.000000         33.630000       10.310000            1.010000   \n",
       "\n",
       "       best_inkomen  \n",
       "count      3.000000  \n",
       "mean   39366.666667  \n",
       "std     6841.296173  \n",
       "min    31600.000000  \n",
       "25%    36800.000000  \n",
       "50%    42000.000000  \n",
       "75%    43250.000000  \n",
       "max    44500.000000  "
      ]
     },
     "execution_count": 72,
     "metadata": {},
     "output_type": "execute_result"
    }
   ],
   "source": [
    "noordbrabant2.describe() #I think it works now!! :)"
   ]
  },
  {
   "cell_type": "markdown",
   "id": "3552c591",
   "metadata": {},
   "source": [
    "**Scraping some mean values at province-level**"
   ]
  },
  {
   "cell_type": "markdown",
   "id": "5518365e",
   "metadata": {},
   "source": [
    "We may also use the woningmarkt pages for every province to generate some mean values at province-level for their municipalities (for all variables). We will do this similarly as to how we scraped the data for each municipality of Noord-Brabant, but now thus at province-level (using BeautifulSoup). "
   ]
  },
  {
   "cell_type": "markdown",
   "id": "e0fe20f1",
   "metadata": {},
   "source": [
    "Generating links of all provinces: "
   ]
  },
  {
   "cell_type": "code",
   "execution_count": 80,
   "id": "762afbc3",
   "metadata": {},
   "outputs": [],
   "source": [
    "base_url = 'https://www.huizenzoeker.nl/woningmarkt/'\n",
    "province_url = ['noord-holland/', 'zuid-holland/', 'zeeland/', 'noord-brabant/', 'utrecht/', 'flevoland/', \n",
    "                'friesland/', 'groningen/', 'drenthe/', 'overijssel/', 'gelderland/', 'limburg/'] "
   ]
  },
  {
   "cell_type": "markdown",
   "id": "bb6d96ea",
   "metadata": {},
   "source": [
    "Defining a function to paste these URL parts together: "
   ]
  },
  {
   "cell_type": "code",
   "execution_count": 81,
   "id": "d2a7ea0e",
   "metadata": {},
   "outputs": [
    {
     "name": "stdout",
     "output_type": "stream",
     "text": [
      "['https://www.huizenzoeker.nl/woningmarkt/noord-holland/', 'https://www.huizenzoeker.nl/woningmarkt/zuid-holland/', 'https://www.huizenzoeker.nl/woningmarkt/zeeland/', 'https://www.huizenzoeker.nl/woningmarkt/noord-brabant/', 'https://www.huizenzoeker.nl/woningmarkt/utrecht/', 'https://www.huizenzoeker.nl/woningmarkt/flevoland/', 'https://www.huizenzoeker.nl/woningmarkt/friesland/', 'https://www.huizenzoeker.nl/woningmarkt/groningen/', 'https://www.huizenzoeker.nl/woningmarkt/drenthe/', 'https://www.huizenzoeker.nl/woningmarkt/overijssel/', 'https://www.huizenzoeker.nl/woningmarkt/gelderland/', 'https://www.huizenzoeker.nl/woningmarkt/limburg/']\n"
     ]
    }
   ],
   "source": [
    "def generate_links(base_url,province_url): \n",
    "    page_links = []\n",
    "    for i in province_url:\n",
    "        full_links = base_url + i\n",
    "        page_links.append(full_links)  \n",
    "    return page_links\n",
    "page_links = generate_links(base_url,province_url)\n",
    "print(page_links)"
   ]
  },
  {
   "cell_type": "markdown",
   "id": "c15c2fe4",
   "metadata": {},
   "source": [
    "*Gemiddelde vraagprijs:* "
   ]
  },
  {
   "cell_type": "code",
   "execution_count": 95,
   "id": "84ccc977",
   "metadata": {},
   "outputs": [],
   "source": [
    "def extract_province_trends(page_links): \n",
    "    trend_list = []\n",
    "    for page_link in page_links:\n",
    "        res = requests.get(page_link)\n",
    "        soup = BeautifulSoup(res.text, 'html.parser')\n",
    "        province_name = soup.find_all('h2')[0].get_text()\n",
    "        province_name1 = province_name.replace('Woningmarkt','')\n",
    "        province_name2 = province_name1.replace(\" \",'') #UPDATE: removed space before province name\n",
    "        trends = soup.find_all(class_='trend-graph')[0].get_text()\n",
    "        new_trend = trends.replace('\\n','')\n",
    "        new_trend1 = new_trend.replace('Gem. Vraagprijs','')\n",
    "        price,change = new_trend1.split('                ',1)\n",
    "        price1 = price.replace('.',',') #UPDATE: changed thousand separators to , instead of . \n",
    "        change1 = change.replace(' t.o.v. vorige maand            ', '')\n",
    "        trend_list.append({'Province':province_name2, 'Gem. vraagprijs':price1, '%Δ Vraagprijs (t.o.v vorige maand)':change1})\n",
    "    return(trend_list)"
   ]
  },
  {
   "cell_type": "code",
   "execution_count": 96,
   "id": "6f0554bd",
   "metadata": {},
   "outputs": [
    {
     "name": "stdout",
     "output_type": "stream",
     "text": [
      "[{'Province': 'Noord-Holland', 'Gem. vraagprijs': '€\\xa0445,000', '%Δ Vraagprijs (t.o.v vorige maand)': '18.67%'}, {'Province': 'Zuid-Holland', 'Gem. vraagprijs': '€\\xa0360,000', '%Δ Vraagprijs (t.o.v vorige maand)': '7.46%'}, {'Province': 'Zeeland', 'Gem. vraagprijs': '€\\xa0269,950', '%Δ Vraagprijs (t.o.v vorige maand)': '-1.75%'}, {'Province': 'Noord-Brabant', 'Gem. vraagprijs': '€\\xa0350,000', '%Δ Vraagprijs (t.o.v vorige maand)': '3.24%'}, {'Province': 'Utrecht', 'Gem. vraagprijs': '€\\xa0439,000', '%Δ Vraagprijs (t.o.v vorige maand)': '14.03%'}, {'Province': 'Flevoland', 'Gem. vraagprijs': '€\\xa0342,500', '%Δ Vraagprijs (t.o.v vorige maand)': '5.38%'}, {'Province': 'Friesland', 'Gem. vraagprijs': '€\\xa0289,000', '%Δ Vraagprijs (t.o.v vorige maand)': '3.21%'}, {'Province': 'Groningen', 'Gem. vraagprijs': '€\\xa0259,500', '%Δ Vraagprijs (t.o.v vorige maand)': '15.33%'}, {'Province': 'Drenthe', 'Gem. vraagprijs': '€\\xa0305,000', '%Δ Vraagprijs (t.o.v vorige maand)': '3.39%'}, {'Province': 'Overijssel', 'Gem. vraagprijs': '€\\xa0300,000', '%Δ Vraagprijs (t.o.v vorige maand)': '0.67%'}, {'Province': 'Gelderland', 'Gem. vraagprijs': '€\\xa0365,000', '%Δ Vraagprijs (t.o.v vorige maand)': '8.96%'}, {'Province': 'Limburg', 'Gem. vraagprijs': '€\\xa0279,000', '%Δ Vraagprijs (t.o.v vorige maand)': '1.45%'}]\n"
     ]
    }
   ],
   "source": [
    "mean_vraagprijs = extract_province_trends(page_links) #use the function \n",
    "print(mean_vraagprijs) #check if it works"
   ]
  },
  {
   "cell_type": "code",
   "execution_count": 97,
   "id": "f35b4fa6",
   "metadata": {},
   "outputs": [
    {
     "data": {
      "text/html": [
       "<div>\n",
       "<style scoped>\n",
       "    .dataframe tbody tr th:only-of-type {\n",
       "        vertical-align: middle;\n",
       "    }\n",
       "\n",
       "    .dataframe tbody tr th {\n",
       "        vertical-align: top;\n",
       "    }\n",
       "\n",
       "    .dataframe thead th {\n",
       "        text-align: right;\n",
       "    }\n",
       "</style>\n",
       "<table border=\"1\" class=\"dataframe\">\n",
       "  <thead>\n",
       "    <tr style=\"text-align: right;\">\n",
       "      <th></th>\n",
       "      <th>Province</th>\n",
       "      <th>Gem. vraagprijs</th>\n",
       "      <th>%Δ Vraagprijs (t.o.v vorige maand)</th>\n",
       "    </tr>\n",
       "  </thead>\n",
       "  <tbody>\n",
       "    <tr>\n",
       "      <th>0</th>\n",
       "      <td>Noord-Holland</td>\n",
       "      <td>€ 445,000</td>\n",
       "      <td>18.67%</td>\n",
       "    </tr>\n",
       "    <tr>\n",
       "      <th>1</th>\n",
       "      <td>Zuid-Holland</td>\n",
       "      <td>€ 360,000</td>\n",
       "      <td>7.46%</td>\n",
       "    </tr>\n",
       "    <tr>\n",
       "      <th>2</th>\n",
       "      <td>Zeeland</td>\n",
       "      <td>€ 269,950</td>\n",
       "      <td>-1.75%</td>\n",
       "    </tr>\n",
       "    <tr>\n",
       "      <th>3</th>\n",
       "      <td>Noord-Brabant</td>\n",
       "      <td>€ 350,000</td>\n",
       "      <td>3.24%</td>\n",
       "    </tr>\n",
       "    <tr>\n",
       "      <th>4</th>\n",
       "      <td>Utrecht</td>\n",
       "      <td>€ 439,000</td>\n",
       "      <td>14.03%</td>\n",
       "    </tr>\n",
       "    <tr>\n",
       "      <th>5</th>\n",
       "      <td>Flevoland</td>\n",
       "      <td>€ 342,500</td>\n",
       "      <td>5.38%</td>\n",
       "    </tr>\n",
       "    <tr>\n",
       "      <th>6</th>\n",
       "      <td>Friesland</td>\n",
       "      <td>€ 289,000</td>\n",
       "      <td>3.21%</td>\n",
       "    </tr>\n",
       "    <tr>\n",
       "      <th>7</th>\n",
       "      <td>Groningen</td>\n",
       "      <td>€ 259,500</td>\n",
       "      <td>15.33%</td>\n",
       "    </tr>\n",
       "    <tr>\n",
       "      <th>8</th>\n",
       "      <td>Drenthe</td>\n",
       "      <td>€ 305,000</td>\n",
       "      <td>3.39%</td>\n",
       "    </tr>\n",
       "    <tr>\n",
       "      <th>9</th>\n",
       "      <td>Overijssel</td>\n",
       "      <td>€ 300,000</td>\n",
       "      <td>0.67%</td>\n",
       "    </tr>\n",
       "    <tr>\n",
       "      <th>10</th>\n",
       "      <td>Gelderland</td>\n",
       "      <td>€ 365,000</td>\n",
       "      <td>8.96%</td>\n",
       "    </tr>\n",
       "    <tr>\n",
       "      <th>11</th>\n",
       "      <td>Limburg</td>\n",
       "      <td>€ 279,000</td>\n",
       "      <td>1.45%</td>\n",
       "    </tr>\n",
       "  </tbody>\n",
       "</table>\n",
       "</div>"
      ],
      "text/plain": [
       "         Province Gem. vraagprijs %Δ Vraagprijs (t.o.v vorige maand)\n",
       "0   Noord-Holland       € 445,000                             18.67%\n",
       "1    Zuid-Holland       € 360,000                              7.46%\n",
       "2         Zeeland       € 269,950                             -1.75%\n",
       "3   Noord-Brabant       € 350,000                              3.24%\n",
       "4         Utrecht       € 439,000                             14.03%\n",
       "5       Flevoland       € 342,500                              5.38%\n",
       "6       Friesland       € 289,000                              3.21%\n",
       "7       Groningen       € 259,500                             15.33%\n",
       "8         Drenthe       € 305,000                              3.39%\n",
       "9      Overijssel       € 300,000                              0.67%\n",
       "10     Gelderland       € 365,000                              8.96%\n",
       "11        Limburg       € 279,000                              1.45%"
      ]
     },
     "execution_count": 97,
     "metadata": {},
     "output_type": "execute_result"
    }
   ],
   "source": [
    "pd.DataFrame(mean_vraagprijs)"
   ]
  },
  {
   "cell_type": "markdown",
   "id": "dbe5c8a9",
   "metadata": {},
   "source": [
    "*Aantal verkochte woningen:*"
   ]
  },
  {
   "cell_type": "code",
   "execution_count": 101,
   "id": "a728169c",
   "metadata": {},
   "outputs": [],
   "source": [
    "def extract_province_trends1(page_links):\n",
    "    trend_list1 = []\n",
    "    for page_link in page_links:\n",
    "        res = requests.get(page_link)\n",
    "        soup = BeautifulSoup(res.text, 'html.parser')\n",
    "        province_name = soup.find_all('h2')[0].get_text()\n",
    "        province_name1 = province_name.replace('Woningmarkt','')\n",
    "        province_name2 = province_name1.replace(\" \",'') #UPDATE: removed space before province name\n",
    "        trends = soup.find_all(class_='trend-graph')[1].get_text()\n",
    "        new_trend = trends.replace('\\n','')\n",
    "        new_trend1 = new_trend.replace('Verkochte woningen','')\n",
    "        verkocht,change = new_trend1.split('                ',1)\n",
    "        change1 = change.replace(' t.o.v. vorige maand            ', '')\n",
    "        trend_list1.append({'Province':province_name2, 'Verkochte woningen':verkocht, '%Δ Verkocht (t.o.v vorige maand)':change1})\n",
    "    return(trend_list1)"
   ]
  },
  {
   "cell_type": "code",
   "execution_count": 102,
   "id": "a2a11c54",
   "metadata": {},
   "outputs": [
    {
     "name": "stdout",
     "output_type": "stream",
     "text": [
      "[{'Province': 'Noord-Holland', 'Verkochte woningen': '700', '%Δ Verkocht (t.o.v vorige maand)': '-40.68%'}, {'Province': 'Zuid-Holland', 'Verkochte woningen': '917', '%Δ Verkocht (t.o.v vorige maand)': '-50.38%'}, {'Province': 'Zeeland', 'Verkochte woningen': '127', '%Δ Verkocht (t.o.v vorige maand)': '-50.58%'}, {'Province': 'Noord-Brabant', 'Verkochte woningen': '546', '%Δ Verkocht (t.o.v vorige maand)': '-54.58%'}, {'Province': 'Utrecht', 'Verkochte woningen': '459', '%Δ Verkocht (t.o.v vorige maand)': '-24.63%'}, {'Province': 'Flevoland', 'Verkochte woningen': '111', '%Δ Verkocht (t.o.v vorige maand)': '-52.56%'}, {'Province': 'Friesland', 'Verkochte woningen': '258', '%Δ Verkocht (t.o.v vorige maand)': '-26.07%'}, {'Province': 'Groningen', 'Verkochte woningen': '244', '%Δ Verkocht (t.o.v vorige maand)': '-24.69%'}, {'Province': 'Drenthe', 'Verkochte woningen': '188', '%Δ Verkocht (t.o.v vorige maand)': '-35.62%'}, {'Province': 'Overijssel', 'Verkochte woningen': '350', '%Δ Verkocht (t.o.v vorige maand)': '-30.42%'}, {'Province': 'Gelderland', 'Verkochte woningen': '538', '%Δ Verkocht (t.o.v vorige maand)': '-46.25%'}, {'Province': 'Limburg', 'Verkochte woningen': '289', '%Δ Verkocht (t.o.v vorige maand)': '-47.26%'}]\n"
     ]
    }
   ],
   "source": [
    "mean_verkwoningen = extract_province_trends1(page_links) #use the function\n",
    "print(mean_verkwoningen) #check if it works"
   ]
  },
  {
   "cell_type": "code",
   "execution_count": 103,
   "id": "c7f4c399",
   "metadata": {},
   "outputs": [
    {
     "data": {
      "text/html": [
       "<div>\n",
       "<style scoped>\n",
       "    .dataframe tbody tr th:only-of-type {\n",
       "        vertical-align: middle;\n",
       "    }\n",
       "\n",
       "    .dataframe tbody tr th {\n",
       "        vertical-align: top;\n",
       "    }\n",
       "\n",
       "    .dataframe thead th {\n",
       "        text-align: right;\n",
       "    }\n",
       "</style>\n",
       "<table border=\"1\" class=\"dataframe\">\n",
       "  <thead>\n",
       "    <tr style=\"text-align: right;\">\n",
       "      <th></th>\n",
       "      <th>Province</th>\n",
       "      <th>Verkochte woningen</th>\n",
       "      <th>%Δ Verkocht (t.o.v vorige maand)</th>\n",
       "    </tr>\n",
       "  </thead>\n",
       "  <tbody>\n",
       "    <tr>\n",
       "      <th>0</th>\n",
       "      <td>Noord-Holland</td>\n",
       "      <td>700</td>\n",
       "      <td>-40.68%</td>\n",
       "    </tr>\n",
       "    <tr>\n",
       "      <th>1</th>\n",
       "      <td>Zuid-Holland</td>\n",
       "      <td>917</td>\n",
       "      <td>-50.38%</td>\n",
       "    </tr>\n",
       "    <tr>\n",
       "      <th>2</th>\n",
       "      <td>Zeeland</td>\n",
       "      <td>127</td>\n",
       "      <td>-50.58%</td>\n",
       "    </tr>\n",
       "    <tr>\n",
       "      <th>3</th>\n",
       "      <td>Noord-Brabant</td>\n",
       "      <td>546</td>\n",
       "      <td>-54.58%</td>\n",
       "    </tr>\n",
       "    <tr>\n",
       "      <th>4</th>\n",
       "      <td>Utrecht</td>\n",
       "      <td>459</td>\n",
       "      <td>-24.63%</td>\n",
       "    </tr>\n",
       "    <tr>\n",
       "      <th>5</th>\n",
       "      <td>Flevoland</td>\n",
       "      <td>111</td>\n",
       "      <td>-52.56%</td>\n",
       "    </tr>\n",
       "    <tr>\n",
       "      <th>6</th>\n",
       "      <td>Friesland</td>\n",
       "      <td>258</td>\n",
       "      <td>-26.07%</td>\n",
       "    </tr>\n",
       "    <tr>\n",
       "      <th>7</th>\n",
       "      <td>Groningen</td>\n",
       "      <td>244</td>\n",
       "      <td>-24.69%</td>\n",
       "    </tr>\n",
       "    <tr>\n",
       "      <th>8</th>\n",
       "      <td>Drenthe</td>\n",
       "      <td>188</td>\n",
       "      <td>-35.62%</td>\n",
       "    </tr>\n",
       "    <tr>\n",
       "      <th>9</th>\n",
       "      <td>Overijssel</td>\n",
       "      <td>350</td>\n",
       "      <td>-30.42%</td>\n",
       "    </tr>\n",
       "    <tr>\n",
       "      <th>10</th>\n",
       "      <td>Gelderland</td>\n",
       "      <td>538</td>\n",
       "      <td>-46.25%</td>\n",
       "    </tr>\n",
       "    <tr>\n",
       "      <th>11</th>\n",
       "      <td>Limburg</td>\n",
       "      <td>289</td>\n",
       "      <td>-47.26%</td>\n",
       "    </tr>\n",
       "  </tbody>\n",
       "</table>\n",
       "</div>"
      ],
      "text/plain": [
       "         Province Verkochte woningen %Δ Verkocht (t.o.v vorige maand)\n",
       "0   Noord-Holland                700                          -40.68%\n",
       "1    Zuid-Holland                917                          -50.38%\n",
       "2         Zeeland                127                          -50.58%\n",
       "3   Noord-Brabant                546                          -54.58%\n",
       "4         Utrecht                459                          -24.63%\n",
       "5       Flevoland                111                          -52.56%\n",
       "6       Friesland                258                          -26.07%\n",
       "7       Groningen                244                          -24.69%\n",
       "8         Drenthe                188                          -35.62%\n",
       "9      Overijssel                350                          -30.42%\n",
       "10     Gelderland                538                          -46.25%\n",
       "11        Limburg                289                          -47.26%"
      ]
     },
     "execution_count": 103,
     "metadata": {},
     "output_type": "execute_result"
    }
   ],
   "source": [
    "pd.DataFrame(mean_verkwoningen)"
   ]
  },
  {
   "cell_type": "markdown",
   "id": "96b05b69",
   "metadata": {},
   "source": [
    "*Gemiddelde vierkante meter prijs:*"
   ]
  },
  {
   "cell_type": "code",
   "execution_count": 104,
   "id": "c4851836",
   "metadata": {},
   "outputs": [],
   "source": [
    "def extract_province_trends2(page_links):\n",
    "    trend_list2 = []\n",
    "    for page_link in page_links:\n",
    "        res = requests.get(page_link)\n",
    "        soup = BeautifulSoup(res.text, 'html.parser')\n",
    "        province_name = soup.find_all('h2')[0].get_text()\n",
    "        province_name1 = province_name.replace('Woningmarkt','')\n",
    "        province_name2 = province_name1.replace(\" \",'') #UPDATE: removed space before province name\n",
    "        trends = soup.find_all(class_='trend-graph')[2].get_text()\n",
    "        new_trend = trends.replace('\\n','')\n",
    "        new_trend1 = new_trend.replace('Gem. vierkantemeter prijs','')\n",
    "        m2prijs,change = new_trend1.split('                ',1)\n",
    "        change1 = change.replace(' t.o.v. vorige maand            ', '')\n",
    "        m2prijs1 = m2prijs.replace('.',',') #UPDATE: changed thousand separators to , instead of . \n",
    "        trend_list2.append({'Province':province_name2, 'Gem. m2 prijs':m2prijs1, '%Δ M2 prijs (t.o.v vorige maand)':change1})\n",
    "    return(trend_list2)"
   ]
  },
  {
   "cell_type": "code",
   "execution_count": 105,
   "id": "0f359018",
   "metadata": {},
   "outputs": [
    {
     "name": "stdout",
     "output_type": "stream",
     "text": [
      "[{'Province': 'Noord-Holland', 'Gem. m2 prijs': '€\\xa04,527', '%Δ M2 prijs (t.o.v vorige maand)': '11.28%'}, {'Province': 'Zuid-Holland', 'Gem. m2 prijs': '€\\xa03,626', '%Δ M2 prijs (t.o.v vorige maand)': '5.84%'}, {'Province': 'Zeeland', 'Gem. m2 prijs': '€\\xa02,627', '%Δ M2 prijs (t.o.v vorige maand)': '2.58%'}, {'Province': 'Noord-Brabant', 'Gem. m2 prijs': '€\\xa03,214', '%Δ M2 prijs (t.o.v vorige maand)': '5.97%'}, {'Province': 'Utrecht', 'Gem. m2 prijs': '€\\xa04,200', '%Δ M2 prijs (t.o.v vorige maand)': '4.30%'}, {'Province': 'Flevoland', 'Gem. m2 prijs': '€\\xa02,941', '%Δ M2 prijs (t.o.v vorige maand)': '-0.47%'}, {'Province': 'Friesland', 'Gem. m2 prijs': '€\\xa02,450', '%Δ M2 prijs (t.o.v vorige maand)': '-1.21%'}, {'Province': 'Groningen', 'Gem. m2 prijs': '€\\xa02,572', '%Δ M2 prijs (t.o.v vorige maand)': '9.12%'}, {'Province': 'Drenthe', 'Gem. m2 prijs': '€\\xa02,475', '%Δ M2 prijs (t.o.v vorige maand)': '0.69%'}, {'Province': 'Overijssel', 'Gem. m2 prijs': '€\\xa02,734', '%Δ M2 prijs (t.o.v vorige maand)': '4.95%'}, {'Province': 'Gelderland', 'Gem. m2 prijs': '€\\xa03,134', '%Δ M2 prijs (t.o.v vorige maand)': '2.59%'}, {'Province': 'Limburg', 'Gem. m2 prijs': '€\\xa02,481', '%Δ M2 prijs (t.o.v vorige maand)': '5.40%'}]\n"
     ]
    }
   ],
   "source": [
    "mean_m2prijs = extract_province_trends2(page_links) #use the function \n",
    "print(mean_m2prijs) #check whether it works"
   ]
  },
  {
   "cell_type": "code",
   "execution_count": 106,
   "id": "8ec1931c",
   "metadata": {},
   "outputs": [
    {
     "data": {
      "text/html": [
       "<div>\n",
       "<style scoped>\n",
       "    .dataframe tbody tr th:only-of-type {\n",
       "        vertical-align: middle;\n",
       "    }\n",
       "\n",
       "    .dataframe tbody tr th {\n",
       "        vertical-align: top;\n",
       "    }\n",
       "\n",
       "    .dataframe thead th {\n",
       "        text-align: right;\n",
       "    }\n",
       "</style>\n",
       "<table border=\"1\" class=\"dataframe\">\n",
       "  <thead>\n",
       "    <tr style=\"text-align: right;\">\n",
       "      <th></th>\n",
       "      <th>Province</th>\n",
       "      <th>Gem. m2 prijs</th>\n",
       "      <th>%Δ M2 prijs (t.o.v vorige maand)</th>\n",
       "    </tr>\n",
       "  </thead>\n",
       "  <tbody>\n",
       "    <tr>\n",
       "      <th>0</th>\n",
       "      <td>Noord-Holland</td>\n",
       "      <td>€ 4,527</td>\n",
       "      <td>11.28%</td>\n",
       "    </tr>\n",
       "    <tr>\n",
       "      <th>1</th>\n",
       "      <td>Zuid-Holland</td>\n",
       "      <td>€ 3,626</td>\n",
       "      <td>5.84%</td>\n",
       "    </tr>\n",
       "    <tr>\n",
       "      <th>2</th>\n",
       "      <td>Zeeland</td>\n",
       "      <td>€ 2,627</td>\n",
       "      <td>2.58%</td>\n",
       "    </tr>\n",
       "    <tr>\n",
       "      <th>3</th>\n",
       "      <td>Noord-Brabant</td>\n",
       "      <td>€ 3,214</td>\n",
       "      <td>5.97%</td>\n",
       "    </tr>\n",
       "    <tr>\n",
       "      <th>4</th>\n",
       "      <td>Utrecht</td>\n",
       "      <td>€ 4,200</td>\n",
       "      <td>4.30%</td>\n",
       "    </tr>\n",
       "    <tr>\n",
       "      <th>5</th>\n",
       "      <td>Flevoland</td>\n",
       "      <td>€ 2,941</td>\n",
       "      <td>-0.47%</td>\n",
       "    </tr>\n",
       "    <tr>\n",
       "      <th>6</th>\n",
       "      <td>Friesland</td>\n",
       "      <td>€ 2,450</td>\n",
       "      <td>-1.21%</td>\n",
       "    </tr>\n",
       "    <tr>\n",
       "      <th>7</th>\n",
       "      <td>Groningen</td>\n",
       "      <td>€ 2,572</td>\n",
       "      <td>9.12%</td>\n",
       "    </tr>\n",
       "    <tr>\n",
       "      <th>8</th>\n",
       "      <td>Drenthe</td>\n",
       "      <td>€ 2,475</td>\n",
       "      <td>0.69%</td>\n",
       "    </tr>\n",
       "    <tr>\n",
       "      <th>9</th>\n",
       "      <td>Overijssel</td>\n",
       "      <td>€ 2,734</td>\n",
       "      <td>4.95%</td>\n",
       "    </tr>\n",
       "    <tr>\n",
       "      <th>10</th>\n",
       "      <td>Gelderland</td>\n",
       "      <td>€ 3,134</td>\n",
       "      <td>2.59%</td>\n",
       "    </tr>\n",
       "    <tr>\n",
       "      <th>11</th>\n",
       "      <td>Limburg</td>\n",
       "      <td>€ 2,481</td>\n",
       "      <td>5.40%</td>\n",
       "    </tr>\n",
       "  </tbody>\n",
       "</table>\n",
       "</div>"
      ],
      "text/plain": [
       "         Province Gem. m2 prijs %Δ M2 prijs (t.o.v vorige maand)\n",
       "0   Noord-Holland       € 4,527                           11.28%\n",
       "1    Zuid-Holland       € 3,626                            5.84%\n",
       "2         Zeeland       € 2,627                            2.58%\n",
       "3   Noord-Brabant       € 3,214                            5.97%\n",
       "4         Utrecht       € 4,200                            4.30%\n",
       "5       Flevoland       € 2,941                           -0.47%\n",
       "6       Friesland       € 2,450                           -1.21%\n",
       "7       Groningen       € 2,572                            9.12%\n",
       "8         Drenthe       € 2,475                            0.69%\n",
       "9      Overijssel       € 2,734                            4.95%\n",
       "10     Gelderland       € 3,134                            2.59%\n",
       "11        Limburg       € 2,481                            5.40%"
      ]
     },
     "execution_count": 106,
     "metadata": {},
     "output_type": "execute_result"
    }
   ],
   "source": [
    "pd.DataFrame(mean_m2prijs)"
   ]
  },
  {
   "cell_type": "markdown",
   "id": "92054394",
   "metadata": {},
   "source": [
    "*Percentage overboden:*"
   ]
  },
  {
   "cell_type": "code",
   "execution_count": 107,
   "id": "94a167fc",
   "metadata": {},
   "outputs": [],
   "source": [
    "def extract_province_trends3(page_links):\n",
    "    trend_list3 = []\n",
    "    for page_link in page_links:\n",
    "        res = requests.get(page_link)\n",
    "        soup = BeautifulSoup(res.text, 'html.parser')\n",
    "        province_name = soup.find_all('h2')[0].get_text()\n",
    "        province_name1 = province_name.replace('Woningmarkt','')\n",
    "        province_name2 = province_name1.replace(\" \",'') #UPDATE: removed space before province name\n",
    "        trends = soup.find_all(class_='trend-graph')[3].get_text()\n",
    "        new_trend = trends.replace('\\n','')\n",
    "        new_trend1 = new_trend.replace('Percentage overboden','')\n",
    "        overboden,change = new_trend1.split('                ',1)\n",
    "        change1 = change.replace(' t.o.v. vorige maand            ', '')\n",
    "        trend_list3.append({'Province':province_name2, '% Vraagprijs overboden':overboden, '%Δ Overboden (t.o.v vorige maand)': change1})\n",
    "    return(trend_list3)"
   ]
  },
  {
   "cell_type": "code",
   "execution_count": 108,
   "id": "5ac98a68",
   "metadata": {},
   "outputs": [
    {
     "name": "stdout",
     "output_type": "stream",
     "text": [
      "[{'Province': 'Noord-Holland', '% Vraagprijs overboden': '12.66%', '%Δ Overboden (t.o.v vorige maand)': '1.08%'}, {'Province': 'Zuid-Holland', '% Vraagprijs overboden': '10.21%', '%Δ Overboden (t.o.v vorige maand)': '0.77%'}, {'Province': 'Zeeland', '% Vraagprijs overboden': '8.13%', '%Δ Overboden (t.o.v vorige maand)': '0.13%'}, {'Province': 'Noord-Brabant', '% Vraagprijs overboden': '7.87%', '%Δ Overboden (t.o.v vorige maand)': '0.88%'}, {'Province': 'Utrecht', '% Vraagprijs overboden': '11.97%', '%Δ Overboden (t.o.v vorige maand)': '0.77%'}, {'Province': 'Flevoland', '% Vraagprijs overboden': '14.71%', '%Δ Overboden (t.o.v vorige maand)': '1.08%'}, {'Province': 'Friesland', '% Vraagprijs overboden': '10.64%', '%Δ Overboden (t.o.v vorige maand)': '1.94%'}, {'Province': 'Groningen', '% Vraagprijs overboden': '15.76%', '%Δ Overboden (t.o.v vorige maand)': '1.33%'}, {'Province': 'Drenthe', '% Vraagprijs overboden': '10.49%', '%Δ Overboden (t.o.v vorige maand)': '1.41%'}, {'Province': 'Overijssel', '% Vraagprijs overboden': '9.83%', '%Δ Overboden (t.o.v vorige maand)': '1.36%'}, {'Province': 'Gelderland', '% Vraagprijs overboden': '10.55%', '%Δ Overboden (t.o.v vorige maand)': '0.49%'}, {'Province': 'Limburg', '% Vraagprijs overboden': '8.87%', '%Δ Overboden (t.o.v vorige maand)': '0.73%'}]\n"
     ]
    }
   ],
   "source": [
    "mean_overboden = extract_province_trends3(page_links) #use the function \n",
    "print(mean_overboden) #make sure it works"
   ]
  },
  {
   "cell_type": "code",
   "execution_count": 109,
   "id": "225ccf1b",
   "metadata": {},
   "outputs": [
    {
     "data": {
      "text/html": [
       "<div>\n",
       "<style scoped>\n",
       "    .dataframe tbody tr th:only-of-type {\n",
       "        vertical-align: middle;\n",
       "    }\n",
       "\n",
       "    .dataframe tbody tr th {\n",
       "        vertical-align: top;\n",
       "    }\n",
       "\n",
       "    .dataframe thead th {\n",
       "        text-align: right;\n",
       "    }\n",
       "</style>\n",
       "<table border=\"1\" class=\"dataframe\">\n",
       "  <thead>\n",
       "    <tr style=\"text-align: right;\">\n",
       "      <th></th>\n",
       "      <th>Province</th>\n",
       "      <th>% Vraagprijs overboden</th>\n",
       "      <th>%Δ Overboden (t.o.v vorige maand)</th>\n",
       "    </tr>\n",
       "  </thead>\n",
       "  <tbody>\n",
       "    <tr>\n",
       "      <th>0</th>\n",
       "      <td>Noord-Holland</td>\n",
       "      <td>12.66%</td>\n",
       "      <td>1.08%</td>\n",
       "    </tr>\n",
       "    <tr>\n",
       "      <th>1</th>\n",
       "      <td>Zuid-Holland</td>\n",
       "      <td>10.21%</td>\n",
       "      <td>0.77%</td>\n",
       "    </tr>\n",
       "    <tr>\n",
       "      <th>2</th>\n",
       "      <td>Zeeland</td>\n",
       "      <td>8.13%</td>\n",
       "      <td>0.13%</td>\n",
       "    </tr>\n",
       "    <tr>\n",
       "      <th>3</th>\n",
       "      <td>Noord-Brabant</td>\n",
       "      <td>7.87%</td>\n",
       "      <td>0.88%</td>\n",
       "    </tr>\n",
       "    <tr>\n",
       "      <th>4</th>\n",
       "      <td>Utrecht</td>\n",
       "      <td>11.97%</td>\n",
       "      <td>0.77%</td>\n",
       "    </tr>\n",
       "    <tr>\n",
       "      <th>5</th>\n",
       "      <td>Flevoland</td>\n",
       "      <td>14.71%</td>\n",
       "      <td>1.08%</td>\n",
       "    </tr>\n",
       "    <tr>\n",
       "      <th>6</th>\n",
       "      <td>Friesland</td>\n",
       "      <td>10.64%</td>\n",
       "      <td>1.94%</td>\n",
       "    </tr>\n",
       "    <tr>\n",
       "      <th>7</th>\n",
       "      <td>Groningen</td>\n",
       "      <td>15.76%</td>\n",
       "      <td>1.33%</td>\n",
       "    </tr>\n",
       "    <tr>\n",
       "      <th>8</th>\n",
       "      <td>Drenthe</td>\n",
       "      <td>10.49%</td>\n",
       "      <td>1.41%</td>\n",
       "    </tr>\n",
       "    <tr>\n",
       "      <th>9</th>\n",
       "      <td>Overijssel</td>\n",
       "      <td>9.83%</td>\n",
       "      <td>1.36%</td>\n",
       "    </tr>\n",
       "    <tr>\n",
       "      <th>10</th>\n",
       "      <td>Gelderland</td>\n",
       "      <td>10.55%</td>\n",
       "      <td>0.49%</td>\n",
       "    </tr>\n",
       "    <tr>\n",
       "      <th>11</th>\n",
       "      <td>Limburg</td>\n",
       "      <td>8.87%</td>\n",
       "      <td>0.73%</td>\n",
       "    </tr>\n",
       "  </tbody>\n",
       "</table>\n",
       "</div>"
      ],
      "text/plain": [
       "         Province % Vraagprijs overboden %Δ Overboden (t.o.v vorige maand)\n",
       "0   Noord-Holland                 12.66%                             1.08%\n",
       "1    Zuid-Holland                 10.21%                             0.77%\n",
       "2         Zeeland                  8.13%                             0.13%\n",
       "3   Noord-Brabant                  7.87%                             0.88%\n",
       "4         Utrecht                 11.97%                             0.77%\n",
       "5       Flevoland                 14.71%                             1.08%\n",
       "6       Friesland                 10.64%                             1.94%\n",
       "7       Groningen                 15.76%                             1.33%\n",
       "8         Drenthe                 10.49%                             1.41%\n",
       "9      Overijssel                  9.83%                             1.36%\n",
       "10     Gelderland                 10.55%                             0.49%\n",
       "11        Limburg                  8.87%                             0.73%"
      ]
     },
     "execution_count": 109,
     "metadata": {},
     "output_type": "execute_result"
    }
   ],
   "source": [
    "pd.DataFrame(mean_overboden)"
   ]
  },
  {
   "cell_type": "markdown",
   "id": "4cbbfa5a",
   "metadata": {},
   "source": [
    "*Besteedbaar inkomen:*"
   ]
  },
  {
   "cell_type": "code",
   "execution_count": 110,
   "id": "efe17526",
   "metadata": {},
   "outputs": [],
   "source": [
    "def extract_besteedbaar(page_links):\n",
    "    besteed_inkomen = []\n",
    "    for page_link in page_links:\n",
    "        res = requests.get(page_link)\n",
    "        soup = BeautifulSoup(res.text, 'html.parser')\n",
    "        province_name = soup.find_all('h2')[0].get_text()\n",
    "        province_name1 = province_name.replace('Woningmarkt','')\n",
    "        province_name2 = province_name1.replace(\" \",'') #UPDATE: removed space before province name\n",
    "        inkomen = soup.find_all(class_='detail__income huizenzoeker-card single-value-graph-container')[0].get_text()\n",
    "        new_inkomen = inkomen.replace('\\n','')\n",
    "        new_inkomen1 = new_inkomen.replace('Besteedbaar Inkomen Per Huishouden','')\n",
    "        new_inkomen2 = new_inkomen1.replace('.',',') #UPDATE: changed thousand separators to , instead of . \n",
    "        besteed_inkomen.append({'Province':province_name2, 'Besteedbaar inkomen (per huishouden)':new_inkomen2})\n",
    "    return(besteed_inkomen)"
   ]
  },
  {
   "cell_type": "code",
   "execution_count": 111,
   "id": "ffea0122",
   "metadata": {},
   "outputs": [
    {
     "name": "stdout",
     "output_type": "stream",
     "text": [
      "[{'Province': 'Noord-Holland', 'Besteedbaar inkomen (per huishouden)': '€ 36,200'}, {'Province': 'Zuid-Holland', 'Besteedbaar inkomen (per huishouden)': '€ 35,800'}, {'Province': 'Zeeland', 'Besteedbaar inkomen (per huishouden)': '€ 36,900'}, {'Province': 'Noord-Brabant', 'Besteedbaar inkomen (per huishouden)': '€ 38,100'}, {'Province': 'Utrecht', 'Besteedbaar inkomen (per huishouden)': '€ 39,500'}, {'Province': 'Flevoland', 'Besteedbaar inkomen (per huishouden)': '€ 39,500'}, {'Province': 'Friesland', 'Besteedbaar inkomen (per huishouden)': '€ 34,900'}, {'Province': 'Groningen', 'Besteedbaar inkomen (per huishouden)': '€ 30,600'}, {'Province': 'Drenthe', 'Besteedbaar inkomen (per huishouden)': '€ 37,100'}, {'Province': 'Overijssel', 'Besteedbaar inkomen (per huishouden)': '€ 36,900'}, {'Province': 'Gelderland', 'Besteedbaar inkomen (per huishouden)': '€ 37,500'}, {'Province': 'Limburg', 'Besteedbaar inkomen (per huishouden)': '€ 34,800'}]\n"
     ]
    }
   ],
   "source": [
    "mean_inkomen = extract_besteedbaar(page_links) #use the function \n",
    "print(mean_inkomen) #check whether it works"
   ]
  },
  {
   "cell_type": "code",
   "execution_count": 112,
   "id": "c06a9005",
   "metadata": {},
   "outputs": [
    {
     "data": {
      "text/html": [
       "<div>\n",
       "<style scoped>\n",
       "    .dataframe tbody tr th:only-of-type {\n",
       "        vertical-align: middle;\n",
       "    }\n",
       "\n",
       "    .dataframe tbody tr th {\n",
       "        vertical-align: top;\n",
       "    }\n",
       "\n",
       "    .dataframe thead th {\n",
       "        text-align: right;\n",
       "    }\n",
       "</style>\n",
       "<table border=\"1\" class=\"dataframe\">\n",
       "  <thead>\n",
       "    <tr style=\"text-align: right;\">\n",
       "      <th></th>\n",
       "      <th>Province</th>\n",
       "      <th>Besteedbaar inkomen (per huishouden)</th>\n",
       "    </tr>\n",
       "  </thead>\n",
       "  <tbody>\n",
       "    <tr>\n",
       "      <th>0</th>\n",
       "      <td>Noord-Holland</td>\n",
       "      <td>€ 36,200</td>\n",
       "    </tr>\n",
       "    <tr>\n",
       "      <th>1</th>\n",
       "      <td>Zuid-Holland</td>\n",
       "      <td>€ 35,800</td>\n",
       "    </tr>\n",
       "    <tr>\n",
       "      <th>2</th>\n",
       "      <td>Zeeland</td>\n",
       "      <td>€ 36,900</td>\n",
       "    </tr>\n",
       "    <tr>\n",
       "      <th>3</th>\n",
       "      <td>Noord-Brabant</td>\n",
       "      <td>€ 38,100</td>\n",
       "    </tr>\n",
       "    <tr>\n",
       "      <th>4</th>\n",
       "      <td>Utrecht</td>\n",
       "      <td>€ 39,500</td>\n",
       "    </tr>\n",
       "    <tr>\n",
       "      <th>5</th>\n",
       "      <td>Flevoland</td>\n",
       "      <td>€ 39,500</td>\n",
       "    </tr>\n",
       "    <tr>\n",
       "      <th>6</th>\n",
       "      <td>Friesland</td>\n",
       "      <td>€ 34,900</td>\n",
       "    </tr>\n",
       "    <tr>\n",
       "      <th>7</th>\n",
       "      <td>Groningen</td>\n",
       "      <td>€ 30,600</td>\n",
       "    </tr>\n",
       "    <tr>\n",
       "      <th>8</th>\n",
       "      <td>Drenthe</td>\n",
       "      <td>€ 37,100</td>\n",
       "    </tr>\n",
       "    <tr>\n",
       "      <th>9</th>\n",
       "      <td>Overijssel</td>\n",
       "      <td>€ 36,900</td>\n",
       "    </tr>\n",
       "    <tr>\n",
       "      <th>10</th>\n",
       "      <td>Gelderland</td>\n",
       "      <td>€ 37,500</td>\n",
       "    </tr>\n",
       "    <tr>\n",
       "      <th>11</th>\n",
       "      <td>Limburg</td>\n",
       "      <td>€ 34,800</td>\n",
       "    </tr>\n",
       "  </tbody>\n",
       "</table>\n",
       "</div>"
      ],
      "text/plain": [
       "         Province Besteedbaar inkomen (per huishouden)\n",
       "0   Noord-Holland                             € 36,200\n",
       "1    Zuid-Holland                             € 35,800\n",
       "2         Zeeland                             € 36,900\n",
       "3   Noord-Brabant                             € 38,100\n",
       "4         Utrecht                             € 39,500\n",
       "5       Flevoland                             € 39,500\n",
       "6       Friesland                             € 34,900\n",
       "7       Groningen                             € 30,600\n",
       "8         Drenthe                             € 37,100\n",
       "9      Overijssel                             € 36,900\n",
       "10     Gelderland                             € 37,500\n",
       "11        Limburg                             € 34,800"
      ]
     },
     "execution_count": 112,
     "metadata": {},
     "output_type": "execute_result"
    }
   ],
   "source": [
    "pd.DataFrame(mean_inkomen)"
   ]
  },
  {
   "cell_type": "markdown",
   "id": "b4375134",
   "metadata": {},
   "source": [
    "*Merging the dataframes:*"
   ]
  },
  {
   "cell_type": "code",
   "execution_count": 113,
   "id": "d571fce9",
   "metadata": {},
   "outputs": [],
   "source": [
    "df1 = pd.DataFrame(mean_vraagprijs).set_index('Province') #gemiddelde vraagprijs\n",
    "df2 = pd.DataFrame(mean_verkwoningen).set_index('Province') #aantal verkochte woningen\n",
    "df3 = pd.DataFrame(mean_m2prijs).set_index('Province') #gemiddelde m2 prijs\n",
    "df4 = pd.DataFrame(mean_overboden).set_index('Province') #percentage overboden\n",
    "df5 = pd.DataFrame(mean_inkomen).set_index('Province') #besteedbaar inkomen\n",
    "#add a dataframe for the inhabitants data, once finished. "
   ]
  },
  {
   "cell_type": "code",
   "execution_count": 114,
   "id": "e7e607c6",
   "metadata": {},
   "outputs": [],
   "source": [
    "data_frames = [df1,df2,df3,df4,df5] #now we combine the dataframes into one single dataframe"
   ]
  },
  {
   "cell_type": "code",
   "execution_count": 115,
   "id": "650523ac",
   "metadata": {},
   "outputs": [
    {
     "data": {
      "text/html": [
       "<div>\n",
       "<style scoped>\n",
       "    .dataframe tbody tr th:only-of-type {\n",
       "        vertical-align: middle;\n",
       "    }\n",
       "\n",
       "    .dataframe tbody tr th {\n",
       "        vertical-align: top;\n",
       "    }\n",
       "\n",
       "    .dataframe thead th {\n",
       "        text-align: right;\n",
       "    }\n",
       "</style>\n",
       "<table border=\"1\" class=\"dataframe\">\n",
       "  <thead>\n",
       "    <tr style=\"text-align: right;\">\n",
       "      <th></th>\n",
       "      <th>Gem. vraagprijs</th>\n",
       "      <th>%Δ Vraagprijs (t.o.v vorige maand)</th>\n",
       "      <th>Verkochte woningen</th>\n",
       "      <th>%Δ Verkocht (t.o.v vorige maand)</th>\n",
       "      <th>Gem. m2 prijs</th>\n",
       "      <th>%Δ M2 prijs (t.o.v vorige maand)</th>\n",
       "      <th>% Vraagprijs overboden</th>\n",
       "      <th>%Δ Overboden (t.o.v vorige maand)</th>\n",
       "      <th>Besteedbaar inkomen (per huishouden)</th>\n",
       "    </tr>\n",
       "    <tr>\n",
       "      <th>Province</th>\n",
       "      <th></th>\n",
       "      <th></th>\n",
       "      <th></th>\n",
       "      <th></th>\n",
       "      <th></th>\n",
       "      <th></th>\n",
       "      <th></th>\n",
       "      <th></th>\n",
       "      <th></th>\n",
       "    </tr>\n",
       "  </thead>\n",
       "  <tbody>\n",
       "    <tr>\n",
       "      <th>Noord-Holland</th>\n",
       "      <td>€ 445,000</td>\n",
       "      <td>18.67%</td>\n",
       "      <td>700</td>\n",
       "      <td>-40.68%</td>\n",
       "      <td>€ 4,527</td>\n",
       "      <td>11.28%</td>\n",
       "      <td>12.66%</td>\n",
       "      <td>1.08%</td>\n",
       "      <td>€ 36,200</td>\n",
       "    </tr>\n",
       "    <tr>\n",
       "      <th>Zuid-Holland</th>\n",
       "      <td>€ 360,000</td>\n",
       "      <td>7.46%</td>\n",
       "      <td>917</td>\n",
       "      <td>-50.38%</td>\n",
       "      <td>€ 3,626</td>\n",
       "      <td>5.84%</td>\n",
       "      <td>10.21%</td>\n",
       "      <td>0.77%</td>\n",
       "      <td>€ 35,800</td>\n",
       "    </tr>\n",
       "    <tr>\n",
       "      <th>Zeeland</th>\n",
       "      <td>€ 269,950</td>\n",
       "      <td>-1.75%</td>\n",
       "      <td>127</td>\n",
       "      <td>-50.58%</td>\n",
       "      <td>€ 2,627</td>\n",
       "      <td>2.58%</td>\n",
       "      <td>8.13%</td>\n",
       "      <td>0.13%</td>\n",
       "      <td>€ 36,900</td>\n",
       "    </tr>\n",
       "    <tr>\n",
       "      <th>Noord-Brabant</th>\n",
       "      <td>€ 350,000</td>\n",
       "      <td>3.24%</td>\n",
       "      <td>546</td>\n",
       "      <td>-54.58%</td>\n",
       "      <td>€ 3,214</td>\n",
       "      <td>5.97%</td>\n",
       "      <td>7.87%</td>\n",
       "      <td>0.88%</td>\n",
       "      <td>€ 38,100</td>\n",
       "    </tr>\n",
       "    <tr>\n",
       "      <th>Utrecht</th>\n",
       "      <td>€ 439,000</td>\n",
       "      <td>14.03%</td>\n",
       "      <td>459</td>\n",
       "      <td>-24.63%</td>\n",
       "      <td>€ 4,200</td>\n",
       "      <td>4.30%</td>\n",
       "      <td>11.97%</td>\n",
       "      <td>0.77%</td>\n",
       "      <td>€ 39,500</td>\n",
       "    </tr>\n",
       "    <tr>\n",
       "      <th>Flevoland</th>\n",
       "      <td>€ 342,500</td>\n",
       "      <td>5.38%</td>\n",
       "      <td>111</td>\n",
       "      <td>-52.56%</td>\n",
       "      <td>€ 2,941</td>\n",
       "      <td>-0.47%</td>\n",
       "      <td>14.71%</td>\n",
       "      <td>1.08%</td>\n",
       "      <td>€ 39,500</td>\n",
       "    </tr>\n",
       "    <tr>\n",
       "      <th>Friesland</th>\n",
       "      <td>€ 289,000</td>\n",
       "      <td>3.21%</td>\n",
       "      <td>258</td>\n",
       "      <td>-26.07%</td>\n",
       "      <td>€ 2,450</td>\n",
       "      <td>-1.21%</td>\n",
       "      <td>10.64%</td>\n",
       "      <td>1.94%</td>\n",
       "      <td>€ 34,900</td>\n",
       "    </tr>\n",
       "    <tr>\n",
       "      <th>Groningen</th>\n",
       "      <td>€ 259,500</td>\n",
       "      <td>15.33%</td>\n",
       "      <td>244</td>\n",
       "      <td>-24.69%</td>\n",
       "      <td>€ 2,572</td>\n",
       "      <td>9.12%</td>\n",
       "      <td>15.76%</td>\n",
       "      <td>1.33%</td>\n",
       "      <td>€ 30,600</td>\n",
       "    </tr>\n",
       "    <tr>\n",
       "      <th>Drenthe</th>\n",
       "      <td>€ 305,000</td>\n",
       "      <td>3.39%</td>\n",
       "      <td>188</td>\n",
       "      <td>-35.62%</td>\n",
       "      <td>€ 2,475</td>\n",
       "      <td>0.69%</td>\n",
       "      <td>10.49%</td>\n",
       "      <td>1.41%</td>\n",
       "      <td>€ 37,100</td>\n",
       "    </tr>\n",
       "    <tr>\n",
       "      <th>Overijssel</th>\n",
       "      <td>€ 300,000</td>\n",
       "      <td>0.67%</td>\n",
       "      <td>350</td>\n",
       "      <td>-30.42%</td>\n",
       "      <td>€ 2,734</td>\n",
       "      <td>4.95%</td>\n",
       "      <td>9.83%</td>\n",
       "      <td>1.36%</td>\n",
       "      <td>€ 36,900</td>\n",
       "    </tr>\n",
       "    <tr>\n",
       "      <th>Gelderland</th>\n",
       "      <td>€ 365,000</td>\n",
       "      <td>8.96%</td>\n",
       "      <td>538</td>\n",
       "      <td>-46.25%</td>\n",
       "      <td>€ 3,134</td>\n",
       "      <td>2.59%</td>\n",
       "      <td>10.55%</td>\n",
       "      <td>0.49%</td>\n",
       "      <td>€ 37,500</td>\n",
       "    </tr>\n",
       "    <tr>\n",
       "      <th>Limburg</th>\n",
       "      <td>€ 279,000</td>\n",
       "      <td>1.45%</td>\n",
       "      <td>289</td>\n",
       "      <td>-47.26%</td>\n",
       "      <td>€ 2,481</td>\n",
       "      <td>5.40%</td>\n",
       "      <td>8.87%</td>\n",
       "      <td>0.73%</td>\n",
       "      <td>€ 34,800</td>\n",
       "    </tr>\n",
       "  </tbody>\n",
       "</table>\n",
       "</div>"
      ],
      "text/plain": [
       "              Gem. vraagprijs %Δ Vraagprijs (t.o.v vorige maand)  \\\n",
       "Province                                                           \n",
       "Noord-Holland       € 445,000                             18.67%   \n",
       "Zuid-Holland        € 360,000                              7.46%   \n",
       "Zeeland             € 269,950                             -1.75%   \n",
       "Noord-Brabant       € 350,000                              3.24%   \n",
       "Utrecht             € 439,000                             14.03%   \n",
       "Flevoland           € 342,500                              5.38%   \n",
       "Friesland           € 289,000                              3.21%   \n",
       "Groningen           € 259,500                             15.33%   \n",
       "Drenthe             € 305,000                              3.39%   \n",
       "Overijssel          € 300,000                              0.67%   \n",
       "Gelderland          € 365,000                              8.96%   \n",
       "Limburg             € 279,000                              1.45%   \n",
       "\n",
       "              Verkochte woningen %Δ Verkocht (t.o.v vorige maand)  \\\n",
       "Province                                                            \n",
       "Noord-Holland                700                          -40.68%   \n",
       "Zuid-Holland                 917                          -50.38%   \n",
       "Zeeland                      127                          -50.58%   \n",
       "Noord-Brabant                546                          -54.58%   \n",
       "Utrecht                      459                          -24.63%   \n",
       "Flevoland                    111                          -52.56%   \n",
       "Friesland                    258                          -26.07%   \n",
       "Groningen                    244                          -24.69%   \n",
       "Drenthe                      188                          -35.62%   \n",
       "Overijssel                   350                          -30.42%   \n",
       "Gelderland                   538                          -46.25%   \n",
       "Limburg                      289                          -47.26%   \n",
       "\n",
       "              Gem. m2 prijs %Δ M2 prijs (t.o.v vorige maand)  \\\n",
       "Province                                                       \n",
       "Noord-Holland       € 4,527                           11.28%   \n",
       "Zuid-Holland        € 3,626                            5.84%   \n",
       "Zeeland             € 2,627                            2.58%   \n",
       "Noord-Brabant       € 3,214                            5.97%   \n",
       "Utrecht             € 4,200                            4.30%   \n",
       "Flevoland           € 2,941                           -0.47%   \n",
       "Friesland           € 2,450                           -1.21%   \n",
       "Groningen           € 2,572                            9.12%   \n",
       "Drenthe             € 2,475                            0.69%   \n",
       "Overijssel          € 2,734                            4.95%   \n",
       "Gelderland          € 3,134                            2.59%   \n",
       "Limburg             € 2,481                            5.40%   \n",
       "\n",
       "              % Vraagprijs overboden %Δ Overboden (t.o.v vorige maand)  \\\n",
       "Province                                                                 \n",
       "Noord-Holland                 12.66%                             1.08%   \n",
       "Zuid-Holland                  10.21%                             0.77%   \n",
       "Zeeland                        8.13%                             0.13%   \n",
       "Noord-Brabant                  7.87%                             0.88%   \n",
       "Utrecht                       11.97%                             0.77%   \n",
       "Flevoland                     14.71%                             1.08%   \n",
       "Friesland                     10.64%                             1.94%   \n",
       "Groningen                     15.76%                             1.33%   \n",
       "Drenthe                       10.49%                             1.41%   \n",
       "Overijssel                     9.83%                             1.36%   \n",
       "Gelderland                    10.55%                             0.49%   \n",
       "Limburg                        8.87%                             0.73%   \n",
       "\n",
       "              Besteedbaar inkomen (per huishouden)  \n",
       "Province                                            \n",
       "Noord-Holland                             € 36,200  \n",
       "Zuid-Holland                              € 35,800  \n",
       "Zeeland                                   € 36,900  \n",
       "Noord-Brabant                             € 38,100  \n",
       "Utrecht                                   € 39,500  \n",
       "Flevoland                                 € 39,500  \n",
       "Friesland                                 € 34,900  \n",
       "Groningen                                 € 30,600  \n",
       "Drenthe                                   € 37,100  \n",
       "Overijssel                                € 36,900  \n",
       "Gelderland                                € 37,500  \n",
       "Limburg                                   € 34,800  "
      ]
     },
     "execution_count": 115,
     "metadata": {},
     "output_type": "execute_result"
    }
   ],
   "source": [
    "df_province_summary = reduce(lambda left,right: pd.merge(left,right,on=['Province'],how='outer'),data_frames)\n",
    "df_province_summary"
   ]
  },
  {
   "cell_type": "code",
   "execution_count": null,
   "id": "fada7f2b",
   "metadata": {},
   "outputs": [],
   "source": []
  }
 ],
 "metadata": {
  "kernelspec": {
   "display_name": "Python 3 (ipykernel)",
   "language": "python",
   "name": "python3"
  },
  "language_info": {
   "codemirror_mode": {
    "name": "ipython",
    "version": 3
   },
   "file_extension": ".py",
   "mimetype": "text/x-python",
   "name": "python",
   "nbconvert_exporter": "python",
   "pygments_lexer": "ipython3",
   "version": "3.8.8"
  }
 },
 "nbformat": 4,
 "nbformat_minor": 5
}
